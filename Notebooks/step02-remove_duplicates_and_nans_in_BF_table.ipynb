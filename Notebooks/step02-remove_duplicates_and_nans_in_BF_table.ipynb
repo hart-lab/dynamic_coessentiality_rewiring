{
 "cells": [
  {
   "cell_type": "code",
   "execution_count": 1,
   "id": "skilled-anime",
   "metadata": {},
   "outputs": [
    {
     "name": "stdout",
     "output_type": "stream",
     "text": [
      "Populating the interactive namespace from numpy and matplotlib\n"
     ]
    }
   ],
   "source": [
    "%pylab inline\n",
    "import pandas as pd"
   ]
  },
  {
   "cell_type": "code",
   "execution_count": 2,
   "id": "intelligent-mercy",
   "metadata": {},
   "outputs": [],
   "source": [
    "sys.path.append('/home/traver/pymodules')\n",
    "import hartware as hw"
   ]
  },
  {
   "cell_type": "markdown",
   "id": "professional-secondary",
   "metadata": {},
   "source": [
    "# Load raw features"
   ]
  },
  {
   "cell_type": "code",
   "execution_count": 3,
   "id": "worth-harmony",
   "metadata": {},
   "outputs": [
    {
     "name": "stdout",
     "output_type": "stream",
     "text": [
      "<class 'pandas.core.frame.DataFrame'>\n",
      "Index: 808 entries, ACH-001172 to ACH-002510\n",
      "Columns: 2931 entries, plasma_cell to CDH_VIM_lo\n",
      "dtypes: bool(2931)\n",
      "memory usage: 2.3+ MB\n"
     ]
    }
   ],
   "source": [
    "feats = pd.read_table('./Data/binFeats-cells-metadata-lof-gof-emt-2931feats-808cells-Avana20q4.txt', sep='\\t', index_col=0)\n",
    "feats.info()"
   ]
  },
  {
   "cell_type": "code",
   "execution_count": 4,
   "id": "regular-costume",
   "metadata": {},
   "outputs": [],
   "source": [
    "cc_mat = feats.corr()"
   ]
  },
  {
   "cell_type": "code",
   "execution_count": 5,
   "id": "adequate-thermal",
   "metadata": {},
   "outputs": [
    {
     "data": {
      "text/html": [
       "<div>\n",
       "<style scoped>\n",
       "    .dataframe tbody tr th:only-of-type {\n",
       "        vertical-align: middle;\n",
       "    }\n",
       "\n",
       "    .dataframe tbody tr th {\n",
       "        vertical-align: top;\n",
       "    }\n",
       "\n",
       "    .dataframe thead th {\n",
       "        text-align: right;\n",
       "    }\n",
       "</style>\n",
       "<table border=\"1\" class=\"dataframe\">\n",
       "  <thead>\n",
       "    <tr style=\"text-align: right;\">\n",
       "      <th></th>\n",
       "      <th>Row</th>\n",
       "      <th>Column</th>\n",
       "      <th>Value</th>\n",
       "    </tr>\n",
       "  </thead>\n",
       "  <tbody>\n",
       "    <tr>\n",
       "      <th>61343</th>\n",
       "      <td>urinary_tract</td>\n",
       "      <td>bladder_carcinoma</td>\n",
       "      <td>1.000000</td>\n",
       "    </tr>\n",
       "    <tr>\n",
       "      <th>5893</th>\n",
       "      <td>gastric</td>\n",
       "      <td>gastric_adenocarcinoma</td>\n",
       "      <td>1.000000</td>\n",
       "    </tr>\n",
       "    <tr>\n",
       "      <th>55517</th>\n",
       "      <td>colorectal</td>\n",
       "      <td>colorectal_adenocarcinoma</td>\n",
       "      <td>1.000000</td>\n",
       "    </tr>\n",
       "    <tr>\n",
       "      <th>27</th>\n",
       "      <td>plasma_cell</td>\n",
       "      <td>multiple_myeloma</td>\n",
       "      <td>1.000000</td>\n",
       "    </tr>\n",
       "    <tr>\n",
       "      <th>40961</th>\n",
       "      <td>peripheral_nervous_system</td>\n",
       "      <td>neuroblastoma</td>\n",
       "      <td>1.000000</td>\n",
       "    </tr>\n",
       "    <tr>\n",
       "      <th>32204</th>\n",
       "      <td>pancreas</td>\n",
       "      <td>exocrine</td>\n",
       "      <td>1.000000</td>\n",
       "    </tr>\n",
       "    <tr>\n",
       "      <th>35112</th>\n",
       "      <td>upper_aerodigestive</td>\n",
       "      <td>upper_aerodigestive_squamous</td>\n",
       "      <td>1.000000</td>\n",
       "    </tr>\n",
       "    <tr>\n",
       "      <th>32217</th>\n",
       "      <td>pancreas</td>\n",
       "      <td>exocrine_adenocarcinoma</td>\n",
       "      <td>0.968892</td>\n",
       "    </tr>\n",
       "    <tr>\n",
       "      <th>119322</th>\n",
       "      <td>exocrine</td>\n",
       "      <td>exocrine_adenocarcinoma</td>\n",
       "      <td>0.968892</td>\n",
       "    </tr>\n",
       "    <tr>\n",
       "      <th>20531</th>\n",
       "      <td>kidney</td>\n",
       "      <td>renal_cell_carcinoma</td>\n",
       "      <td>0.954318</td>\n",
       "    </tr>\n",
       "    <tr>\n",
       "      <th>29277</th>\n",
       "      <td>liver</td>\n",
       "      <td>hepatocellular_carcinoma</td>\n",
       "      <td>0.952252</td>\n",
       "    </tr>\n",
       "    <tr>\n",
       "      <th>2963</th>\n",
       "      <td>ovary</td>\n",
       "      <td>ovary_adenocarcinoma</td>\n",
       "      <td>0.937007</td>\n",
       "    </tr>\n",
       "    <tr>\n",
       "      <th>8810</th>\n",
       "      <td>skin</td>\n",
       "      <td>melanoma</td>\n",
       "      <td>0.931091</td>\n",
       "    </tr>\n",
       "    <tr>\n",
       "      <th>23443</th>\n",
       "      <td>bile_duct</td>\n",
       "      <td>cholangiocarcinoma</td>\n",
       "      <td>0.930864</td>\n",
       "    </tr>\n",
       "    <tr>\n",
       "      <th>11738</th>\n",
       "      <td>central_nervous_system</td>\n",
       "      <td>glioma</td>\n",
       "      <td>0.898764</td>\n",
       "    </tr>\n",
       "    <tr>\n",
       "      <th>49679</th>\n",
       "      <td>esophagus</td>\n",
       "      <td>esophagus_squamous</td>\n",
       "      <td>0.891585</td>\n",
       "    </tr>\n",
       "    <tr>\n",
       "      <th>43872</th>\n",
       "      <td>lung</td>\n",
       "      <td>NSCLC</td>\n",
       "      <td>0.837788</td>\n",
       "    </tr>\n",
       "    <tr>\n",
       "      <th>46779</th>\n",
       "      <td>lymphocyte</td>\n",
       "      <td>non_hodgkin_lymphoma</td>\n",
       "      <td>0.822070</td>\n",
       "    </tr>\n",
       "    <tr>\n",
       "      <th>116443</th>\n",
       "      <td>cholangiocarcinoma</td>\n",
       "      <td>intrahepatic</td>\n",
       "      <td>0.811832</td>\n",
       "    </tr>\n",
       "    <tr>\n",
       "      <th>84593</th>\n",
       "      <td>glioma</td>\n",
       "      <td>glioblastoma</td>\n",
       "      <td>0.803444</td>\n",
       "    </tr>\n",
       "    <tr>\n",
       "      <th>130870</th>\n",
       "      <td>bladder_carcinoma</td>\n",
       "      <td>bladder_transitional_cell</td>\n",
       "      <td>0.782334</td>\n",
       "    </tr>\n",
       "    <tr>\n",
       "      <th>61354</th>\n",
       "      <td>urinary_tract</td>\n",
       "      <td>bladder_transitional_cell</td>\n",
       "      <td>0.782334</td>\n",
       "    </tr>\n",
       "    <tr>\n",
       "      <th>213374</th>\n",
       "      <td>MSI</td>\n",
       "      <td>RPL22_LOF</td>\n",
       "      <td>0.776233</td>\n",
       "    </tr>\n",
       "    <tr>\n",
       "      <th>26390</th>\n",
       "      <td>breast</td>\n",
       "      <td>ERneg_HER2neg</td>\n",
       "      <td>0.756449</td>\n",
       "    </tr>\n",
       "    <tr>\n",
       "      <th>23467</th>\n",
       "      <td>bile_duct</td>\n",
       "      <td>intrahepatic</td>\n",
       "      <td>0.755705</td>\n",
       "    </tr>\n",
       "  </tbody>\n",
       "</table>\n",
       "</div>"
      ],
      "text/plain": [
       "                              Row                        Column     Value\n",
       "61343               urinary_tract             bladder_carcinoma  1.000000\n",
       "5893                      gastric        gastric_adenocarcinoma  1.000000\n",
       "55517                  colorectal     colorectal_adenocarcinoma  1.000000\n",
       "27                    plasma_cell              multiple_myeloma  1.000000\n",
       "40961   peripheral_nervous_system                 neuroblastoma  1.000000\n",
       "32204                    pancreas                      exocrine  1.000000\n",
       "35112         upper_aerodigestive  upper_aerodigestive_squamous  1.000000\n",
       "32217                    pancreas       exocrine_adenocarcinoma  0.968892\n",
       "119322                   exocrine       exocrine_adenocarcinoma  0.968892\n",
       "20531                      kidney          renal_cell_carcinoma  0.954318\n",
       "29277                       liver      hepatocellular_carcinoma  0.952252\n",
       "2963                        ovary          ovary_adenocarcinoma  0.937007\n",
       "8810                         skin                      melanoma  0.931091\n",
       "23443                   bile_duct            cholangiocarcinoma  0.930864\n",
       "11738      central_nervous_system                        glioma  0.898764\n",
       "49679                   esophagus            esophagus_squamous  0.891585\n",
       "43872                        lung                         NSCLC  0.837788\n",
       "46779                  lymphocyte          non_hodgkin_lymphoma  0.822070\n",
       "116443         cholangiocarcinoma                  intrahepatic  0.811832\n",
       "84593                      glioma                  glioblastoma  0.803444\n",
       "130870          bladder_carcinoma     bladder_transitional_cell  0.782334\n",
       "61354               urinary_tract     bladder_transitional_cell  0.782334\n",
       "213374                        MSI                     RPL22_LOF  0.776233\n",
       "26390                      breast                 ERneg_HER2neg  0.756449\n",
       "23467                   bile_duct                  intrahepatic  0.755705"
      ]
     },
     "execution_count": 5,
     "metadata": {},
     "output_type": "execute_result"
    }
   ],
   "source": [
    "cc_list = hw.ut_as_list( cc_mat)\n",
    "cc_list.sort_values('Value', ascending=False, inplace=True)\n",
    "cc_list.head(25)"
   ]
  },
  {
   "cell_type": "markdown",
   "id": "fatal-hollow",
   "metadata": {},
   "source": [
    "# remove duplicates\n",
    "### for each feature pair with corr > 0.9, remove the smaller one\n",
    "### if same size, remove 'column'"
   ]
  },
  {
   "cell_type": "code",
   "execution_count": 6,
   "id": "solid-imperial",
   "metadata": {},
   "outputs": [
    {
     "name": "stdout",
     "output_type": "stream",
     "text": [
      "Row           urinary_tract\n",
      "Column    bladder_carcinoma\n",
      "Value                   1.0\n",
      "Name: 61343, dtype: object\n",
      "Removing feature bladder_carcinoma\n",
      "Row            plasma_cell\n",
      "Column    multiple_myeloma\n",
      "Value                  1.0\n",
      "Name: 27, dtype: object\n",
      "Removing feature multiple_myeloma\n",
      "Row       pancreas\n",
      "Column    exocrine\n",
      "Value          1.0\n",
      "Name: 32181, dtype: object\n",
      "Removing feature exocrine\n",
      "Row                      gastric\n",
      "Column    gastric_adenocarcinoma\n",
      "Value                        1.0\n",
      "Name: 5886, dtype: object\n",
      "Removing feature gastric_adenocarcinoma\n",
      "Row       peripheral_nervous_system\n",
      "Column                neuroblastoma\n",
      "Value                           1.0\n",
      "Name: 40901, dtype: object\n",
      "Removing feature neuroblastoma\n",
      "Row                upper_aerodigestive\n",
      "Column    upper_aerodigestive_squamous\n",
      "Value                              1.0\n",
      "Name: 35051, dtype: object\n",
      "Removing feature upper_aerodigestive_squamous\n",
      "Row                      colorectal\n",
      "Column    colorectal_adenocarcinoma\n",
      "Value                           1.0\n",
      "Name: 55400, dtype: object\n",
      "Removing feature colorectal_adenocarcinoma\n",
      "Row                      pancreas\n",
      "Column    exocrine_adenocarcinoma\n",
      "Value                    0.968892\n",
      "Name: 32133, dtype: object\n",
      "Removing feature pancreas\n",
      "Row                     kidney\n",
      "Column    renal_cell_carcinoma\n",
      "Value                 0.954318\n",
      "Name: 20467, dtype: object\n",
      "Removing feature kidney\n",
      "Row                          liver\n",
      "Column    hepatocellular_carcinoma\n",
      "Value                     0.952252\n",
      "Name: 26272, dtype: object\n",
      "Removing feature liver\n",
      "Row                      ovary\n",
      "Column    ovary_adenocarcinoma\n",
      "Value                 0.937007\n",
      "Name: 2948, dtype: object\n",
      "Removing feature ovary\n",
      "Row           skin\n",
      "Column    melanoma\n",
      "Value     0.931091\n",
      "Name: 5857, dtype: object\n",
      "Removing feature skin\n",
      "Row                bile_duct\n",
      "Column    cholangiocarcinoma\n",
      "Value               0.930864\n",
      "Name: 14605, dtype: object\n",
      "Removing feature bile_duct\n"
     ]
    }
   ],
   "source": [
    "while (cc_list.iloc[0]['Value'] > 0.9):\n",
    "    print( cc_list.iloc[0])\n",
    "    featA, featB = cc_list.iloc[0][['Row','Column']]\n",
    "    sizeA = feats[featA].sum()\n",
    "    sizeB = feats[featB].sum()\n",
    "    if (sizeA > sizeB):\n",
    "        feats.drop(featA, axis=1, inplace=True)\n",
    "        print('Removing feature ' + featA)\n",
    "    else:\n",
    "        feats.drop(featB, axis=1, inplace=True)\n",
    "        print('Removing feature ' + featB)\n",
    "    cc_mat = feats.corr()\n",
    "    cc_list = hw.ut_as_list( cc_mat)\n",
    "    cc_list.sort_values('Value', ascending=False, inplace=True)"
   ]
  },
  {
   "cell_type": "code",
   "execution_count": 7,
   "id": "anticipated-howard",
   "metadata": {},
   "outputs": [
    {
     "data": {
      "text/html": [
       "<div>\n",
       "<style scoped>\n",
       "    .dataframe tbody tr th:only-of-type {\n",
       "        vertical-align: middle;\n",
       "    }\n",
       "\n",
       "    .dataframe tbody tr th {\n",
       "        vertical-align: top;\n",
       "    }\n",
       "\n",
       "    .dataframe thead th {\n",
       "        text-align: right;\n",
       "    }\n",
       "</style>\n",
       "<table border=\"1\" class=\"dataframe\">\n",
       "  <thead>\n",
       "    <tr style=\"text-align: right;\">\n",
       "      <th></th>\n",
       "      <th>Row</th>\n",
       "      <th>Column</th>\n",
       "      <th>Value</th>\n",
       "    </tr>\n",
       "  </thead>\n",
       "  <tbody>\n",
       "    <tr>\n",
       "      <th>5852</th>\n",
       "      <td>central_nervous_system</td>\n",
       "      <td>glioma</td>\n",
       "      <td>0.898764</td>\n",
       "    </tr>\n",
       "    <tr>\n",
       "      <th>32037</th>\n",
       "      <td>esophagus</td>\n",
       "      <td>esophagus_squamous</td>\n",
       "      <td>0.891585</td>\n",
       "    </tr>\n",
       "    <tr>\n",
       "      <th>26239</th>\n",
       "      <td>lung</td>\n",
       "      <td>NSCLC</td>\n",
       "      <td>0.837788</td>\n",
       "    </tr>\n",
       "    <tr>\n",
       "      <th>29142</th>\n",
       "      <td>lymphocyte</td>\n",
       "      <td>non_hodgkin_lymphoma</td>\n",
       "      <td>0.822070</td>\n",
       "    </tr>\n",
       "    <tr>\n",
       "      <th>87095</th>\n",
       "      <td>cholangiocarcinoma</td>\n",
       "      <td>intrahepatic</td>\n",
       "      <td>0.811832</td>\n",
       "    </tr>\n",
       "    <tr>\n",
       "      <th>63966</th>\n",
       "      <td>glioma</td>\n",
       "      <td>glioblastoma</td>\n",
       "      <td>0.803444</td>\n",
       "    </tr>\n",
       "    <tr>\n",
       "      <th>43677</th>\n",
       "      <td>urinary_tract</td>\n",
       "      <td>bladder_transitional_cell</td>\n",
       "      <td>0.782334</td>\n",
       "    </tr>\n",
       "    <tr>\n",
       "      <th>175362</th>\n",
       "      <td>MSI</td>\n",
       "      <td>RPL22_LOF</td>\n",
       "      <td>0.776233</td>\n",
       "    </tr>\n",
       "    <tr>\n",
       "      <th>14622</th>\n",
       "      <td>breast</td>\n",
       "      <td>ERneg_HER2neg</td>\n",
       "      <td>0.756449</td>\n",
       "    </tr>\n",
       "    <tr>\n",
       "      <th>11690</th>\n",
       "      <td>uterus</td>\n",
       "      <td>endometrial_adenocarcinoma</td>\n",
       "      <td>0.754268</td>\n",
       "    </tr>\n",
       "    <tr>\n",
       "      <th>8778</th>\n",
       "      <td>bone</td>\n",
       "      <td>Ewing_sarcoma</td>\n",
       "      <td>0.736660</td>\n",
       "    </tr>\n",
       "    <tr>\n",
       "      <th>5876</th>\n",
       "      <td>central_nervous_system</td>\n",
       "      <td>glioblastoma</td>\n",
       "      <td>0.722107</td>\n",
       "    </tr>\n",
       "    <tr>\n",
       "      <th>14600</th>\n",
       "      <td>breast</td>\n",
       "      <td>breast_carcinoma</td>\n",
       "      <td>0.718614</td>\n",
       "    </tr>\n",
       "    <tr>\n",
       "      <th>92864</th>\n",
       "      <td>NSCLC</td>\n",
       "      <td>NSCLC_adenocarcinoma</td>\n",
       "      <td>0.714070</td>\n",
       "    </tr>\n",
       "    <tr>\n",
       "      <th>258924</th>\n",
       "      <td>GABRG1_GOF</td>\n",
       "      <td>C8orf34_LOF</td>\n",
       "      <td>0.711789</td>\n",
       "    </tr>\n",
       "    <tr>\n",
       "      <th>40758</th>\n",
       "      <td>blood</td>\n",
       "      <td>AML</td>\n",
       "      <td>0.688767</td>\n",
       "    </tr>\n",
       "    <tr>\n",
       "      <th>2234468</th>\n",
       "      <td>EBF3_LOF</td>\n",
       "      <td>TMEM185B_LOF</td>\n",
       "      <td>0.665065</td>\n",
       "    </tr>\n",
       "    <tr>\n",
       "      <th>260504</th>\n",
       "      <td>GABRG1_GOF</td>\n",
       "      <td>PUS10_LOF</td>\n",
       "      <td>0.665065</td>\n",
       "    </tr>\n",
       "    <tr>\n",
       "      <th>1125525</th>\n",
       "      <td>AXIN2_LOF</td>\n",
       "      <td>IQSEC1_LOF</td>\n",
       "      <td>0.665065</td>\n",
       "    </tr>\n",
       "    <tr>\n",
       "      <th>642050</th>\n",
       "      <td>ADD3_LOF</td>\n",
       "      <td>ATP2A1_LOF</td>\n",
       "      <td>0.665065</td>\n",
       "    </tr>\n",
       "    <tr>\n",
       "      <th>1993145</th>\n",
       "      <td>CYP7A1_LOF</td>\n",
       "      <td>GRIA2_LOF</td>\n",
       "      <td>0.665065</td>\n",
       "    </tr>\n",
       "    <tr>\n",
       "      <th>1311230</th>\n",
       "      <td>C8orf34_LOF</td>\n",
       "      <td>SAMD3_LOF</td>\n",
       "      <td>0.665065</td>\n",
       "    </tr>\n",
       "    <tr>\n",
       "      <th>2714931</th>\n",
       "      <td>GRIA2_LOF</td>\n",
       "      <td>ZNF257_LOF</td>\n",
       "      <td>0.665065</td>\n",
       "    </tr>\n",
       "    <tr>\n",
       "      <th>1994054</th>\n",
       "      <td>CYP7A1_LOF</td>\n",
       "      <td>PUS10_LOF</td>\n",
       "      <td>0.665065</td>\n",
       "    </tr>\n",
       "    <tr>\n",
       "      <th>643268</th>\n",
       "      <td>ADD3_LOF</td>\n",
       "      <td>MVK_LOF</td>\n",
       "      <td>0.665065</td>\n",
       "    </tr>\n",
       "  </tbody>\n",
       "</table>\n",
       "</div>"
      ],
      "text/plain": [
       "                            Row                      Column     Value\n",
       "5852     central_nervous_system                      glioma  0.898764\n",
       "32037                 esophagus          esophagus_squamous  0.891585\n",
       "26239                      lung                       NSCLC  0.837788\n",
       "29142                lymphocyte        non_hodgkin_lymphoma  0.822070\n",
       "87095        cholangiocarcinoma                intrahepatic  0.811832\n",
       "63966                    glioma                glioblastoma  0.803444\n",
       "43677             urinary_tract   bladder_transitional_cell  0.782334\n",
       "175362                      MSI                   RPL22_LOF  0.776233\n",
       "14622                    breast               ERneg_HER2neg  0.756449\n",
       "11690                    uterus  endometrial_adenocarcinoma  0.754268\n",
       "8778                       bone               Ewing_sarcoma  0.736660\n",
       "5876     central_nervous_system                glioblastoma  0.722107\n",
       "14600                    breast            breast_carcinoma  0.718614\n",
       "92864                     NSCLC        NSCLC_adenocarcinoma  0.714070\n",
       "258924               GABRG1_GOF                 C8orf34_LOF  0.711789\n",
       "40758                     blood                         AML  0.688767\n",
       "2234468                EBF3_LOF                TMEM185B_LOF  0.665065\n",
       "260504               GABRG1_GOF                   PUS10_LOF  0.665065\n",
       "1125525               AXIN2_LOF                  IQSEC1_LOF  0.665065\n",
       "642050                 ADD3_LOF                  ATP2A1_LOF  0.665065\n",
       "1993145              CYP7A1_LOF                   GRIA2_LOF  0.665065\n",
       "1311230             C8orf34_LOF                   SAMD3_LOF  0.665065\n",
       "2714931               GRIA2_LOF                  ZNF257_LOF  0.665065\n",
       "1994054              CYP7A1_LOF                   PUS10_LOF  0.665065\n",
       "643268                 ADD3_LOF                     MVK_LOF  0.665065"
      ]
     },
     "execution_count": 7,
     "metadata": {},
     "output_type": "execute_result"
    }
   ],
   "source": [
    "cc_list.head(25)"
   ]
  },
  {
   "cell_type": "code",
   "execution_count": 8,
   "id": "threaded-scheduling",
   "metadata": {},
   "outputs": [
    {
     "name": "stdout",
     "output_type": "stream",
     "text": [
      "<class 'pandas.core.frame.DataFrame'>\n",
      "Index: 808 entries, ACH-001172 to ACH-002510\n",
      "Columns: 2918 entries, plasma_cell to CDH_VIM_lo\n",
      "dtypes: bool(2918)\n",
      "memory usage: 2.3+ MB\n"
     ]
    }
   ],
   "source": [
    "feats.info()"
   ]
  },
  {
   "cell_type": "code",
   "execution_count": 9,
   "id": "orange-carry",
   "metadata": {},
   "outputs": [
    {
     "name": "stdout",
     "output_type": "stream",
     "text": [
      "808 2918\n"
     ]
    }
   ],
   "source": [
    "numCells, numFeatures = feats.shape\n",
    "print(numCells, numFeatures)"
   ]
  },
  {
   "cell_type": "code",
   "execution_count": 11,
   "id": "referenced-collector",
   "metadata": {},
   "outputs": [],
   "source": [
    "feats.to_csv('./Data/features-bool-deDuped-' + str(numFeatures) + 'feats-' + str(numCells) + 'cells.txt', sep='\\t', index=True)"
   ]
  },
  {
   "cell_type": "markdown",
   "id": "binary-chemical",
   "metadata": {},
   "source": [
    "# Remove samples with NaN in pEss"
   ]
  },
  {
   "cell_type": "code",
   "execution_count": 12,
   "id": "finite-debut",
   "metadata": {},
   "outputs": [
    {
     "name": "stdout",
     "output_type": "stream",
     "text": [
      "<class 'pandas.core.frame.DataFrame'>\n",
      "Index: 18111 entries, A1BG to ZZZ3\n",
      "Columns: 808 entries, ACH-001172 to ACH-002510\n",
      "dtypes: float64(808)\n",
      "memory usage: 111.8+ MB\n"
     ]
    }
   ],
   "source": [
    "bf = pd.read_table('./Data/table_Avana2020Q4_CRISPRcleanR_corrected_all', sep='\\t', index_col=0)\n",
    "bf.info()"
   ]
  },
  {
   "cell_type": "code",
   "execution_count": 13,
   "id": "consistent-renewal",
   "metadata": {},
   "outputs": [
    {
     "data": {
      "text/plain": [
       "<AxesSubplot:>"
      ]
     },
     "execution_count": 13,
     "metadata": {},
     "output_type": "execute_result"
    },
    {
     "data": {
      "image/png": "[encoded data removed]",
      "text/plain": [
       "<Figure size 432x288 with 1 Axes>"
      ]
     },
     "metadata": {
      "needs_background": "light"
     },
     "output_type": "display_data"
    }
   ],
   "source": [
    "bf.isna().sum(0).hist() # samples"
   ]
  },
  {
   "cell_type": "code",
   "execution_count": 14,
   "id": "adjacent-platinum",
   "metadata": {},
   "outputs": [
    {
     "data": {
      "text/plain": [
       "<AxesSubplot:>"
      ]
     },
     "execution_count": 14,
     "metadata": {},
     "output_type": "execute_result"
    },
    {
     "data": {
      "image/png": "[encoded data removed]",
      "text/plain": [
       "<Figure size 432x288 with 1 Axes>"
      ]
     },
     "metadata": {
      "needs_background": "light"
     },
     "output_type": "display_data"
    }
   ],
   "source": [
    "bf.isna().sum(1).hist() #genes"
   ]
  },
  {
   "cell_type": "code",
   "execution_count": 15,
   "id": "fossil-right",
   "metadata": {},
   "outputs": [
    {
     "data": {
      "text/plain": [
       "array(['DUX4', 'EIF3CL', 'GAGE12H', 'KRTAP5-8', 'NPIPA5', 'NPIPB6',\n",
       "       'NPM1', 'RPL21', 'RPL39', 'RPS26', 'RPSA', 'TBC1D3B', 'USP17L10',\n",
       "       'USP17L5', 'ZNF254', 'ZNF732', 'ZNF85'], dtype=object)"
      ]
     },
     "execution_count": 15,
     "metadata": {},
     "output_type": "execute_result"
    }
   ],
   "source": [
    "genes_with_nans_idx = where( bf.isna().sum(1) > 0)[0]\n",
    "bf.index.values[ genes_with_nans_idx]"
   ]
  },
  {
   "cell_type": "code",
   "execution_count": 16,
   "id": "little-debut",
   "metadata": {},
   "outputs": [
    {
     "name": "stdout",
     "output_type": "stream",
     "text": [
      "<class 'pandas.core.frame.DataFrame'>\n",
      "Index: 18094 entries, A1BG to ZZZ3\n",
      "Columns: 808 entries, ACH-001172 to ACH-002510\n",
      "dtypes: float64(808)\n",
      "memory usage: 111.7+ MB\n"
     ]
    }
   ],
   "source": [
    "bf.drop( bf.index.values[genes_with_nans_idx], axis=0, inplace=True)\n",
    "bf.info()"
   ]
  },
  {
   "cell_type": "code",
   "execution_count": 17,
   "id": "proof-nepal",
   "metadata": {},
   "outputs": [
    {
     "data": {
      "text/plain": [
       "0"
      ]
     },
     "execution_count": 17,
     "metadata": {},
     "output_type": "execute_result"
    }
   ],
   "source": [
    "bf.isna().sum().sum()"
   ]
  },
  {
   "cell_type": "code",
   "execution_count": 18,
   "id": "operating-person",
   "metadata": {},
   "outputs": [],
   "source": [
    "prEss = bf.copy().T\n",
    "#\n",
    "# binarize at BF>=10\n",
    "#\n",
    "prEss[prEss<10]=0\n",
    "prEss[prEss>0]=1"
   ]
  },
  {
   "cell_type": "code",
   "execution_count": 19,
   "id": "twelve-vienna",
   "metadata": {},
   "outputs": [
    {
     "name": "stdout",
     "output_type": "stream",
     "text": [
      "<class 'pandas.core.frame.DataFrame'>\n",
      "Index: 808 entries, ACH-001172 to ACH-002510\n",
      "Columns: 18094 entries, A1BG to ZZZ3\n",
      "dtypes: bool(18094)\n",
      "memory usage: 14.0+ MB\n"
     ]
    }
   ],
   "source": [
    "prEss = prEss.astype( bool)\n",
    "prEss.info()"
   ]
  },
  {
   "cell_type": "code",
   "execution_count": 20,
   "id": "numerical-microwave",
   "metadata": {},
   "outputs": [],
   "source": [
    "numCells, numGenes = prEss.shape"
   ]
  },
  {
   "cell_type": "code",
   "execution_count": 22,
   "id": "effective-louisville",
   "metadata": {},
   "outputs": [],
   "source": [
    "prEss.to_csv('./Data/prEss-bool-' + str(numGenes) + 'genes-' + str(numCells) + 'cells-noNans.txt', sep='\\t', index=True)\n"
   ]
  },
  {
   "cell_type": "code",
   "execution_count": null,
   "id": "seven-parcel",
   "metadata": {},
   "outputs": [],
   "source": []
  }
 ],
 "metadata": {
  "kernelspec": {
   "display_name": "Python 3",
   "language": "python",
   "name": "python3"
  },
  "language_info": {
   "codemirror_mode": {
    "name": "ipython",
    "version": 3
   },
   "file_extension": ".py",
   "mimetype": "text/x-python",
   "name": "python",
   "nbconvert_exporter": "python",
   "pygments_lexer": "ipython3",
   "version": "3.8.10"
  }
 },
 "nbformat": 4,
 "nbformat_minor": 5
}
