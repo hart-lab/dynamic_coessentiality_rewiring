{
 "cells": [
  {
   "cell_type": "code",
   "execution_count": 1,
   "id": "wrapped-snake",
   "metadata": {},
   "outputs": [
    {
     "name": "stdout",
     "output_type": "stream",
     "text": [
      "Populating the interactive namespace from numpy and matplotlib\n"
     ]
    }
   ],
   "source": [
    "%pylab inline\n",
    "import pandas as pd\n",
    "import scipy.stats as stats"
   ]
  },
  {
   "cell_type": "code",
   "execution_count": 4,
   "id": "enormous-miniature",
   "metadata": {},
   "outputs": [
    {
     "name": "stdout",
     "output_type": "stream",
     "text": [
      "<class 'pandas.core.frame.DataFrame'>\n",
      "Index: 808 entries, ACH-001172 to ACH-002510\n",
      "Columns: 18094 entries, A1BG to ZZZ3\n",
      "dtypes: bool(18094)\n",
      "memory usage: 13.9+ MB\n"
     ]
    }
   ],
   "source": [
    "prEss = pd.read_table('./Data/prEss-bool-18094genes-808cells-noNans.txt', sep='\\t', index_col=0)\n",
    "prEss.info()"
   ]
  },
  {
   "cell_type": "code",
   "execution_count": 5,
   "id": "played-albert",
   "metadata": {},
   "outputs": [
    {
     "name": "stdout",
     "output_type": "stream",
     "text": [
      "<class 'pandas.core.frame.DataFrame'>\n",
      "Index: 808 entries, ACH-001172 to ACH-002510\n",
      "Columns: 2987 entries, AAAS to ZZZ3\n",
      "dtypes: bool(2987)\n",
      "memory usage: 2.3+ MB\n"
     ]
    }
   ],
   "source": [
    "numSamples, numGenes = prEss.shape\n",
    "num_ess = prEss.sum()\n",
    "\n",
    "low_thresh = 0.01\n",
    "hi_thresh  = 0.80\n",
    "\n",
    "too_low = where( num_ess<(low_thresh * numSamples) )[0]\n",
    "prEss.drop( prEss.columns[too_low], axis=1, inplace=True)\n",
    "\n",
    "num_ess = prEss.sum()\n",
    "\n",
    "too_high = where( num_ess>(hi_thresh * numSamples) )[0]\n",
    "prEss.drop( prEss.columns[too_high], axis=1, inplace=True)\n",
    "\n",
    "prEss.info()"
   ]
  },
  {
   "cell_type": "code",
   "execution_count": 6,
   "id": "afraid-destination",
   "metadata": {},
   "outputs": [],
   "source": [
    "coeff_matrix = pd.read_table('./Data/coefficients-logReg-matrix-elastic-point25-2918feats-2987genes-Avana20q4.txt',\\\n",
    "                            sep='\\t', index_col=0)\n",
    "coeff_list   = pd.read_table('./Data/coefficients-logReg-list-elastic-point25-2918feats-2987genes-Avana20q4.txt', \\\n",
    "                            sep='\\t')"
   ]
  },
  {
   "cell_type": "code",
   "execution_count": 7,
   "id": "clear-glance",
   "metadata": {},
   "outputs": [
    {
     "name": "stdout",
     "output_type": "stream",
     "text": [
      "<class 'pandas.core.frame.DataFrame'>\n",
      "Index: 2919 entries, plasma_cell to intercept\n",
      "Columns: 2987 entries, AAAS to ZZZ3\n",
      "dtypes: float64(2987)\n",
      "memory usage: 66.5+ MB\n"
     ]
    }
   ],
   "source": [
    "coeff_matrix.info()"
   ]
  },
  {
   "cell_type": "code",
   "execution_count": 8,
   "id": "breeding-compound",
   "metadata": {},
   "outputs": [
    {
     "name": "stdout",
     "output_type": "stream",
     "text": [
      "<class 'pandas.core.frame.DataFrame'>\n",
      "RangeIndex: 8716066 entries, 0 to 8716065\n",
      "Data columns (total 3 columns):\n",
      " #   Column   Dtype  \n",
      "---  ------   -----  \n",
      " 0   Feature  object \n",
      " 1   Gene     object \n",
      " 2   coeff    float64\n",
      "dtypes: float64(1), object(2)\n",
      "memory usage: 199.5+ MB\n"
     ]
    }
   ],
   "source": [
    "coeff_list.info()"
   ]
  },
  {
   "cell_type": "code",
   "execution_count": 9,
   "id": "sophisticated-bangladesh",
   "metadata": {},
   "outputs": [
    {
     "data": {
      "text/plain": [
       "<AxesSubplot:>"
      ]
     },
     "execution_count": 9,
     "metadata": {},
     "output_type": "execute_result"
    },
    {
     "data": {
      "image/png": "[encoded data removed]",
      "text/plain": [
       "<Figure size 432x288 with 1 Axes>"
      ]
     },
     "metadata": {
      "needs_background": "light"
     },
     "output_type": "display_data"
    }
   ],
   "source": [
    "coeff_list.coeff.hist(bins=100)"
   ]
  },
  {
   "cell_type": "code",
   "execution_count": 10,
   "id": "aerial-breathing",
   "metadata": {},
   "outputs": [
    {
     "data": {
      "text/plain": [
       "AAAS       -2.718\n",
       "AAMP       -0.276\n",
       "AARS2      -1.148\n",
       "AASDHPPT   -2.104\n",
       "AATF       -1.700\n",
       "            ...  \n",
       "ZSWIM7     -4.752\n",
       "ZSWIM8     -5.673\n",
       "ZW10       -0.357\n",
       "ZWINT      -1.441\n",
       "ZZZ3       -4.455\n",
       "Name: intercept, Length: 2987, dtype: float64"
      ]
     },
     "execution_count": 10,
     "metadata": {},
     "output_type": "execute_result"
    }
   ],
   "source": [
    "coeff_matrix.loc['intercept']"
   ]
  },
  {
   "cell_type": "code",
   "execution_count": 11,
   "id": "tight-referral",
   "metadata": {},
   "outputs": [],
   "source": [
    "meta = pd.DataFrame( index=coeff_matrix.columns.values[:-1], columns=['Max','Min','FracEss','Intercept'])"
   ]
  },
  {
   "cell_type": "code",
   "execution_count": 12,
   "id": "seasonal-egypt",
   "metadata": {},
   "outputs": [],
   "source": [
    "meta.Max = coeff_matrix.drop('intercept', axis=0).max(0)\n",
    "meta.Min = coeff_matrix.drop('intercept', axis=0).min(0)\n"
   ]
  },
  {
   "cell_type": "code",
   "execution_count": 13,
   "id": "sustained-income",
   "metadata": {},
   "outputs": [],
   "source": [
    "meta.FracEss = prEss.sum(0) / numSamples\n",
    "meta.Intercept = coeff_matrix.loc['intercept']\n"
   ]
  },
  {
   "cell_type": "code",
   "execution_count": 14,
   "id": "liked-jefferson",
   "metadata": {},
   "outputs": [
    {
     "data": {
      "text/html": [
       "<div>\n",
       "<style scoped>\n",
       "    .dataframe tbody tr th:only-of-type {\n",
       "        vertical-align: middle;\n",
       "    }\n",
       "\n",
       "    .dataframe tbody tr th {\n",
       "        vertical-align: top;\n",
       "    }\n",
       "\n",
       "    .dataframe thead th {\n",
       "        text-align: right;\n",
       "    }\n",
       "</style>\n",
       "<table border=\"1\" class=\"dataframe\">\n",
       "  <thead>\n",
       "    <tr style=\"text-align: right;\">\n",
       "      <th></th>\n",
       "      <th>Max</th>\n",
       "      <th>Min</th>\n",
       "      <th>FracEss</th>\n",
       "      <th>Intercept</th>\n",
       "    </tr>\n",
       "  </thead>\n",
       "  <tbody>\n",
       "    <tr>\n",
       "      <th>AAAS</th>\n",
       "      <td>1.187</td>\n",
       "      <td>-0.735</td>\n",
       "      <td>0.080446</td>\n",
       "      <td>-2.718</td>\n",
       "    </tr>\n",
       "    <tr>\n",
       "      <th>AAMP</th>\n",
       "      <td>1.069</td>\n",
       "      <td>-1.017</td>\n",
       "      <td>0.443069</td>\n",
       "      <td>-0.276</td>\n",
       "    </tr>\n",
       "    <tr>\n",
       "      <th>AARS2</th>\n",
       "      <td>1.201</td>\n",
       "      <td>-0.861</td>\n",
       "      <td>0.294554</td>\n",
       "      <td>-1.148</td>\n",
       "    </tr>\n",
       "    <tr>\n",
       "      <th>AASDHPPT</th>\n",
       "      <td>1.049</td>\n",
       "      <td>-1.002</td>\n",
       "      <td>0.241337</td>\n",
       "      <td>-2.104</td>\n",
       "    </tr>\n",
       "    <tr>\n",
       "      <th>AATF</th>\n",
       "      <td>1.061</td>\n",
       "      <td>-0.914</td>\n",
       "      <td>0.178218</td>\n",
       "      <td>-1.700</td>\n",
       "    </tr>\n",
       "  </tbody>\n",
       "</table>\n",
       "</div>"
      ],
      "text/plain": [
       "            Max    Min   FracEss  Intercept\n",
       "AAAS      1.187 -0.735  0.080446     -2.718\n",
       "AAMP      1.069 -1.017  0.443069     -0.276\n",
       "AARS2     1.201 -0.861  0.294554     -1.148\n",
       "AASDHPPT  1.049 -1.002  0.241337     -2.104\n",
       "AATF      1.061 -0.914  0.178218     -1.700"
      ]
     },
     "execution_count": 14,
     "metadata": {},
     "output_type": "execute_result"
    }
   ],
   "source": [
    "meta.head(5)"
   ]
  },
  {
   "cell_type": "code",
   "execution_count": 15,
   "id": "uniform-champagne",
   "metadata": {},
   "outputs": [
    {
     "data": {
      "image/png": "[encoded data removed]",
      "text/plain": [
       "<Figure size 432x432 with 1 Axes>"
      ]
     },
     "metadata": {
      "needs_background": "light"
     },
     "output_type": "display_data"
    }
   ],
   "source": [
    "z = stats.gaussian_kde( np.vstack( [ meta.Max.values, meta.Min.values ]))( np.vstack( [ meta.Max, meta.Min ]))\n",
    "idx = z.argsort()\n",
    "x, y, z = meta.Max.values[idx], meta.Min.values[idx], z[idx]\n",
    "\n",
    "figure( figsize=(6,6))\n",
    "scatter(x, y, c=z)\n",
    "show()"
   ]
  },
  {
   "cell_type": "code",
   "execution_count": 16,
   "id": "going-howard",
   "metadata": {},
   "outputs": [
    {
     "data": {
      "text/plain": [
       "array([0.06191954, 0.4314347 , 0.24085458, ..., 0.00342576, 0.41168597,\n",
       "       0.19139054])"
      ]
     },
     "execution_count": 16,
     "metadata": {},
     "output_type": "execute_result"
    }
   ],
   "source": [
    "array(exp(meta.Intercept) / ( exp(meta.Intercept) + 1))"
   ]
  },
  {
   "cell_type": "code",
   "execution_count": 17,
   "id": "steady-shadow",
   "metadata": {},
   "outputs": [
    {
     "data": {
      "image/png": "[encoded data removed]",
      "text/plain": [
       "<Figure size 360x360 with 1 Axes>"
      ]
     },
     "metadata": {
      "needs_background": "light"
     },
     "output_type": "display_data"
    }
   ],
   "source": [
    "x = meta.FracEss.values\n",
    "y = np.array( exp(meta.Intercept) / ( exp(meta.Intercept) + 1) )\n",
    "\n",
    "xy = np.vstack([x,y])\n",
    "z = stats.gaussian_kde(xy)(xy)\n",
    "dx = z.argsort()\n",
    "x, y, z = x[idx], y[idx], z[idx]\n",
    "\n",
    "figure( figsize=(5,5))\n",
    "scatter(x, y, c=z, s=20, alpha=0.5)\n",
    "plot([0,0.8], [0,0.8], 'r--')\n",
    "xlabel('fracEss')\n",
    "ylabel('regression intercept')\n",
    "show()"
   ]
  },
  {
   "cell_type": "markdown",
   "id": "fluid-starter",
   "metadata": {},
   "source": [
    "# Strong coefficient threshold"
   ]
  },
  {
   "cell_type": "code",
   "execution_count": 102,
   "id": "greatest-secondary",
   "metadata": {},
   "outputs": [
    {
     "data": {
      "text/plain": [
       "<AxesSubplot:>"
      ]
     },
     "execution_count": 102,
     "metadata": {},
     "output_type": "execute_result"
    },
    {
     "data": {
      "image/png": "[encoded data removed]",
      "text/plain": [
       "<Figure size 432x288 with 1 Axes>"
      ]
     },
     "metadata": {
      "needs_background": "light"
     },
     "output_type": "display_data"
    }
   ],
   "source": [
    "meta.Max.hist(bins=arange(0,5,0.05))"
   ]
  },
  {
   "cell_type": "code",
   "execution_count": 103,
   "id": "confident-seeking",
   "metadata": {},
   "outputs": [
    {
     "data": {
      "text/plain": [
       "<AxesSubplot:>"
      ]
     },
     "execution_count": 103,
     "metadata": {},
     "output_type": "execute_result"
    },
    {
     "data": {
      "image/png": "[encoded data removed]",
      "text/plain": [
       "<Figure size 432x288 with 1 Axes>"
      ]
     },
     "metadata": {
      "needs_background": "light"
     },
     "output_type": "display_data"
    }
   ],
   "source": [
    "meta.Min.hist(bins=arange(-5,0,0.05))"
   ]
  },
  {
   "cell_type": "code",
   "execution_count": 157,
   "id": "absent-louisiana",
   "metadata": {},
   "outputs": [],
   "source": [
    "#\n",
    "# SET COEFFICIENT THRESHOLD HERE\n",
    "#\n",
    "\n",
    "thresh = 1.2"
   ]
  },
  {
   "cell_type": "code",
   "execution_count": 197,
   "id": "physical-harbor",
   "metadata": {},
   "outputs": [
    {
     "data": {
      "text/plain": [
       "<AxesSubplot:>"
      ]
     },
     "execution_count": 197,
     "metadata": {},
     "output_type": "execute_result"
    },
    {
     "data": {
      "image/png": "[encoded data removed]",
      "text/plain": [
       "<Figure size 432x288 with 1 Axes>"
      ]
     },
     "metadata": {
      "needs_background": "light"
     },
     "output_type": "display_data"
    }
   ],
   "source": [
    "feats_ge_thresh = coeff_list[ abs(coeff_list.coeff) > thresh].groupby('Feature').count().sort_values('coeff', ascending=True)\n",
    "#feats_ge_thresh.head(25)\n",
    "#feats_ge_thresh.iloc[220:250]\n",
    "feats_ge_thresh.Gene.hist( bins=arange(1,11) )"
   ]
  },
  {
   "cell_type": "code",
   "execution_count": 159,
   "id": "increasing-interval",
   "metadata": {},
   "outputs": [
    {
     "data": {
      "text/plain": [
       "393"
      ]
     },
     "execution_count": 159,
     "metadata": {},
     "output_type": "execute_result"
    }
   ],
   "source": [
    "unique_strong_features = coeff_list[ abs(coeff_list.coeff) > thresh]['Feature'].unique()\n",
    "len(unique_strong_features)\n",
    "#\n",
    "# at thresh = 1.2, there are 393 features, 220 of which have 1 feature-gene association\n",
    "#"
   ]
  },
  {
   "cell_type": "code",
   "execution_count": 160,
   "id": "distributed-madagascar",
   "metadata": {},
   "outputs": [
    {
     "data": {
      "text/plain": [
       "['ABCA13_LOF',\n",
       " 'ABCA5_LOF',\n",
       " 'ABCA8_LOF',\n",
       " 'ABCA9_LOF',\n",
       " 'ABCB5_LOF',\n",
       " 'ACADVL_LOF',\n",
       " 'ACOX1_LOF',\n",
       " 'ACSM1_LOF',\n",
       " 'ADAM7_LOF',\n",
       " 'AGT_LOF',\n",
       " 'AHDC1_LOF',\n",
       " 'AIMP1_LOF',\n",
       " 'AIRE_LOF',\n",
       " 'ALDH1A2_LOF',\n",
       " 'ALK_LOF',\n",
       " 'ALL',\n",
       " 'AML',\n",
       " 'ANKRD11_LOF',\n",
       " 'ANKRD30A_LOF',\n",
       " 'ANO4_LOF',\n",
       " 'AP2M1_LOF',\n",
       " 'APAF1_LOF',\n",
       " 'APC_LOF',\n",
       " 'APOH_LOF',\n",
       " 'ARID1A_LOF',\n",
       " 'ARID4A_LOF',\n",
       " 'ARID4B_LOF',\n",
       " 'ARMC4_LOF',\n",
       " 'ARMC9_LOF',\n",
       " 'ARMCX1_LOF',\n",
       " 'ASAP1_LOF',\n",
       " 'ASCC3_LOF',\n",
       " 'ASXL1_LOF',\n",
       " 'ATM_LOF',\n",
       " 'ATP2B1_LOF',\n",
       " 'ATP9B_LOF',\n",
       " 'ATRX_LOF',\n",
       " 'ATR_LOF',\n",
       " 'ATXN1_LOF',\n",
       " 'ATXN7_LOF',\n",
       " 'Adherent',\n",
       " 'BAZ2B_LOF',\n",
       " 'BCOR_LOF',\n",
       " 'BDP1_LOF',\n",
       " 'BPIFB4_LOF',\n",
       " 'BRAF_GOF',\n",
       " 'BRCA1_LOF',\n",
       " 'BRCA2_LOF',\n",
       " 'BTBD7_LOF',\n",
       " 'C2CD5_LOF',\n",
       " 'C8A_LOF',\n",
       " 'C8orf37_LOF',\n",
       " 'C8orf58_LOF',\n",
       " 'CALCR_LOF',\n",
       " 'CAMSAP1_LOF',\n",
       " 'CAPN15_LOF',\n",
       " 'CASD1_LOF',\n",
       " 'CC2D2A_LOF',\n",
       " 'CCDC160_LOF',\n",
       " 'CCDC78_LOF',\n",
       " 'CCDC84_LOF',\n",
       " 'CDH_VIM_hi',\n",
       " 'CDH_VIM_lo',\n",
       " 'CDK13_LOF',\n",
       " 'CDKN2A_GOF',\n",
       " 'CDKN2A_LOF',\n",
       " 'CENPF_LOF',\n",
       " 'CEP164_LOF',\n",
       " 'CEP290_LOF',\n",
       " 'CHD2_LOF',\n",
       " 'CHD9_LOF',\n",
       " 'CHUK_LOF',\n",
       " 'CIC_LOF',\n",
       " 'CIT_LOF',\n",
       " 'CLGN_LOF',\n",
       " 'CML',\n",
       " 'CNTF_LOF',\n",
       " 'CNTN5_LOF',\n",
       " 'COL11A1_LOF',\n",
       " 'COL4A4_LOF',\n",
       " 'COPA_LOF',\n",
       " 'COPB1_LOF',\n",
       " 'CPNE1_LOF',\n",
       " 'CPS1_LOF',\n",
       " 'CREBBP_LOF',\n",
       " 'CRTC1_LOF',\n",
       " 'CSMD1_LOF',\n",
       " 'CSPP1_LOF',\n",
       " 'CSRP2_LOF',\n",
       " 'CTNNA1_LOF',\n",
       " 'CTNNB1_GOF',\n",
       " 'CUX1_LOF',\n",
       " 'CYP4F2_GOF',\n",
       " 'DAPK1_LOF',\n",
       " 'DBN1_LOF',\n",
       " 'DCDC2B_LOF',\n",
       " 'DHX16_LOF',\n",
       " 'DKK3_LOF',\n",
       " 'DLG2_LOF',\n",
       " 'DMD_LOF',\n",
       " 'DNAH14_LOF',\n",
       " 'DNAH5_GOF',\n",
       " 'DNAH7_LOF',\n",
       " 'DNAJB4_LOF',\n",
       " 'DNHD1_LOF',\n",
       " 'DOCK2_LOF',\n",
       " 'DSCAM_LOF',\n",
       " 'DSP_LOF',\n",
       " 'ECD_LOF',\n",
       " 'EEA1_LOF',\n",
       " 'EFCAB13_LOF',\n",
       " 'EGFR_GOF',\n",
       " 'EIF4G1_LOF',\n",
       " 'EIF4G2_LOF',\n",
       " 'ELAVL2_LOF',\n",
       " 'ELF3_LOF',\n",
       " 'ENTPD2_LOF',\n",
       " 'EP300_LOF',\n",
       " 'EPG5_LOF',\n",
       " 'EPHA8_LOF',\n",
       " 'EPHX3_LOF',\n",
       " 'ERCC6L_LOF',\n",
       " 'ERMAP_LOF',\n",
       " 'ERpos_HER2neg',\n",
       " 'ESF1_LOF',\n",
       " 'EVC2_LOF',\n",
       " 'EYS_LOF',\n",
       " 'Ewing_sarcoma',\n",
       " 'F5_LOF',\n",
       " 'FAM168A_LOF',\n",
       " 'FANCM_LOF',\n",
       " 'FAT4_LOF',\n",
       " 'FBF1_LOF',\n",
       " 'FBXW7_GOF',\n",
       " 'FER1L6_LOF',\n",
       " 'FERMT2_LOF',\n",
       " 'FGFR3_GOF',\n",
       " 'FIP1L1_LOF',\n",
       " 'FLOT2_LOF',\n",
       " 'FRAS1_LOF',\n",
       " 'FRY_LOF',\n",
       " 'Female',\n",
       " 'GCFC2_LOF',\n",
       " 'GP1BA_LOF',\n",
       " 'HDAC10_LOF',\n",
       " 'HGD_LOF',\n",
       " 'HLA-DQB2_LOF',\n",
       " 'HMCN1_LOF',\n",
       " 'HPS3_LOF',\n",
       " 'HRAS_GOF',\n",
       " 'IBTK_LOF',\n",
       " 'INTS6_LOF',\n",
       " 'INVS_LOF',\n",
       " 'ITGB2_LOF',\n",
       " 'ITGB5_LOF',\n",
       " 'ITIH1_LOF',\n",
       " 'ITM2A_LOF',\n",
       " 'ITPR3_LOF',\n",
       " 'KANSL1L_LOF',\n",
       " 'KDM6A_LOF',\n",
       " 'KEAP1_LOF',\n",
       " 'KIAA1109_LOF',\n",
       " 'KIAA1755_LOF',\n",
       " 'KIF15_LOF',\n",
       " 'KLK6_LOF',\n",
       " 'KMT2A_LOF',\n",
       " 'KMT2C_LOF',\n",
       " 'KRAS_GOF',\n",
       " 'KRT14_LOF',\n",
       " 'KRT16_LOF',\n",
       " 'KRT17_LOF',\n",
       " 'KRT3_LOF',\n",
       " 'KRT74_LOF',\n",
       " 'KRT79_LOF',\n",
       " 'KRTAP10-6_LOF',\n",
       " 'LAMA5_LOF',\n",
       " 'LAMB2_LOF',\n",
       " 'LCA5_LOF',\n",
       " 'LIFR_LOF',\n",
       " 'LMBRD1_LOF',\n",
       " 'LONP2_LOF',\n",
       " 'LOXL2_LOF',\n",
       " 'LRP2_LOF',\n",
       " 'LRRC37A3_LOF',\n",
       " 'LRRC37B_LOF',\n",
       " 'LRRK2_LOF',\n",
       " 'LTBP1_LOF',\n",
       " 'LYPLA2_LOF',\n",
       " 'LZTR1_LOF',\n",
       " 'MACF1_LOF',\n",
       " 'MAP1B_LOF',\n",
       " 'MAP3K2_LOF',\n",
       " 'MAPK6_LOF',\n",
       " 'MAPT_LOF',\n",
       " 'MARCKS_LOF',\n",
       " 'MCPH1_LOF',\n",
       " 'MED12_LOF',\n",
       " 'MEGF10_LOF',\n",
       " 'MLLT11_LOF',\n",
       " 'MORC4_LOF',\n",
       " 'MRPL47_LOF',\n",
       " 'MS4A1_LOF',\n",
       " 'MUC16_GOF',\n",
       " 'MUC6_LOF',\n",
       " 'MYH13_LOF',\n",
       " 'MYH14_LOF',\n",
       " 'MYH15_LOF',\n",
       " 'MYO7B_LOF',\n",
       " 'NAALADL2_LOF',\n",
       " 'NBEAL1_LOF',\n",
       " 'NBR1_LOF',\n",
       " 'NEK1_LOF',\n",
       " 'NELFB_LOF',\n",
       " 'NF2_LOF',\n",
       " 'NFE2L2_GOF',\n",
       " 'NKX2-2_LOF',\n",
       " 'NLRP13_LOF',\n",
       " 'NLRP14_LOF',\n",
       " 'NPHP4_LOF',\n",
       " 'NRAS_GOF',\n",
       " 'NSCLC_adenocarcinoma',\n",
       " 'NSD1_LOF',\n",
       " 'OBSL1_LOF',\n",
       " 'OC90_LOF',\n",
       " 'OGFRL1_LOF',\n",
       " 'OR8I2_LOF',\n",
       " 'OXGR1_LOF',\n",
       " 'PBRM1_LOF',\n",
       " 'PCGF3_LOF',\n",
       " 'PCSK5_LOF',\n",
       " 'PGM2L1_LOF',\n",
       " 'PHF20L1_LOF',\n",
       " 'PHF20_LOF',\n",
       " 'PIK3CA_GOF',\n",
       " 'PILRB_LOF',\n",
       " 'PKDREJ_LOF',\n",
       " 'PKHD1_LOF',\n",
       " 'PLB1_LOF',\n",
       " 'PLCG1_LOF',\n",
       " 'PLCH1_LOF',\n",
       " 'POLD1_LOF',\n",
       " 'POM121L2_LOF',\n",
       " 'POR_LOF',\n",
       " 'PPM1D_LOF',\n",
       " 'PPP1R9A_LOF',\n",
       " 'PPP3R1_LOF',\n",
       " 'PREX2_LOF',\n",
       " 'PRKCA_LOF',\n",
       " 'PRRC2B_LOF',\n",
       " 'PRRC2C_LOF',\n",
       " 'PRSS3_LOF',\n",
       " 'PTEN_GOF',\n",
       " 'PTEN_LOF',\n",
       " 'PTPN23_LOF',\n",
       " 'PUS7L_LOF',\n",
       " 'PUS7_LOF',\n",
       " 'PWWP2A_LOF',\n",
       " 'PXDNL_LOF',\n",
       " 'PZP_LOF',\n",
       " 'RABL2A_LOF',\n",
       " 'RABL2B_LOF',\n",
       " 'RAP1GAP_LOF',\n",
       " 'RAPGEF2_LOF',\n",
       " 'RASA1_LOF',\n",
       " 'RB1_LOF',\n",
       " 'RBM10_LOF',\n",
       " 'RDH10_LOF',\n",
       " 'REEP2_LOF',\n",
       " 'RHOA_GOF',\n",
       " 'RICTOR_LOF',\n",
       " 'RNF4_LOF',\n",
       " 'ROBO2_LOF',\n",
       " 'RP1L1_LOF',\n",
       " 'RYR2_LOF',\n",
       " 'SCLC',\n",
       " 'SCN3A_LOF',\n",
       " 'SCN9A_LOF',\n",
       " 'SF3B1_LOF',\n",
       " 'SFSWAP_LOF',\n",
       " 'SIPA1L1_LOF',\n",
       " 'SLC22A16_LOF',\n",
       " 'SLC22A6_LOF',\n",
       " 'SLC28A2_LOF',\n",
       " 'SLC29A3_LOF',\n",
       " 'SLTM_LOF',\n",
       " 'SMAD4_LOF',\n",
       " 'SMARCA4_GOF',\n",
       " 'SMARCA4_LOF',\n",
       " 'SMC3_LOF',\n",
       " 'SNRNP48_LOF',\n",
       " 'SPAG17_LOF',\n",
       " 'SPAG1_LOF',\n",
       " 'SPRY4_LOF',\n",
       " 'SPTAN1_LOF',\n",
       " 'SPTBN5_LOF',\n",
       " 'STAB2_LOF',\n",
       " 'STAG2_LOF',\n",
       " 'STAT6_LOF',\n",
       " 'STIM2_LOF',\n",
       " 'STK10_LOF',\n",
       " 'STK11_GOF',\n",
       " 'SYNE1_LOF',\n",
       " 'SYNE2_LOF',\n",
       " 'Suspension',\n",
       " 'TCEAL3_LOF',\n",
       " 'TCF12_LOF',\n",
       " 'TCHH_LOF',\n",
       " 'TET2_LOF',\n",
       " 'TLL1_LOF',\n",
       " 'TMEM81_LOF',\n",
       " 'TMPRSS7_LOF',\n",
       " 'TNRC6B_LOF',\n",
       " 'TNS1_LOF',\n",
       " 'TP53_GOF',\n",
       " 'TP53_LOF',\n",
       " 'TPTE_LOF',\n",
       " 'TRANK1_LOF',\n",
       " 'TRIP12_LOF',\n",
       " 'TRPM1_LOF',\n",
       " 'TRRAP_LOF',\n",
       " 'TTC39A_LOF',\n",
       " 'TTF1_LOF',\n",
       " 'TTLL3_LOF',\n",
       " 'TTN_GOF',\n",
       " 'TTN_LOF',\n",
       " 'UBR5_LOF',\n",
       " 'UNC5C_LOF',\n",
       " 'UNC5D_LOF',\n",
       " 'USP34_LOF',\n",
       " 'VCAN_LOF',\n",
       " 'VHL_LOF',\n",
       " 'VPS13B_LOF',\n",
       " 'VWA8_LOF',\n",
       " 'WDFY3_LOF',\n",
       " 'WDR19_LOF',\n",
       " 'WDR36_LOF',\n",
       " 'WDR70_LOF',\n",
       " 'WSCD2_LOF',\n",
       " 'XIRP2_LOF',\n",
       " 'YEATS2_LOF',\n",
       " 'ZBTB10_LOF',\n",
       " 'ZBTB14_LOF',\n",
       " 'ZBTB41_LOF',\n",
       " 'ZFP36L2_LOF',\n",
       " 'ZMYM5_LOF',\n",
       " 'ZNF141_LOF',\n",
       " 'ZNF208_LOF',\n",
       " 'ZNF292_LOF',\n",
       " 'ZNF326_LOF',\n",
       " 'ZNF331_LOF',\n",
       " 'ZNF597_LOF',\n",
       " 'ZNF616_LOF',\n",
       " 'ZNF630_LOF',\n",
       " 'ZNF644_LOF',\n",
       " 'ZNF649_LOF',\n",
       " 'ZNF706_LOF',\n",
       " 'ZNF800_LOF',\n",
       " 'ZNF804A_LOF',\n",
       " 'ZNF816_LOF',\n",
       " 'b_cell',\n",
       " 'blood',\n",
       " 'bone',\n",
       " 'breast',\n",
       " 'central_nervous_system',\n",
       " 'cervix',\n",
       " 'cholangiocarcinoma',\n",
       " 'clear_cell',\n",
       " 'colorectal',\n",
       " 'esophagus',\n",
       " 'esophagus_squamous',\n",
       " 'exocrine_adenocarcinoma',\n",
       " 'gastric',\n",
       " 'glioblastoma',\n",
       " 'glioma',\n",
       " 'hepatocellular_carcinoma',\n",
       " 'high_grade_serous',\n",
       " 'intrahepatic',\n",
       " 'liposarcoma',\n",
       " 'lung',\n",
       " 'lymphocyte',\n",
       " 'malignant_rhabdoid_tumor',\n",
       " 'medulloblastoma',\n",
       " 'melanoma',\n",
       " 'mesothelioma',\n",
       " 'non_hodgkin_lymphoma',\n",
       " 'not found',\n",
       " 'ovary_adenocarcinoma',\n",
       " 'peripheral_nervous_system',\n",
       " 'plasma_cell',\n",
       " 'renal_cell_carcinoma',\n",
       " 'rhabdomyosarcoma',\n",
       " 'soft_tissue',\n",
       " 'upper_aerodigestive']"
      ]
     },
     "execution_count": 160,
     "metadata": {},
     "output_type": "execute_result"
    }
   ],
   "source": [
    "sorted( unique_strong_features )"
   ]
  },
  {
   "cell_type": "code",
   "execution_count": 202,
   "id": "every-idaho",
   "metadata": {},
   "outputs": [],
   "source": [
    "with open('./Data/unique_strong_features.txt', 'w') as fout:\n",
    "    for feat in sorted(unique_strong_features):\n",
    "        fout.write( feat + '\\n' )\n",
    "fout.close()"
   ]
  },
  {
   "cell_type": "code",
   "execution_count": 161,
   "id": "protected-glasgow",
   "metadata": {},
   "outputs": [
    {
     "name": "stdout",
     "output_type": "stream",
     "text": [
      "327 20 46\n"
     ]
    }
   ],
   "source": [
    "numLOF = len( [x for x in unique_strong_features if '_LOF' in x] )\n",
    "numGOF = len( [x for x in unique_strong_features if '_GOF' in x] )\n",
    "numOther = len(unique_strong_features) - numLOF - numGOF\n",
    "print(numLOF, numGOF, numOther)"
   ]
  }
 ],
 "metadata": {
  "kernelspec": {
   "display_name": "Python 3",
   "language": "python",
   "name": "python3"
  },
  "language_info": {
   "codemirror_mode": {
    "name": "ipython",
    "version": 3
   },
   "file_extension": ".py",
   "mimetype": "text/x-python",
   "name": "python",
   "nbconvert_exporter": "python",
   "pygments_lexer": "ipython3",
   "version": "3.8.10"
  }
 },
 "nbformat": 4,
 "nbformat_minor": 5
}
