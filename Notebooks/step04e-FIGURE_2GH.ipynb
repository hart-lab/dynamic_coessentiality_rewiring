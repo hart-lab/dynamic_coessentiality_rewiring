{
 "cells": [
  {
   "cell_type": "code",
   "execution_count": 2,
   "id": "wrapped-snake",
   "metadata": {},
   "outputs": [
    {
     "name": "stdout",
     "output_type": "stream",
     "text": [
      "Populating the interactive namespace from numpy and matplotlib\n"
     ]
    }
   ],
   "source": [
    "%pylab inline\n",
    "import pandas as pd"
   ]
  },
  {
   "cell_type": "code",
   "execution_count": 3,
   "id": "attractive-object",
   "metadata": {},
   "outputs": [],
   "source": [
    "import scipy.stats as stats\n",
    "import seaborn as sns"
   ]
  },
  {
   "cell_type": "code",
   "execution_count": 4,
   "id": "forbidden-start",
   "metadata": {},
   "outputs": [],
   "source": [
    "rcParams['pdf.fonttype']=42\n",
    "rcParams['font.family']='sans-serif'\n",
    "rcParams['font.size']=10"
   ]
  },
  {
   "cell_type": "code",
   "execution_count": 5,
   "id": "expired-insider",
   "metadata": {},
   "outputs": [],
   "source": [
    "def qnorm_dataframe( data ):\n",
    "\t\"\"\"\n",
    "\tquantile normalize a dataframe with numeric values only!\n",
    "\t\"\"\"\n",
    "\trank_mean = data.stack().groupby(data.rank(method='first').stack().astype(int)).mean()\n",
    "\tqnormed_data    = data.rank(method='min').stack().astype(int).map(rank_mean).unstack()\n",
    "\treturn qnormed_data"
   ]
  },
  {
   "cell_type": "code",
   "execution_count": 6,
   "id": "expanded-indiana",
   "metadata": {},
   "outputs": [
    {
     "name": "stdout",
     "output_type": "stream",
     "text": [
      "<class 'pandas.core.frame.DataFrame'>\n",
      "Index: 808 entries, ACH-001172 to ACH-002510\n",
      "Columns: 2918 entries, plasma_cell to CDH_VIM_lo\n",
      "dtypes: bool(2918)\n",
      "memory usage: 2.3+ MB\n"
     ]
    }
   ],
   "source": [
    "feats = pd.read_table('./Data/features-bool-deDuped-2918feats-808cells.txt', index_col=0)\n",
    "feats.info()"
   ]
  },
  {
   "cell_type": "code",
   "execution_count": 7,
   "id": "brazilian-spelling",
   "metadata": {},
   "outputs": [
    {
     "name": "stdout",
     "output_type": "stream",
     "text": [
      "<class 'pandas.core.frame.DataFrame'>\n",
      "Index: 808 entries, ACH-001172 to ACH-002510\n",
      "Columns: 18095 entries, A1BG to ZZZ3\n",
      "dtypes: float64(18095)\n",
      "memory usage: 111.6+ MB\n"
     ]
    }
   ],
   "source": [
    "bf = pd.read_table('./Data/table_Avana2020Q4_CRISPRcleanR_corrected_all', index_col=0)\n",
    "qbf = qnorm_dataframe( bf ).T\n",
    "qbf.info()"
   ]
  },
  {
   "cell_type": "code",
   "execution_count": 8,
   "id": "every-blast",
   "metadata": {},
   "outputs": [
    {
     "name": "stdout",
     "output_type": "stream",
     "text": [
      "<class 'pandas.core.frame.DataFrame'>\n",
      "Index: 808 entries, ACH-001172 to ACH-002510\n",
      "Columns: 21013 entries, plasma_cell to ZZZ3\n",
      "dtypes: bool(2918), float64(18095)\n",
      "memory usage: 113.8+ MB\n"
     ]
    }
   ],
   "source": [
    "data = feats.join(qbf, how='inner')\n",
    "data.info()"
   ]
  },
  {
   "cell_type": "code",
   "execution_count": 9,
   "id": "thousand-premiere",
   "metadata": {},
   "outputs": [
    {
     "name": "stdout",
     "output_type": "stream",
     "text": [
      "<class 'pandas.core.frame.DataFrame'>\n",
      "RangeIndex: 12488 entries, 0 to 12487\n",
      "Data columns (total 7 columns):\n",
      " #   Column     Non-Null Count  Dtype  \n",
      "---  ------     --------------  -----  \n",
      " 0   Condition  12488 non-null  object \n",
      " 1   Gene1      12488 non-null  object \n",
      " 2   Gene2      12488 non-null  object \n",
      " 3   PCC_all    12488 non-null  float64\n",
      " 4   PCC_L1out  12488 non-null  float64\n",
      " 5   dPCC       12488 non-null  float64\n",
      " 6   Pval       12488 non-null  float64\n",
      "dtypes: float64(4), object(3)\n",
      "memory usage: 683.1+ KB\n"
     ]
    }
   ],
   "source": [
    "hits = pd.read_table('./highly-filtered-hits-12kEdges-133features-PCCge248-dPCCge100.txt', sep='\\t')\n",
    "hits.info()"
   ]
  },
  {
   "cell_type": "code",
   "execution_count": 10,
   "id": "minute-chair",
   "metadata": {},
   "outputs": [
    {
     "data": {
      "text/html": [
       "<div>\n",
       "<style scoped>\n",
       "    .dataframe tbody tr th:only-of-type {\n",
       "        vertical-align: middle;\n",
       "    }\n",
       "\n",
       "    .dataframe tbody tr th {\n",
       "        vertical-align: top;\n",
       "    }\n",
       "\n",
       "    .dataframe thead th {\n",
       "        text-align: right;\n",
       "    }\n",
       "</style>\n",
       "<table border=\"1\" class=\"dataframe\">\n",
       "  <thead>\n",
       "    <tr style=\"text-align: right;\">\n",
       "      <th></th>\n",
       "      <th>Condition</th>\n",
       "      <th>Gene1</th>\n",
       "      <th>Gene2</th>\n",
       "      <th>PCC_all</th>\n",
       "      <th>PCC_L1out</th>\n",
       "      <th>dPCC</th>\n",
       "      <th>Pval</th>\n",
       "    </tr>\n",
       "  </thead>\n",
       "  <tbody>\n",
       "    <tr>\n",
       "      <th>12166</th>\n",
       "      <td>peripheral_nervous_system</td>\n",
       "      <td>HAND2</td>\n",
       "      <td>MYCN</td>\n",
       "      <td>0.391</td>\n",
       "      <td>-0.130</td>\n",
       "      <td>0.522</td>\n",
       "      <td>0.0</td>\n",
       "    </tr>\n",
       "    <tr>\n",
       "      <th>12185</th>\n",
       "      <td>peripheral_nervous_system</td>\n",
       "      <td>ISL1</td>\n",
       "      <td>MYCN</td>\n",
       "      <td>0.463</td>\n",
       "      <td>-0.052</td>\n",
       "      <td>0.515</td>\n",
       "      <td>0.0</td>\n",
       "    </tr>\n",
       "    <tr>\n",
       "      <th>11245</th>\n",
       "      <td>blood</td>\n",
       "      <td>ABL1</td>\n",
       "      <td>BCR</td>\n",
       "      <td>0.602</td>\n",
       "      <td>0.091</td>\n",
       "      <td>0.512</td>\n",
       "      <td>0.0</td>\n",
       "    </tr>\n",
       "    <tr>\n",
       "      <th>329</th>\n",
       "      <td>CML</td>\n",
       "      <td>ABL1</td>\n",
       "      <td>BCR</td>\n",
       "      <td>0.602</td>\n",
       "      <td>0.099</td>\n",
       "      <td>0.504</td>\n",
       "      <td>0.0</td>\n",
       "    </tr>\n",
       "    <tr>\n",
       "      <th>12000</th>\n",
       "      <td>melanoma</td>\n",
       "      <td>BRAF</td>\n",
       "      <td>SOX10</td>\n",
       "      <td>0.591</td>\n",
       "      <td>0.088</td>\n",
       "      <td>0.502</td>\n",
       "      <td>0.0</td>\n",
       "    </tr>\n",
       "  </tbody>\n",
       "</table>\n",
       "</div>"
      ],
      "text/plain": [
       "                       Condition  Gene1  Gene2  PCC_all  PCC_L1out   dPCC  \\\n",
       "12166  peripheral_nervous_system  HAND2   MYCN    0.391     -0.130  0.522   \n",
       "12185  peripheral_nervous_system   ISL1   MYCN    0.463     -0.052  0.515   \n",
       "11245                      blood   ABL1    BCR    0.602      0.091  0.512   \n",
       "329                          CML   ABL1    BCR    0.602      0.099  0.504   \n",
       "12000                   melanoma   BRAF  SOX10    0.591      0.088  0.502   \n",
       "\n",
       "       Pval  \n",
       "12166   0.0  \n",
       "12185   0.0  \n",
       "11245   0.0  \n",
       "329     0.0  \n",
       "12000   0.0  "
      ]
     },
     "execution_count": 10,
     "metadata": {},
     "output_type": "execute_result"
    }
   ],
   "source": [
    "hits.sort_values('dPCC', ascending=False, inplace=True)\n",
    "hits.head()"
   ]
  },
  {
   "cell_type": "code",
   "execution_count": 11,
   "id": "composite-clothing",
   "metadata": {},
   "outputs": [
    {
     "data": {
      "text/html": [
       "<div>\n",
       "<style scoped>\n",
       "    .dataframe tbody tr th:only-of-type {\n",
       "        vertical-align: middle;\n",
       "    }\n",
       "\n",
       "    .dataframe tbody tr th {\n",
       "        vertical-align: top;\n",
       "    }\n",
       "\n",
       "    .dataframe thead th {\n",
       "        text-align: right;\n",
       "    }\n",
       "</style>\n",
       "<table border=\"1\" class=\"dataframe\">\n",
       "  <thead>\n",
       "    <tr style=\"text-align: right;\">\n",
       "      <th></th>\n",
       "      <th>Condition</th>\n",
       "      <th>Gene1</th>\n",
       "      <th>Gene2</th>\n",
       "      <th>PCC_all</th>\n",
       "      <th>PCC_L1out</th>\n",
       "      <th>dPCC</th>\n",
       "      <th>Pval</th>\n",
       "    </tr>\n",
       "  </thead>\n",
       "  <tbody>\n",
       "    <tr>\n",
       "      <th>4919</th>\n",
       "      <td>TP53_GOF</td>\n",
       "      <td>CYRIA</td>\n",
       "      <td>MVP</td>\n",
       "      <td>0.047</td>\n",
       "      <td>0.265</td>\n",
       "      <td>-0.218</td>\n",
       "      <td>0.0</td>\n",
       "    </tr>\n",
       "    <tr>\n",
       "      <th>1731</th>\n",
       "      <td>TP53_GOF</td>\n",
       "      <td>ADAM18</td>\n",
       "      <td>FGFBP3</td>\n",
       "      <td>0.091</td>\n",
       "      <td>0.315</td>\n",
       "      <td>-0.224</td>\n",
       "      <td>0.0</td>\n",
       "    </tr>\n",
       "    <tr>\n",
       "      <th>269</th>\n",
       "      <td>BRAF_GOF</td>\n",
       "      <td>MAPK1</td>\n",
       "      <td>SHOC2</td>\n",
       "      <td>0.205</td>\n",
       "      <td>0.475</td>\n",
       "      <td>-0.270</td>\n",
       "      <td>0.0</td>\n",
       "    </tr>\n",
       "    <tr>\n",
       "      <th>239</th>\n",
       "      <td>BRAF_GOF</td>\n",
       "      <td>BRAF</td>\n",
       "      <td>RAF1</td>\n",
       "      <td>0.124</td>\n",
       "      <td>0.487</td>\n",
       "      <td>-0.363</td>\n",
       "      <td>0.0</td>\n",
       "    </tr>\n",
       "    <tr>\n",
       "      <th>240</th>\n",
       "      <td>BRAF_GOF</td>\n",
       "      <td>BRAF</td>\n",
       "      <td>SHOC2</td>\n",
       "      <td>0.010</td>\n",
       "      <td>0.408</td>\n",
       "      <td>-0.399</td>\n",
       "      <td>0.0</td>\n",
       "    </tr>\n",
       "  </tbody>\n",
       "</table>\n",
       "</div>"
      ],
      "text/plain": [
       "     Condition   Gene1   Gene2  PCC_all  PCC_L1out   dPCC  Pval\n",
       "4919  TP53_GOF   CYRIA     MVP    0.047      0.265 -0.218   0.0\n",
       "1731  TP53_GOF  ADAM18  FGFBP3    0.091      0.315 -0.224   0.0\n",
       "269   BRAF_GOF   MAPK1   SHOC2    0.205      0.475 -0.270   0.0\n",
       "239   BRAF_GOF    BRAF    RAF1    0.124      0.487 -0.363   0.0\n",
       "240   BRAF_GOF    BRAF   SHOC2    0.010      0.408 -0.399   0.0"
      ]
     },
     "execution_count": 11,
     "metadata": {},
     "output_type": "execute_result"
    }
   ],
   "source": [
    "hits.tail()"
   ]
  },
  {
   "cell_type": "code",
   "execution_count": 12,
   "id": "substantial-justice",
   "metadata": {},
   "outputs": [
    {
     "data": {
      "text/html": [
       "<div>\n",
       "<style scoped>\n",
       "    .dataframe tbody tr th:only-of-type {\n",
       "        vertical-align: middle;\n",
       "    }\n",
       "\n",
       "    .dataframe tbody tr th {\n",
       "        vertical-align: top;\n",
       "    }\n",
       "\n",
       "    .dataframe thead th {\n",
       "        text-align: right;\n",
       "    }\n",
       "</style>\n",
       "<table border=\"1\" class=\"dataframe\">\n",
       "  <thead>\n",
       "    <tr style=\"text-align: right;\">\n",
       "      <th></th>\n",
       "      <th>Condition</th>\n",
       "      <th>Gene1</th>\n",
       "      <th>Gene2</th>\n",
       "      <th>PCC_all</th>\n",
       "      <th>PCC_L1out</th>\n",
       "      <th>dPCC</th>\n",
       "      <th>Pval</th>\n",
       "    </tr>\n",
       "  </thead>\n",
       "  <tbody>\n",
       "    <tr>\n",
       "      <th>239</th>\n",
       "      <td>BRAF_GOF</td>\n",
       "      <td>BRAF</td>\n",
       "      <td>RAF1</td>\n",
       "      <td>0.124</td>\n",
       "      <td>0.487</td>\n",
       "      <td>-0.363</td>\n",
       "      <td>0.0</td>\n",
       "    </tr>\n",
       "  </tbody>\n",
       "</table>\n",
       "</div>"
      ],
      "text/plain": [
       "    Condition Gene1 Gene2  PCC_all  PCC_L1out   dPCC  Pval\n",
       "239  BRAF_GOF  BRAF  RAF1    0.124      0.487 -0.363   0.0"
      ]
     },
     "execution_count": 12,
     "metadata": {},
     "output_type": "execute_result"
    }
   ],
   "source": [
    "hits[ (hits.Condition=='BRAF_GOF') & (hits.Gene1=='BRAF') & (hits.Gene2=='RAF1')]"
   ]
  },
  {
   "cell_type": "code",
   "execution_count": 13,
   "id": "ignored-malta",
   "metadata": {},
   "outputs": [],
   "source": [
    "#figure( figsize(4,4))\n",
    "#sns.regplot( x='BRAF', y='RAF1', data=data[ data.BRAF_GOF==False], \n",
    "#sns.regplot( x='BRAF', y='RAF1', data=data, \n",
    "#            color=sns.color_palette(\"tab10\")[7], \n",
    "#            scatter_kws={'s':4, 'alpha':0.5} )\n",
    "#sns.regplot( x='BRAF', y='RAF1', data=data[ data.BRAF_GOF==True], \n",
    "#            color=sns.color_palette(\"tab10\")[1], \n",
    "#            scatter_kws={'s':4})\n",
    "#savefig('./Figures/Fig_2_G.pdf')\n",
    "#savefig('./Figures/Fig_2_G.png')\n",
    "#show()"
   ]
  },
  {
   "cell_type": "code",
   "execution_count": 13,
   "id": "dedicated-deficit",
   "metadata": {},
   "outputs": [
    {
     "data": {
      "image/png": "[encoded data removed]",
      "text/plain": [
       "<Figure size 288x288 with 1 Axes>"
      ]
     },
     "metadata": {
      "needs_background": "light"
     },
     "output_type": "display_data"
    }
   ],
   "source": [
    "figure( figsize(4,4))\n",
    "sns.scatterplot( x='BRAF', y='RAF1', data=data[ data.BRAF_GOF==False], \n",
    "            color=sns.color_palette(\"tab10\")[7], s=20, alpha=.5)\n",
    "sns.scatterplot( x='BRAF', y='RAF1', data=data[ data.BRAF_GOF==True], \n",
    "            color=sns.color_palette(\"tab10\")[1], s=20)\n",
    "sns.regplot( x='BRAF', y='RAF1', data=data, \n",
    "            color=sns.color_palette(\"tab10\")[1], \n",
    "            scatter=False)\n",
    "            #scatter_kws={'s':4, 'alpha':0.5} )\n",
    "sns.regplot( x='BRAF', y='RAF1', data=data[ data.BRAF_GOF==False], \n",
    "            color=sns.color_palette(\"tab10\")[7],\n",
    "            scatter=False)\n",
    "            #scatter_kws={'s':4})\n",
    "savefig('./Figures/Fig_2_G.pdf')\n",
    "savefig('./Figures/Fig_2_G.png')\n",
    "show()"
   ]
  },
  {
   "cell_type": "code",
   "execution_count": 14,
   "id": "manufactured-ontario",
   "metadata": {},
   "outputs": [
    {
     "data": {
      "image/png": "[encoded data removed]",
      "text/plain": [
       "<Figure size 288x288 with 1 Axes>"
      ]
     },
     "metadata": {
      "needs_background": "light"
     },
     "output_type": "display_data"
    }
   ],
   "source": [
    "figure( figsize(4,4))\n",
    "sns.scatterplot( x='ABL1', y='BCR', data=data[ data.CML==False], \n",
    "            color=sns.color_palette(\"tab10\")[7], s=20, alpha=.5)\n",
    "sns.scatterplot( x='ABL1', y='BCR', data=data[ data.CML==True], \n",
    "            color=sns.color_palette(\"tab10\")[2], s=20)\n",
    "sns.regplot( x='ABL1', y='BCR', data=data, \n",
    "            color=sns.color_palette(\"tab10\")[2],\n",
    "            scatter=False)\n",
    "#            scatter_kws={'s':5})\n",
    "sns.regplot( x='ABL1', y='BCR', data=data[ data.CML==False], \n",
    "            color=sns.color_palette(\"tab10\")[7], \n",
    "            scatter=False)\n",
    "#            scatter_kws={'s':5, 'alpha':0.5})\n",
    "savefig('./Figures/Fig_2_H.pdf')\n",
    "savefig('./Figures/Fig_2_H.png')\n",
    "show()"
   ]
  },
  {
   "cell_type": "code",
   "execution_count": 16,
   "id": "confirmed-success",
   "metadata": {},
   "outputs": [
    {
     "data": {
      "image/png": "[encoded data removed]",
      "text/plain": [
       "<Figure size 288x288 with 1 Axes>"
      ]
     },
     "metadata": {
      "needs_background": "light"
     },
     "output_type": "display_data"
    }
   ],
   "source": [
    "figure( figsize(4,4))\n",
    "sns.scatterplot( x='SPDEF', y='FOXA1', data=data[ data.breast==False], \n",
    "            color=sns.color_palette(\"tab10\")[7], s=20, alpha=.5)\n",
    "sns.scatterplot( x='SPDEF', y='FOXA1', data=data[ data.breast==True], \n",
    "            color=sns.color_palette(\"tab10\")[2], s=20)\n",
    "sns.regplot( x='SPDEF', y='FOXA1', data=data, \n",
    "            color=sns.color_palette(\"tab10\")[2],\n",
    "            scatter=False)\n",
    "            #scatter_kws={'s':5})\n",
    "sns.regplot( x='SPDEF', y='FOXA1', data=data[ data.breast==False], \n",
    "            color=sns.color_palette(\"tab10\")[7], \n",
    "            scatter=False)\n",
    "            #scatter_kws={'s':5, 'alpha':0.5})\n",
    "#xlim(-90,85)\n",
    "#ylim(-75,140)\n",
    "#savefig('./Figures/Fig_2_H.pdf')\n",
    "#savefig('./Figures/Fig_2_H.png')\n",
    "show()"
   ]
  },
  {
   "cell_type": "code",
   "execution_count": null,
   "id": "internal-antibody",
   "metadata": {},
   "outputs": [],
   "source": []
  }
 ],
 "metadata": {
  "kernelspec": {
   "display_name": "Python 3",
   "language": "python",
   "name": "python3"
  },
  "language_info": {
   "codemirror_mode": {
    "name": "ipython",
    "version": 3
   },
   "file_extension": ".py",
   "mimetype": "text/x-python",
   "name": "python",
   "nbconvert_exporter": "python",
   "pygments_lexer": "ipython3",
   "version": "3.8.5"
  }
 },
 "nbformat": 4,
 "nbformat_minor": 5
}
