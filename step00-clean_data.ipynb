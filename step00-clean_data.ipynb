{
 "cells": [
  {
   "cell_type": "code",
   "execution_count": 1,
   "id": "chronic-coupon",
   "metadata": {},
   "outputs": [
    {
     "name": "stdout",
     "output_type": "stream",
     "text": [
      "Populating the interactive namespace from numpy and matplotlib\n"
     ]
    }
   ],
   "source": [
    "%pylab inline\n",
    "import pandas as pd"
   ]
  },
  {
   "cell_type": "code",
   "execution_count": 2,
   "id": "wound-inquiry",
   "metadata": {},
   "outputs": [
    {
     "data": {
      "text/html": [
       "<div>\n",
       "<style scoped>\n",
       "    .dataframe tbody tr th:only-of-type {\n",
       "        vertical-align: middle;\n",
       "    }\n",
       "\n",
       "    .dataframe tbody tr th {\n",
       "        vertical-align: top;\n",
       "    }\n",
       "\n",
       "    .dataframe thead th {\n",
       "        text-align: right;\n",
       "    }\n",
       "</style>\n",
       "<table border=\"1\" class=\"dataframe\">\n",
       "  <thead>\n",
       "    <tr style=\"text-align: right;\">\n",
       "      <th></th>\n",
       "      <th>cell_line_name</th>\n",
       "      <th>stripped_cell_line_name</th>\n",
       "      <th>CCLE_Name</th>\n",
       "      <th>alias</th>\n",
       "      <th>COSMICID</th>\n",
       "      <th>sex</th>\n",
       "      <th>source</th>\n",
       "      <th>Achilles_n_replicates</th>\n",
       "      <th>cell_line_NNMD</th>\n",
       "      <th>culture_type</th>\n",
       "      <th>...</th>\n",
       "      <th>primary_or_metastasis</th>\n",
       "      <th>primary_disease</th>\n",
       "      <th>Subtype</th>\n",
       "      <th>age</th>\n",
       "      <th>Sanger_Model_ID</th>\n",
       "      <th>depmap_public_comments</th>\n",
       "      <th>lineage</th>\n",
       "      <th>lineage_subtype</th>\n",
       "      <th>lineage_sub_subtype</th>\n",
       "      <th>lineage_molecular_subtype</th>\n",
       "    </tr>\n",
       "    <tr>\n",
       "      <th>DepMap_ID</th>\n",
       "      <th></th>\n",
       "      <th></th>\n",
       "      <th></th>\n",
       "      <th></th>\n",
       "      <th></th>\n",
       "      <th></th>\n",
       "      <th></th>\n",
       "      <th></th>\n",
       "      <th></th>\n",
       "      <th></th>\n",
       "      <th></th>\n",
       "      <th></th>\n",
       "      <th></th>\n",
       "      <th></th>\n",
       "      <th></th>\n",
       "      <th></th>\n",
       "      <th></th>\n",
       "      <th></th>\n",
       "      <th></th>\n",
       "      <th></th>\n",
       "      <th></th>\n",
       "    </tr>\n",
       "  </thead>\n",
       "  <tbody>\n",
       "    <tr>\n",
       "      <th>ACH-000001</th>\n",
       "      <td>NIH:OVCAR-3</td>\n",
       "      <td>NIHOVCAR3</td>\n",
       "      <td>NIHOVCAR3_OVARY</td>\n",
       "      <td>OVCAR3</td>\n",
       "      <td>905933.0</td>\n",
       "      <td>Female</td>\n",
       "      <td>ATCC</td>\n",
       "      <td>NaN</td>\n",
       "      <td>NaN</td>\n",
       "      <td>NaN</td>\n",
       "      <td>...</td>\n",
       "      <td>Metastasis</td>\n",
       "      <td>Ovarian Cancer</td>\n",
       "      <td>Adenocarcinoma, high grade serous</td>\n",
       "      <td>60.0</td>\n",
       "      <td>SIDM00105</td>\n",
       "      <td>NaN</td>\n",
       "      <td>ovary</td>\n",
       "      <td>ovary_adenocarcinoma</td>\n",
       "      <td>high_grade_serous</td>\n",
       "      <td>NaN</td>\n",
       "    </tr>\n",
       "    <tr>\n",
       "      <th>ACH-000002</th>\n",
       "      <td>HL-60</td>\n",
       "      <td>HL60</td>\n",
       "      <td>HL60_HAEMATOPOIETIC_AND_LYMPHOID_TISSUE</td>\n",
       "      <td>NaN</td>\n",
       "      <td>905938.0</td>\n",
       "      <td>Female</td>\n",
       "      <td>ATCC</td>\n",
       "      <td>NaN</td>\n",
       "      <td>NaN</td>\n",
       "      <td>NaN</td>\n",
       "      <td>...</td>\n",
       "      <td>Primary</td>\n",
       "      <td>Leukemia</td>\n",
       "      <td>Acute Myelogenous Leukemia (AML), M3 (Promyelo...</td>\n",
       "      <td>35.0</td>\n",
       "      <td>SIDM00829</td>\n",
       "      <td>NaN</td>\n",
       "      <td>blood</td>\n",
       "      <td>AML</td>\n",
       "      <td>M3</td>\n",
       "      <td>NaN</td>\n",
       "    </tr>\n",
       "    <tr>\n",
       "      <th>ACH-000003</th>\n",
       "      <td>CACO2</td>\n",
       "      <td>CACO2</td>\n",
       "      <td>CACO2_LARGE_INTESTINE</td>\n",
       "      <td>CACO2, CaCo-2</td>\n",
       "      <td>NaN</td>\n",
       "      <td>Male</td>\n",
       "      <td>ATCC</td>\n",
       "      <td>NaN</td>\n",
       "      <td>NaN</td>\n",
       "      <td>NaN</td>\n",
       "      <td>...</td>\n",
       "      <td>NaN</td>\n",
       "      <td>Colon/Colorectal Cancer</td>\n",
       "      <td>Adenocarcinoma</td>\n",
       "      <td>NaN</td>\n",
       "      <td>SIDM00891</td>\n",
       "      <td>NaN</td>\n",
       "      <td>colorectal</td>\n",
       "      <td>colorectal_adenocarcinoma</td>\n",
       "      <td>NaN</td>\n",
       "      <td>NaN</td>\n",
       "    </tr>\n",
       "  </tbody>\n",
       "</table>\n",
       "<p>3 rows × 25 columns</p>\n",
       "</div>"
      ],
      "text/plain": [
       "           cell_line_name stripped_cell_line_name  \\\n",
       "DepMap_ID                                           \n",
       "ACH-000001    NIH:OVCAR-3               NIHOVCAR3   \n",
       "ACH-000002          HL-60                    HL60   \n",
       "ACH-000003          CACO2                   CACO2   \n",
       "\n",
       "                                          CCLE_Name          alias  COSMICID  \\\n",
       "DepMap_ID                                                                      \n",
       "ACH-000001                          NIHOVCAR3_OVARY         OVCAR3  905933.0   \n",
       "ACH-000002  HL60_HAEMATOPOIETIC_AND_LYMPHOID_TISSUE            NaN  905938.0   \n",
       "ACH-000003                    CACO2_LARGE_INTESTINE  CACO2, CaCo-2       NaN   \n",
       "\n",
       "               sex source  Achilles_n_replicates  cell_line_NNMD culture_type  \\\n",
       "DepMap_ID                                                                       \n",
       "ACH-000001  Female   ATCC                    NaN             NaN          NaN   \n",
       "ACH-000002  Female   ATCC                    NaN             NaN          NaN   \n",
       "ACH-000003    Male   ATCC                    NaN             NaN          NaN   \n",
       "\n",
       "            ... primary_or_metastasis          primary_disease  \\\n",
       "DepMap_ID   ...                                                  \n",
       "ACH-000001  ...            Metastasis           Ovarian Cancer   \n",
       "ACH-000002  ...               Primary                 Leukemia   \n",
       "ACH-000003  ...                   NaN  Colon/Colorectal Cancer   \n",
       "\n",
       "                                                      Subtype   age  \\\n",
       "DepMap_ID                                                             \n",
       "ACH-000001                  Adenocarcinoma, high grade serous  60.0   \n",
       "ACH-000002  Acute Myelogenous Leukemia (AML), M3 (Promyelo...  35.0   \n",
       "ACH-000003                                     Adenocarcinoma   NaN   \n",
       "\n",
       "           Sanger_Model_ID depmap_public_comments     lineage  \\\n",
       "DepMap_ID                                                       \n",
       "ACH-000001       SIDM00105                    NaN       ovary   \n",
       "ACH-000002       SIDM00829                    NaN       blood   \n",
       "ACH-000003       SIDM00891                    NaN  colorectal   \n",
       "\n",
       "                      lineage_subtype  lineage_sub_subtype  \\\n",
       "DepMap_ID                                                    \n",
       "ACH-000001       ovary_adenocarcinoma    high_grade_serous   \n",
       "ACH-000002                        AML                   M3   \n",
       "ACH-000003  colorectal_adenocarcinoma                  NaN   \n",
       "\n",
       "           lineage_molecular_subtype  \n",
       "DepMap_ID                             \n",
       "ACH-000001                       NaN  \n",
       "ACH-000002                       NaN  \n",
       "ACH-000003                       NaN  \n",
       "\n",
       "[3 rows x 25 columns]"
      ]
     },
     "execution_count": 2,
     "metadata": {},
     "output_type": "execute_result"
    }
   ],
   "source": [
    "cells = pd.read_csv('./Data/sample_info_20201216.csv', index_col=0)\n",
    "cells.head(3)"
   ]
  },
  {
   "cell_type": "code",
   "execution_count": 3,
   "id": "instant-rates",
   "metadata": {},
   "outputs": [
    {
     "name": "stdout",
     "output_type": "stream",
     "text": [
      "<class 'pandas.core.frame.DataFrame'>\n",
      "Index: 18111 entries, A1BG to ZZZ3\n",
      "Columns: 808 entries, ACH-001172 to ACH-002510\n",
      "dtypes: float64(808)\n",
      "memory usage: 111.8+ MB\n"
     ]
    }
   ],
   "source": [
    "bf = pd.read_csv('./Data/table_Avana2020Q4_CRISPRcleanR_corrected_all', sep='\\t', index_col=0)\n",
    "bf.info()"
   ]
  },
  {
   "cell_type": "code",
   "execution_count": 4,
   "id": "weekly-water",
   "metadata": {},
   "outputs": [
    {
     "name": "stdout",
     "output_type": "stream",
     "text": [
      "<class 'pandas.core.frame.DataFrame'>\n",
      "Index: 808 entries, ACH-001172 to ACH-002510\n",
      "Data columns (total 25 columns):\n",
      " #   Column                     Non-Null Count  Dtype  \n",
      "---  ------                     --------------  -----  \n",
      " 0   cell_line_name             792 non-null    object \n",
      " 1   stripped_cell_line_name    808 non-null    object \n",
      " 2   CCLE_Name                  808 non-null    object \n",
      " 3   alias                      36 non-null     object \n",
      " 4   COSMICID                   416 non-null    float64\n",
      " 5   sex                        808 non-null    object \n",
      " 6   source                     808 non-null    object \n",
      " 7   Achilles_n_replicates      808 non-null    float64\n",
      " 8   cell_line_NNMD             808 non-null    float64\n",
      " 9   culture_type               643 non-null    object \n",
      " 10  culture_medium             808 non-null    object \n",
      " 11  cas9_activity              799 non-null    float64\n",
      " 12  RRID                       750 non-null    object \n",
      " 13  WTSI_Master_Cell_ID        416 non-null    float64\n",
      " 14  sample_collection_site     808 non-null    object \n",
      " 15  primary_or_metastasis      621 non-null    object \n",
      " 16  primary_disease            808 non-null    object \n",
      " 17  Subtype                    777 non-null    object \n",
      " 18  age                        544 non-null    float64\n",
      " 19  Sanger_Model_ID            491 non-null    object \n",
      " 20  depmap_public_comments     5 non-null      object \n",
      " 21  lineage                    808 non-null    object \n",
      " 22  lineage_subtype            803 non-null    object \n",
      " 23  lineage_sub_subtype        405 non-null    object \n",
      " 24  lineage_molecular_subtype  77 non-null     object \n",
      "dtypes: float64(6), object(19)\n",
      "memory usage: 164.1+ KB\n"
     ]
    }
   ],
   "source": [
    "cells = cells.loc[ bf.columns.values]\n",
    "cells.info()"
   ]
  },
  {
   "cell_type": "code",
   "execution_count": 5,
   "id": "asian-kennedy",
   "metadata": {},
   "outputs": [],
   "source": [
    "cells.to_csv('./Data/sample_info_808cells_20q4Avana.csv', index=True)"
   ]
  },
  {
   "cell_type": "code",
   "execution_count": 6,
   "id": "headed-policy",
   "metadata": {},
   "outputs": [
    {
     "name": "stderr",
     "output_type": "stream",
     "text": [
      "/home/traver/.local/lib/python3.8/site-packages/IPython/core/interactiveshell.py:3155: DtypeWarning: Columns (3,19,25,26,27,28,29,30,31) have mixed types.Specify dtype option on import or set low_memory=False.\n",
      "  has_raised = await self.run_ast_nodes(code_ast.body, cell_name,\n"
     ]
    },
    {
     "name": "stdout",
     "output_type": "stream",
     "text": [
      "<class 'pandas.core.frame.DataFrame'>\n",
      "RangeIndex: 1239235 entries, 0 to 1239234\n",
      "Data columns (total 34 columns):\n",
      " #   Column                  Non-Null Count    Dtype  \n",
      "---  ------                  --------------    -----  \n",
      " 0   Hugo_Symbol             1239235 non-null  object \n",
      " 1   Entrez_Gene_Id          1239235 non-null  int64  \n",
      " 2   NCBI_Build              1239235 non-null  int64  \n",
      " 3   Chromosome              1239235 non-null  object \n",
      " 4   Start_position          1239235 non-null  int64  \n",
      " 5   End_position            1239235 non-null  int64  \n",
      " 6   Strand                  1239235 non-null  object \n",
      " 7   Variant_Classification  1238736 non-null  object \n",
      " 8   Variant_Type            1238738 non-null  object \n",
      " 9   Reference_Allele        1239235 non-null  object \n",
      " 10  Tumor_Seq_Allele1       1239235 non-null  object \n",
      " 11  dbSNP_RS                188012 non-null   object \n",
      " 12  dbSNP_Val_Status        34029 non-null    object \n",
      " 13  Genome_Change           1238636 non-null  object \n",
      " 14  Annotation_Transcript   1238631 non-null  object \n",
      " 15  Tumor_Sample_Barcode    1239235 non-null  object \n",
      " 16  cDNA_Change             1213364 non-null  object \n",
      " 17  Codon_Change            1233013 non-null  object \n",
      " 18  Protein_Change          1213356 non-null  object \n",
      " 19  isDeleterious           1239233 non-null  object \n",
      " 20  isTCGAhotspot           1239235 non-null  bool   \n",
      " 21  TCGAhsCnt               1214543 non-null  float64\n",
      " 22  isCOSMIChotspot         1239235 non-null  bool   \n",
      " 23  COSMIChsCnt             1239152 non-null  float64\n",
      " 24  ExAC_AF                 298062 non-null   float64\n",
      " 25  CGA_WES_AC              397959 non-null   object \n",
      " 26  SangerWES_AC            635955 non-null   object \n",
      " 27  SangerRecalibWES_AC     753177 non-null   object \n",
      " 28  RNAseq_AC               447819 non-null   object \n",
      " 29  HC_AC                   85794 non-null    object \n",
      " 30  RD_AC                   2131 non-null     object \n",
      " 31  WGS_AC                  269842 non-null   object \n",
      " 32  Variant_annotation      1238736 non-null  object \n",
      " 33  DepMap_ID               1239235 non-null  object \n",
      "dtypes: bool(2), float64(3), int64(4), object(25)\n",
      "memory usage: 304.9+ MB\n"
     ]
    }
   ],
   "source": [
    "muts = pd.read_csv('./Data/CCLE_mutations.csv')\n",
    "muts.info()"
   ]
  },
  {
   "cell_type": "code",
   "execution_count": 7,
   "id": "significant-temple",
   "metadata": {},
   "outputs": [],
   "source": [
    "#\n",
    "# get LOF and GOF matrices\n",
    "#\n",
    "\n",
    "genes = bf.index.values\n",
    "cells_list = cells.index.values\n",
    "\n",
    "LOF = pd.DataFrame(index=genes, columns=cells.index.values)\n",
    "GOF = pd.DataFrame(index=genes, columns=cells.index.values)\n"
   ]
  },
  {
   "cell_type": "code",
   "execution_count": 8,
   "id": "floating-halifax",
   "metadata": {},
   "outputs": [
    {
     "data": {
      "text/plain": [
       "560200"
      ]
     },
     "execution_count": 8,
     "metadata": {},
     "output_type": "execute_result"
    }
   ],
   "source": [
    "keep = [x for x in muts.index.values if muts.loc[x]['DepMap_ID'] in cells_list]\n",
    "len(keep)"
   ]
  },
  {
   "cell_type": "code",
   "execution_count": 9,
   "id": "nutritional-playlist",
   "metadata": {},
   "outputs": [],
   "source": [
    "muts = muts.loc[keep]"
   ]
  },
  {
   "cell_type": "code",
   "execution_count": 10,
   "id": "nasty-bolivia",
   "metadata": {},
   "outputs": [
    {
     "data": {
      "text/plain": [
       "513694"
      ]
     },
     "execution_count": 10,
     "metadata": {},
     "output_type": "execute_result"
    }
   ],
   "source": [
    "keep = [x for x in muts.index.values if muts.loc[x]['Hugo_Symbol'] in genes]\n",
    "len(keep)"
   ]
  },
  {
   "cell_type": "code",
   "execution_count": 11,
   "id": "finished-respondent",
   "metadata": {},
   "outputs": [],
   "source": [
    "muts = muts.loc[keep]"
   ]
  },
  {
   "cell_type": "code",
   "execution_count": 12,
   "id": "funded-cuisine",
   "metadata": {},
   "outputs": [],
   "source": [
    "muts.to_csv('./Data/CCLE_mutations_808cells_18111genes_Avana20q4.csv')"
   ]
  },
  {
   "cell_type": "code",
   "execution_count": 13,
   "id": "fourth-recommendation",
   "metadata": {},
   "outputs": [],
   "source": [
    "#\n",
    "# assign per-sample LOF and GOF calls\n",
    "# LOF: 'variant_annotation' = 'damaging'\n",
    "# GOF: 'hotspot' = True AND variant_annotation = 'other non-conserving'\n",
    "#\n",
    "for idx in muts.index.values:\n",
    "    if ( muts.loc[idx]['Variant_annotation'] == 'damaging' ):\n",
    "        LOF.loc[ muts.loc[idx]['Hugo_Symbol'] ][ muts.loc[idx]['DepMap_ID'] ] = 'LOF'\n",
    "    if (  (( muts.loc[idx]['isTCGAhotspot'] == True ) | ( muts.loc[idx]['isCOSMIChotspot'] == True ) ) \\\n",
    "        & ( muts.loc[idx]['Variant_annotation'] == 'other non-conserving' ) ):\n",
    "        GOF.loc[ muts.loc[idx]['Hugo_Symbol'] ][ muts.loc[idx]['DepMap_ID'] ] = 'GOF'\n",
    "\n",
    "LOF.to_csv('./Data/LOF_matrix_808cells_18111genes_Avana20q4.csv', index=True)\n",
    "GOF.to_csv('./Data/GOF_matrix_808cells_18111genes_Avana20q4.csv', index=True)"
   ]
  },
  {
   "cell_type": "code",
   "execution_count": 14,
   "id": "chronic-turkey",
   "metadata": {},
   "outputs": [
    {
     "name": "stdout",
     "output_type": "stream",
     "text": [
      "<class 'pandas.core.frame.DataFrame'>\n",
      "Index: 18111 entries, A1BG to ZZZ3\n",
      "Columns: 808 entries, ACH-001172 to ACH-002510\n",
      "dtypes: object(808)\n",
      "memory usage: 112.3+ MB\n"
     ]
    }
   ],
   "source": [
    "LOF.info()"
   ]
  },
  {
   "cell_type": "code",
   "execution_count": 15,
   "id": "finished-church",
   "metadata": {},
   "outputs": [
    {
     "name": "stdout",
     "output_type": "stream",
     "text": [
      "<class 'pandas.core.frame.DataFrame'>\n",
      "Index: 18111 entries, A1BG to ZZZ3\n",
      "Columns: 808 entries, ACH-001172 to ACH-002510\n",
      "dtypes: object(808)\n",
      "memory usage: 112.3+ MB\n"
     ]
    }
   ],
   "source": [
    "GOF.info()"
   ]
  },
  {
   "cell_type": "code",
   "execution_count": 16,
   "id": "transparent-influence",
   "metadata": {},
   "outputs": [],
   "source": [
    "GOF.fillna('none',inplace=True)\n",
    "LOF.fillna('none',inplace=True)\n"
   ]
  },
  {
   "cell_type": "code",
   "execution_count": 17,
   "id": "perceived-sponsorship",
   "metadata": {},
   "outputs": [
    {
     "data": {
      "image/png": "[encoded data removed]",
      "text/plain": [
       "<Figure size 216x288 with 1 Axes>"
      ]
     },
     "metadata": {
      "needs_background": "light"
     },
     "output_type": "display_data"
    }
   ],
   "source": [
    "#\n",
    "# viz GOF example\n",
    "#\n",
    "mybfgene = 'BRAF'\n",
    "mymutgene= 'BRAF'\n",
    "tempdf = bf.T[ mybfgene ].to_frame(name=mybfgene + '_bf').join(GOF.T[ mymutgene ].to_frame(name=mymutgene + '_mut'), sort=True)\n",
    "tempdf.groupby(mymutgene + '_mut', sort=True).boxplot( mybfgene + '_bf', figsize=(3,4) )\n",
    "del(tempdf)"
   ]
  },
  {
   "cell_type": "code",
   "execution_count": 18,
   "id": "instant-reputation",
   "metadata": {},
   "outputs": [
    {
     "data": {
      "image/png": "[encoded data removed]",
      "text/plain": [
       "<Figure size 216x288 with 1 Axes>"
      ]
     },
     "metadata": {
      "needs_background": "light"
     },
     "output_type": "display_data"
    }
   ],
   "source": [
    "#\n",
    "# viz LOF example\n",
    "#\n",
    "mybfgene = 'CDK4'\n",
    "mymutgene= 'RB1'\n",
    "tempdf = bf.T[ mybfgene ].to_frame(name=mybfgene + '_bf').join(LOF.T[ mymutgene ].to_frame(name=mymutgene + '_mut'), sort=True)\n",
    "tempdf.groupby(mymutgene + '_mut', sort=True).boxplot( mybfgene + '_bf', figsize=(3,4) )\n",
    "del(tempdf)"
   ]
  },
  {
   "cell_type": "code",
   "execution_count": 19,
   "id": "naval-steps",
   "metadata": {},
   "outputs": [
    {
     "name": "stdout",
     "output_type": "stream",
     "text": [
      "<class 'pandas.core.frame.DataFrame'>\n",
      "Index: 1201 entries, ACH-001270 to ACH-000828\n",
      "Columns: 17893 entries, TSPAN6 (7105) to ZBTB8B (728116)\n",
      "dtypes: float64(17893)\n",
      "memory usage: 164.0+ MB\n"
     ]
    }
   ],
   "source": [
    "#\n",
    "# expression\n",
    "#\n",
    "expr = pd.read_csv('./Data/CCLE_expression.csv', index_col=0)\n",
    "expr.info()"
   ]
  },
  {
   "cell_type": "code",
   "execution_count": 20,
   "id": "familiar-infrared",
   "metadata": {},
   "outputs": [
    {
     "data": {
      "text/html": [
       "<div>\n",
       "<style scoped>\n",
       "    .dataframe tbody tr th:only-of-type {\n",
       "        vertical-align: middle;\n",
       "    }\n",
       "\n",
       "    .dataframe tbody tr th {\n",
       "        vertical-align: top;\n",
       "    }\n",
       "\n",
       "    .dataframe thead th {\n",
       "        text-align: right;\n",
       "    }\n",
       "</style>\n",
       "<table border=\"1\" class=\"dataframe\">\n",
       "  <thead>\n",
       "    <tr style=\"text-align: right;\">\n",
       "      <th></th>\n",
       "      <th>TSPAN6 (7105)</th>\n",
       "      <th>TNMD (64102)</th>\n",
       "      <th>DPM1 (8813)</th>\n",
       "      <th>SCYL3 (57147)</th>\n",
       "      <th>C1orf112 (55732)</th>\n",
       "      <th>FGR (2268)</th>\n",
       "      <th>CFH (3075)</th>\n",
       "      <th>FUCA2 (2519)</th>\n",
       "      <th>GCLC (2729)</th>\n",
       "      <th>NFYA (4800)</th>\n",
       "      <th>...</th>\n",
       "      <th>GTF2H5 (404672)</th>\n",
       "      <th>NUDT3 (11165)</th>\n",
       "      <th>IFNL4 (101180976)</th>\n",
       "      <th>MUSTN1 (389125)</th>\n",
       "      <th>DOC2B (8447)</th>\n",
       "      <th>OR5AL1 (79482)</th>\n",
       "      <th>GRIN2B (2904)</th>\n",
       "      <th>OR52E1 (79296)</th>\n",
       "      <th>SNURF (8926)</th>\n",
       "      <th>ZBTB8B (728116)</th>\n",
       "    </tr>\n",
       "  </thead>\n",
       "  <tbody>\n",
       "    <tr>\n",
       "      <th>ACH-001270</th>\n",
       "      <td>3.976364</td>\n",
       "      <td>0.0</td>\n",
       "      <td>6.835798</td>\n",
       "      <td>1.959770</td>\n",
       "      <td>3.872829</td>\n",
       "      <td>0.070389</td>\n",
       "      <td>0.070389</td>\n",
       "      <td>5.437294</td>\n",
       "      <td>3.599318</td>\n",
       "      <td>3.468583</td>\n",
       "      <td>...</td>\n",
       "      <td>3.089159</td>\n",
       "      <td>2.746313</td>\n",
       "      <td>0.0</td>\n",
       "      <td>0.124328</td>\n",
       "      <td>0.226509</td>\n",
       "      <td>0.0</td>\n",
       "      <td>0.000000</td>\n",
       "      <td>0.0</td>\n",
       "      <td>5.810700</td>\n",
       "      <td>0.411426</td>\n",
       "    </tr>\n",
       "    <tr>\n",
       "      <th>ACH-001001</th>\n",
       "      <td>5.437627</td>\n",
       "      <td>0.0</td>\n",
       "      <td>7.325350</td>\n",
       "      <td>1.765535</td>\n",
       "      <td>3.739848</td>\n",
       "      <td>0.014355</td>\n",
       "      <td>0.687061</td>\n",
       "      <td>5.397803</td>\n",
       "      <td>4.416164</td>\n",
       "      <td>3.451541</td>\n",
       "      <td>...</td>\n",
       "      <td>2.241840</td>\n",
       "      <td>2.634593</td>\n",
       "      <td>0.0</td>\n",
       "      <td>0.275007</td>\n",
       "      <td>0.000000</td>\n",
       "      <td>0.0</td>\n",
       "      <td>0.014355</td>\n",
       "      <td>0.0</td>\n",
       "      <td>5.888500</td>\n",
       "      <td>0.084064</td>\n",
       "    </tr>\n",
       "    <tr>\n",
       "      <th>ACH-000956</th>\n",
       "      <td>2.650765</td>\n",
       "      <td>0.0</td>\n",
       "      <td>6.216843</td>\n",
       "      <td>3.427606</td>\n",
       "      <td>4.672991</td>\n",
       "      <td>0.014355</td>\n",
       "      <td>0.111031</td>\n",
       "      <td>5.803744</td>\n",
       "      <td>6.900867</td>\n",
       "      <td>5.287251</td>\n",
       "      <td>...</td>\n",
       "      <td>2.954196</td>\n",
       "      <td>3.584963</td>\n",
       "      <td>0.0</td>\n",
       "      <td>1.310340</td>\n",
       "      <td>0.000000</td>\n",
       "      <td>0.0</td>\n",
       "      <td>0.000000</td>\n",
       "      <td>0.0</td>\n",
       "      <td>6.654922</td>\n",
       "      <td>0.757023</td>\n",
       "    </tr>\n",
       "  </tbody>\n",
       "</table>\n",
       "<p>3 rows × 17893 columns</p>\n",
       "</div>"
      ],
      "text/plain": [
       "            TSPAN6 (7105)  TNMD (64102)  DPM1 (8813)  SCYL3 (57147)  \\\n",
       "ACH-001270       3.976364           0.0     6.835798       1.959770   \n",
       "ACH-001001       5.437627           0.0     7.325350       1.765535   \n",
       "ACH-000956       2.650765           0.0     6.216843       3.427606   \n",
       "\n",
       "            C1orf112 (55732)  FGR (2268)  CFH (3075)  FUCA2 (2519)  \\\n",
       "ACH-001270          3.872829    0.070389    0.070389      5.437294   \n",
       "ACH-001001          3.739848    0.014355    0.687061      5.397803   \n",
       "ACH-000956          4.672991    0.014355    0.111031      5.803744   \n",
       "\n",
       "            GCLC (2729)  NFYA (4800)  ...  GTF2H5 (404672)  NUDT3 (11165)  \\\n",
       "ACH-001270     3.599318     3.468583  ...         3.089159       2.746313   \n",
       "ACH-001001     4.416164     3.451541  ...         2.241840       2.634593   \n",
       "ACH-000956     6.900867     5.287251  ...         2.954196       3.584963   \n",
       "\n",
       "            IFNL4 (101180976)  MUSTN1 (389125)  DOC2B (8447)  OR5AL1 (79482)  \\\n",
       "ACH-001270                0.0         0.124328      0.226509             0.0   \n",
       "ACH-001001                0.0         0.275007      0.000000             0.0   \n",
       "ACH-000956                0.0         1.310340      0.000000             0.0   \n",
       "\n",
       "            GRIN2B (2904)  OR52E1 (79296)  SNURF (8926)  ZBTB8B (728116)  \n",
       "ACH-001270       0.000000             0.0      5.810700         0.411426  \n",
       "ACH-001001       0.014355             0.0      5.888500         0.084064  \n",
       "ACH-000956       0.000000             0.0      6.654922         0.757023  \n",
       "\n",
       "[3 rows x 17893 columns]"
      ]
     },
     "execution_count": 20,
     "metadata": {},
     "output_type": "execute_result"
    }
   ],
   "source": [
    "expr.head(3)"
   ]
  },
  {
   "cell_type": "code",
   "execution_count": 21,
   "id": "thorough-economics",
   "metadata": {},
   "outputs": [
    {
     "data": {
      "text/plain": [
       "<AxesSubplot:>"
      ]
     },
     "execution_count": 21,
     "metadata": {},
     "output_type": "execute_result"
    },
    {
     "data": {
      "image/png": "[encoded data removed]",
      "text/plain": [
       "<Figure size 432x288 with 1 Axes>"
      ]
     },
     "metadata": {
      "needs_background": "light"
     },
     "output_type": "display_data"
    }
   ],
   "source": [
    "expr[:20].T.boxplot()"
   ]
  },
  {
   "cell_type": "code",
   "execution_count": 22,
   "id": "closed-slovakia",
   "metadata": {},
   "outputs": [],
   "source": [
    "genes = [x.split(' ')[0] for x in expr.columns.values]\n",
    "expr.columns = genes"
   ]
  },
  {
   "cell_type": "code",
   "execution_count": 23,
   "id": "automotive-norwegian",
   "metadata": {},
   "outputs": [
    {
     "data": {
      "text/plain": [
       "718"
      ]
     },
     "execution_count": 23,
     "metadata": {},
     "output_type": "execute_result"
    }
   ],
   "source": [
    "expr_samples = [x for x in expr.index.values if x in bf.columns.values]\n",
    "len(expr_samples)"
   ]
  },
  {
   "cell_type": "code",
   "execution_count": 24,
   "id": "impossible-journalism",
   "metadata": {},
   "outputs": [
    {
     "name": "stdout",
     "output_type": "stream",
     "text": [
      "<class 'pandas.core.frame.DataFrame'>\n",
      "Index: 718 entries, ACH-001001 to ACH-000097\n",
      "Columns: 17893 entries, TSPAN6 to ZBTB8B\n",
      "dtypes: float64(17893)\n",
      "memory usage: 98.0+ MB\n"
     ]
    }
   ],
   "source": [
    "expr = expr.loc[expr_samples]\n",
    "expr.info()"
   ]
  },
  {
   "cell_type": "code",
   "execution_count": 25,
   "id": "further-million",
   "metadata": {},
   "outputs": [
    {
     "data": {
      "image/png": "[encoded data removed]",
      "text/plain": [
       "<Figure size 432x288 with 1 Axes>"
      ]
     },
     "metadata": {
      "needs_background": "light"
     },
     "output_type": "display_data"
    }
   ],
   "source": [
    "figure()\n",
    "hist( expr.VIM - expr.CDH1, bins=25)\n",
    "show()"
   ]
  },
  {
   "cell_type": "code",
   "execution_count": 26,
   "id": "liquid-gilbert",
   "metadata": {},
   "outputs": [],
   "source": [
    "expr.T.to_csv('./Data/CCLE_expression_718cellsInAvana20q4_17893genes.txt', sep='\\t', index=True, float_format='%3.2f')"
   ]
  },
  {
   "cell_type": "code",
   "execution_count": null,
   "id": "stunning-stocks",
   "metadata": {},
   "outputs": [],
   "source": []
  }
 ],
 "metadata": {
  "kernelspec": {
   "display_name": "Python 3",
   "language": "python",
   "name": "python3"
  },
  "language_info": {
   "codemirror_mode": {
    "name": "ipython",
    "version": 3
   },
   "file_extension": ".py",
   "mimetype": "text/x-python",
   "name": "python",
   "nbconvert_exporter": "python",
   "pygments_lexer": "ipython3",
   "version": "3.8.10"
  }
 },
 "nbformat": 4,
 "nbformat_minor": 5
}
