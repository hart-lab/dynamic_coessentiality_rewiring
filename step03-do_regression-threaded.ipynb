{
 "cells": [
  {
   "cell_type": "code",
   "execution_count": 1,
   "id": "wrapped-snake",
   "metadata": {},
   "outputs": [
    {
     "name": "stdout",
     "output_type": "stream",
     "text": [
      "Populating the interactive namespace from numpy and matplotlib\n"
     ]
    }
   ],
   "source": [
    "%pylab inline\n",
    "import pandas as pd\n",
    "from sklearn import linear_model\n",
    "import concurrent.futures"
   ]
  },
  {
   "cell_type": "code",
   "execution_count": 2,
   "id": "graduate-plain",
   "metadata": {},
   "outputs": [],
   "source": [
    "import time"
   ]
  },
  {
   "cell_type": "code",
   "execution_count": 3,
   "id": "fossil-audit",
   "metadata": {},
   "outputs": [
    {
     "name": "stdout",
     "output_type": "stream",
     "text": [
      "<class 'pandas.core.frame.DataFrame'>\n",
      "Index: 808 entries, ACH-001172 to ACH-002510\n",
      "Columns: 2918 entries, plasma_cell to CDH_VIM_lo\n",
      "dtypes: bool(2918)\n",
      "memory usage: 2.3+ MB\n"
     ]
    }
   ],
   "source": [
    "features = pd.read_csv('./Data/features-bool-deDuped-2918feats-808cells.txt', sep='\\t', index_col=0)\n",
    "features.info()"
   ]
  },
  {
   "cell_type": "code",
   "execution_count": 4,
   "id": "appropriate-elite",
   "metadata": {},
   "outputs": [],
   "source": [
    "features.fillna(0, inplace=True)"
   ]
  },
  {
   "cell_type": "code",
   "execution_count": 5,
   "id": "enormous-miniature",
   "metadata": {},
   "outputs": [
    {
     "name": "stdout",
     "output_type": "stream",
     "text": [
      "<class 'pandas.core.frame.DataFrame'>\n",
      "Index: 808 entries, ACH-001172 to ACH-002510\n",
      "Columns: 18094 entries, A1BG to ZZZ3\n",
      "dtypes: bool(18094)\n",
      "memory usage: 13.9+ MB\n"
     ]
    }
   ],
   "source": [
    "prEss = pd.read_table('./Data/prEss-bool-18094genes-808cells-noNans.txt', sep='\\t', index_col=0)\n",
    "prEss.info()"
   ]
  },
  {
   "cell_type": "code",
   "execution_count": 6,
   "id": "according-supplement",
   "metadata": {},
   "outputs": [
    {
     "data": {
      "text/plain": [
       "164"
      ]
     },
     "execution_count": 6,
     "metadata": {},
     "output_type": "execute_result"
    }
   ],
   "source": [
    "prEss.KRAS.sum()"
   ]
  },
  {
   "cell_type": "code",
   "execution_count": 7,
   "id": "ranking-monthly",
   "metadata": {},
   "outputs": [],
   "source": [
    "numSamples, numGenes = prEss.shape"
   ]
  },
  {
   "cell_type": "code",
   "execution_count": 8,
   "id": "sporting-deadline",
   "metadata": {},
   "outputs": [
    {
     "data": {
      "text/plain": [
       "0.022277227722772276"
      ]
     },
     "execution_count": 8,
     "metadata": {},
     "output_type": "execute_result"
    }
   ],
   "source": [
    "prEss.HRAS.sum() / numSamples"
   ]
  },
  {
   "cell_type": "code",
   "execution_count": 9,
   "id": "young-password",
   "metadata": {},
   "outputs": [
    {
     "data": {
      "text/plain": [
       "<AxesSubplot:>"
      ]
     },
     "execution_count": 9,
     "metadata": {},
     "output_type": "execute_result"
    },
    {
     "data": {
      "image/png": "[encoded data removed]",
      "text/plain": [
       "<Figure size 432x288 with 1 Axes>"
      ]
     },
     "metadata": {
      "needs_background": "light"
     },
     "output_type": "display_data"
    }
   ],
   "source": [
    "num_ess = prEss.sum()\n",
    "num_ess.hist( bins=20 )"
   ]
  },
  {
   "cell_type": "code",
   "execution_count": 10,
   "id": "thousand-spyware",
   "metadata": {},
   "outputs": [
    {
     "name": "stdout",
     "output_type": "stream",
     "text": [
      "<class 'pandas.core.frame.DataFrame'>\n",
      "Index: 808 entries, ACH-001172 to ACH-002510\n",
      "Columns: 2987 entries, AAAS to ZZZ3\n",
      "dtypes: bool(2987)\n",
      "memory usage: 2.3+ MB\n"
     ]
    }
   ],
   "source": [
    "low_thresh = 0.01\n",
    "hi_thresh  = 0.80\n",
    "\n",
    "too_low = where( num_ess<(low_thresh * numSamples) )[0]\n",
    "prEss.drop( prEss.columns[too_low], axis=1, inplace=True)\n",
    "\n",
    "num_ess = prEss.sum()\n",
    "\n",
    "too_high = where( num_ess>(hi_thresh * numSamples) )[0]\n",
    "prEss.drop( prEss.columns[too_high], axis=1, inplace=True)\n",
    "\n",
    "prEss.info()"
   ]
  },
  {
   "cell_type": "markdown",
   "id": "dense-metro",
   "metadata": {},
   "source": [
    "# Do regression across all prEss columns"
   ]
  },
  {
   "cell_type": "code",
   "execution_count": 11,
   "id": "renewable-consideration",
   "metadata": {},
   "outputs": [],
   "source": [
    "coeffs = pd.DataFrame(columns=prEss.columns.values, index=list(features.columns.values) + ['intercept'], dtype=float)\n",
    "regr = linear_model.LogisticRegression(penalty='elasticnet', solver='saga', l1_ratio=0.25, max_iter=2500)"
   ]
  },
  {
   "cell_type": "code",
   "execution_count": 12,
   "id": "altered-artwork",
   "metadata": {},
   "outputs": [],
   "source": [
    "#\n",
    "# cast regression calc as a function\n",
    "#\n",
    "def do_regression(g):\n",
    "    regr.fit(features, prEss[g])\n",
    "    coeffs[g] = np.append( regr.coef_, regr.intercept_).T"
   ]
  },
  {
   "cell_type": "code",
   "execution_count": null,
   "id": "loaded-basic",
   "metadata": {
    "scrolled": true
   },
   "outputs": [
    {
     "name": "stderr",
     "output_type": "stream",
     "text": [
      "/home/traver/.local/lib/python3.8/site-packages/sklearn/linear_model/_sag.py:328: ConvergenceWarning: The max_iter was reached which means the coef_ did not converge\n",
      "  warnings.warn(\"The max_iter was reached which means \"\n"
     ]
    }
   ],
   "source": [
    "#\n",
    "# executor = multithreader.\n",
    "#\n",
    "start = time.time()\n",
    "executor = concurrent.futures.ThreadPoolExecutor(32) # number of threads = 12\n",
    "\n",
    "futures = [executor.submit(do_regression, g) for g in prEss.columns.values]\n",
    "\n",
    "errstate = concurrent.futures.wait(futures)\n",
    "end = time.time()"
   ]
  },
  {
   "cell_type": "code",
   "execution_count": 17,
   "id": "subsequent-blackjack",
   "metadata": {},
   "outputs": [
    {
     "name": "stdout",
     "output_type": "stream",
     "text": [
      "Execution time:\n",
      "4668.462904930115\n"
     ]
    }
   ],
   "source": [
    "print(\"Execution time:\")\n",
    "print( end - start)\n",
    "#\n",
    "#Execution time:\n",
    "#5573.109220027924\n",
    "# 0r 92 minutes on 12 threads with max 500 iter/regression and a LOT of \"did not converge\" warnings\n",
    "#\n",
    "#Execution time:\n",
    "# 1842.9349806308746\n",
    "# or 30.7 min on 32 threads. 3x faster!!!\n",
    "#\n",
    "# 2500 iter/regression\n",
    "# 4660 sec (77 min)\n",
    "# repeat at base clock speed for CPU, RAM: 4668 sec"
   ]
  },
  {
   "cell_type": "code",
   "execution_count": 18,
   "id": "indonesian-bradley",
   "metadata": {},
   "outputs": [],
   "source": [
    "def unpivot(frame):\n",
    "    N, K = frame.shape\n",
    "    data = {'coeff': frame.to_numpy().ravel('F'),\n",
    "            'Gene': np.asarray(frame.columns).repeat(N),\n",
    "            'Feature': np.tile(np.asarray(frame.index), K)}\n",
    "    return pd.DataFrame(data, columns=['Feature', 'Gene', 'coeff'])"
   ]
  },
  {
   "cell_type": "code",
   "execution_count": 19,
   "id": "juvenile-grant",
   "metadata": {},
   "outputs": [],
   "source": [
    "coeffs_list = unpivot(coeffs)"
   ]
  },
  {
   "cell_type": "code",
   "execution_count": 20,
   "id": "working-button",
   "metadata": {},
   "outputs": [],
   "source": [
    "coeffs_list.sort_values('coeff', ascending=False, inplace=True)\n",
    "coeffs_list.drop( coeffs_list[ coeffs_list.Feature=='intercept'].index, axis=0, inplace=True)"
   ]
  },
  {
   "cell_type": "code",
   "execution_count": 21,
   "id": "greek-lover",
   "metadata": {},
   "outputs": [
    {
     "data": {
      "text/html": [
       "<div>\n",
       "<style scoped>\n",
       "    .dataframe tbody tr th:only-of-type {\n",
       "        vertical-align: middle;\n",
       "    }\n",
       "\n",
       "    .dataframe tbody tr th {\n",
       "        vertical-align: top;\n",
       "    }\n",
       "\n",
       "    .dataframe thead th {\n",
       "        text-align: right;\n",
       "    }\n",
       "</style>\n",
       "<table border=\"1\" class=\"dataframe\">\n",
       "  <thead>\n",
       "    <tr style=\"text-align: right;\">\n",
       "      <th></th>\n",
       "      <th>Feature</th>\n",
       "      <th>Gene</th>\n",
       "      <th>coeff</th>\n",
       "    </tr>\n",
       "  </thead>\n",
       "  <tbody>\n",
       "    <tr>\n",
       "      <th>4886516</th>\n",
       "      <td>NRAS_GOF</td>\n",
       "      <td>NRAS</td>\n",
       "      <td>4.916765</td>\n",
       "    </tr>\n",
       "    <tr>\n",
       "      <th>3555442</th>\n",
       "      <td>KRAS_GOF</td>\n",
       "      <td>KRAS</td>\n",
       "      <td>4.614621</td>\n",
       "    </tr>\n",
       "    <tr>\n",
       "      <th>627649</th>\n",
       "      <td>BRAF_GOF</td>\n",
       "      <td>BRAF</td>\n",
       "      <td>4.135042</td>\n",
       "    </tr>\n",
       "    <tr>\n",
       "      <th>3351020</th>\n",
       "      <td>peripheral_nervous_system</td>\n",
       "      <td>ISL1</td>\n",
       "      <td>3.600979</td>\n",
       "    </tr>\n",
       "    <tr>\n",
       "      <th>4451483</th>\n",
       "      <td>peripheral_nervous_system</td>\n",
       "      <td>MYCN</td>\n",
       "      <td>3.507349</td>\n",
       "    </tr>\n",
       "    <tr>\n",
       "      <th>3327660</th>\n",
       "      <td>plasma_cell</td>\n",
       "      <td>IRF4</td>\n",
       "      <td>3.375038</td>\n",
       "    </tr>\n",
       "    <tr>\n",
       "      <th>6999783</th>\n",
       "      <td>melanoma</td>\n",
       "      <td>SOX10</td>\n",
       "      <td>3.190437</td>\n",
       "    </tr>\n",
       "    <tr>\n",
       "      <th>4442732</th>\n",
       "      <td>blood</td>\n",
       "      <td>MYB</td>\n",
       "      <td>3.170933</td>\n",
       "    </tr>\n",
       "    <tr>\n",
       "      <th>5373879</th>\n",
       "      <td>plasma_cell</td>\n",
       "      <td>PIM2</td>\n",
       "      <td>3.127246</td>\n",
       "    </tr>\n",
       "    <tr>\n",
       "      <th>7159802</th>\n",
       "      <td>STAG2_LOF</td>\n",
       "      <td>STAG1</td>\n",
       "      <td>3.104188</td>\n",
       "    </tr>\n",
       "  </tbody>\n",
       "</table>\n",
       "</div>"
      ],
      "text/plain": [
       "                           Feature   Gene     coeff\n",
       "4886516                   NRAS_GOF   NRAS  4.916765\n",
       "3555442                   KRAS_GOF   KRAS  4.614621\n",
       "627649                    BRAF_GOF   BRAF  4.135042\n",
       "3351020  peripheral_nervous_system   ISL1  3.600979\n",
       "4451483  peripheral_nervous_system   MYCN  3.507349\n",
       "3327660                plasma_cell   IRF4  3.375038\n",
       "6999783                   melanoma  SOX10  3.190437\n",
       "4442732                      blood    MYB  3.170933\n",
       "5373879                plasma_cell   PIM2  3.127246\n",
       "7159802                  STAG2_LOF  STAG1  3.104188"
      ]
     },
     "execution_count": 21,
     "metadata": {},
     "output_type": "execute_result"
    }
   ],
   "source": [
    "coeffs_list.head(10)"
   ]
  },
  {
   "cell_type": "code",
   "execution_count": 22,
   "id": "italian-cassette",
   "metadata": {},
   "outputs": [
    {
     "data": {
      "text/html": [
       "<div>\n",
       "<style scoped>\n",
       "    .dataframe tbody tr th:only-of-type {\n",
       "        vertical-align: middle;\n",
       "    }\n",
       "\n",
       "    .dataframe tbody tr th {\n",
       "        vertical-align: top;\n",
       "    }\n",
       "\n",
       "    .dataframe thead th {\n",
       "        text-align: right;\n",
       "    }\n",
       "</style>\n",
       "<table border=\"1\" class=\"dataframe\">\n",
       "  <thead>\n",
       "    <tr style=\"text-align: right;\">\n",
       "      <th></th>\n",
       "      <th>Feature</th>\n",
       "      <th>Gene</th>\n",
       "      <th>coeff</th>\n",
       "    </tr>\n",
       "  </thead>\n",
       "  <tbody>\n",
       "    <tr>\n",
       "      <th>5584187</th>\n",
       "      <td>TP53_GOF</td>\n",
       "      <td>PPM1D</td>\n",
       "      <td>-1.969958</td>\n",
       "    </tr>\n",
       "    <tr>\n",
       "      <th>2828621</th>\n",
       "      <td>NRAS_GOF</td>\n",
       "      <td>GRB2</td>\n",
       "      <td>-1.973878</td>\n",
       "    </tr>\n",
       "    <tr>\n",
       "      <th>871971</th>\n",
       "      <td>RB1_LOF</td>\n",
       "      <td>CCND1</td>\n",
       "      <td>-2.052547</td>\n",
       "    </tr>\n",
       "    <tr>\n",
       "      <th>3359767</th>\n",
       "      <td>CDH_VIM_lo</td>\n",
       "      <td>ITGA3</td>\n",
       "      <td>-2.132578</td>\n",
       "    </tr>\n",
       "    <tr>\n",
       "      <th>3893600</th>\n",
       "      <td>TP53_LOF</td>\n",
       "      <td>MDM4</td>\n",
       "      <td>-2.197559</td>\n",
       "    </tr>\n",
       "    <tr>\n",
       "      <th>2828575</th>\n",
       "      <td>BRAF_GOF</td>\n",
       "      <td>GRB2</td>\n",
       "      <td>-2.291603</td>\n",
       "    </tr>\n",
       "    <tr>\n",
       "      <th>487481</th>\n",
       "      <td>peripheral_nervous_system</td>\n",
       "      <td>ATP6V1G1</td>\n",
       "      <td>-2.292867</td>\n",
       "    </tr>\n",
       "    <tr>\n",
       "      <th>3891167</th>\n",
       "      <td>TP53_GOF</td>\n",
       "      <td>MDM4</td>\n",
       "      <td>-2.348442</td>\n",
       "    </tr>\n",
       "    <tr>\n",
       "      <th>3890681</th>\n",
       "      <td>TP53_LOF</td>\n",
       "      <td>MDM2</td>\n",
       "      <td>-3.582439</td>\n",
       "    </tr>\n",
       "    <tr>\n",
       "      <th>3888248</th>\n",
       "      <td>TP53_GOF</td>\n",
       "      <td>MDM2</td>\n",
       "      <td>-3.636815</td>\n",
       "    </tr>\n",
       "  </tbody>\n",
       "</table>\n",
       "</div>"
      ],
      "text/plain": [
       "                           Feature      Gene     coeff\n",
       "5584187                   TP53_GOF     PPM1D -1.969958\n",
       "2828621                   NRAS_GOF      GRB2 -1.973878\n",
       "871971                     RB1_LOF     CCND1 -2.052547\n",
       "3359767                 CDH_VIM_lo     ITGA3 -2.132578\n",
       "3893600                   TP53_LOF      MDM4 -2.197559\n",
       "2828575                   BRAF_GOF      GRB2 -2.291603\n",
       "487481   peripheral_nervous_system  ATP6V1G1 -2.292867\n",
       "3891167                   TP53_GOF      MDM4 -2.348442\n",
       "3890681                   TP53_LOF      MDM2 -3.582439\n",
       "3888248                   TP53_GOF      MDM2 -3.636815"
      ]
     },
     "execution_count": 22,
     "metadata": {},
     "output_type": "execute_result"
    }
   ],
   "source": [
    "coeffs_list.tail(10)"
   ]
  },
  {
   "cell_type": "code",
   "execution_count": 23,
   "id": "suited-adult",
   "metadata": {},
   "outputs": [
    {
     "data": {
      "text/plain": [
       "0"
      ]
     },
     "execution_count": 23,
     "metadata": {},
     "output_type": "execute_result"
    }
   ],
   "source": [
    "failed = isnan( coeffs_list.coeff)\n",
    "sum(failed)"
   ]
  },
  {
   "cell_type": "code",
   "execution_count": 24,
   "id": "afraid-destination",
   "metadata": {},
   "outputs": [
    {
     "data": {
      "text/plain": [
       "(8716066, 3)"
      ]
     },
     "execution_count": 24,
     "metadata": {},
     "output_type": "execute_result"
    }
   ],
   "source": [
    "coeffs_list.shape"
   ]
  },
  {
   "cell_type": "code",
   "execution_count": 27,
   "id": "optimum-theorem",
   "metadata": {},
   "outputs": [
    {
     "data": {
      "text/plain": [
       "<AxesSubplot:>"
      ]
     },
     "execution_count": 27,
     "metadata": {},
     "output_type": "execute_result"
    },
    {
     "data": {
      "image/png": "[encoded data removed]",
      "text/plain": [
       "<Figure size 432x288 with 1 Axes>"
      ]
     },
     "metadata": {
      "needs_background": "light"
     },
     "output_type": "display_data"
    }
   ],
   "source": [
    "coeffs_list.coeff.hist(bins=100)"
   ]
  },
  {
   "cell_type": "code",
   "execution_count": 28,
   "id": "clear-glance",
   "metadata": {},
   "outputs": [],
   "source": [
    "coeffs.to_csv('./Data/coefficients-logReg-matrix-elastic-point25-2918feats-2987genes-Avana20q4.txt', sep='\\t', float_format='%4.3f', index=True)"
   ]
  },
  {
   "cell_type": "code",
   "execution_count": 29,
   "id": "breeding-compound",
   "metadata": {},
   "outputs": [],
   "source": [
    "coeffs_list.to_csv('./Data/coefficients-logReg-list-elastic-point25-2918feats-2987genes-Avana20q4.txt', sep='\\t', float_format='%4.3f', index=False)\n"
   ]
  }
 ],
 "metadata": {
  "kernelspec": {
   "display_name": "Python 3",
   "language": "python",
   "name": "python3"
  },
  "language_info": {
   "codemirror_mode": {
    "name": "ipython",
    "version": 3
   },
   "file_extension": ".py",
   "mimetype": "text/x-python",
   "name": "python",
   "nbconvert_exporter": "python",
   "pygments_lexer": "ipython3",
   "version": "3.8.10"
  }
 },
 "nbformat": 4,
 "nbformat_minor": 5
}
