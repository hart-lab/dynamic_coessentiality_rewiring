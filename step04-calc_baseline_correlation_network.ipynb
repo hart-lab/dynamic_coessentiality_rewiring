{
 "cells": [
  {
   "cell_type": "code",
   "execution_count": 1,
   "id": "chronic-coupon",
   "metadata": {},
   "outputs": [
    {
     "name": "stdout",
     "output_type": "stream",
     "text": [
      "Populating the interactive namespace from numpy and matplotlib\n"
     ]
    }
   ],
   "source": [
    "%pylab inline\n",
    "import pandas as pd"
   ]
  },
  {
   "cell_type": "code",
   "execution_count": 2,
   "id": "stylish-transfer",
   "metadata": {},
   "outputs": [],
   "source": [
    "def qnorm_dataframe( data ):\n",
    "    \"\"\"\n",
    "    quantile normalize a dataframe with numeric values only!\n",
    "    \"\"\"\n",
    "    rank_mean = data.stack().groupby(data.rank(method='first').stack().astype(int)).mean()\n",
    "    qnormed_data    = data.rank(method='min').stack().astype(int).map(rank_mean).unstack()\n",
    "    return qnormed_data"
   ]
  },
  {
   "cell_type": "code",
   "execution_count": 3,
   "id": "responsible-lighting",
   "metadata": {},
   "outputs": [],
   "source": [
    "def ut_as_list( dframe, diag=1, cols=['Row','Column','Value'] ):\n",
    "  \"\"\"\n",
    "  for a symmetric dataframe, where cols=rows, get the upper triangle as a list of row/column pairs\n",
    "  diag = 1 (default): ignore diagonal\n",
    "  diag = 0: include diagonal\n",
    "  \"\"\"\n",
    "  #if (dframe.index.name == dframe.columns.name):\n",
    "  #dframe.index.name = cols[0]\n",
    "  #dframe.columns.name = cols[1]\n",
    "  #\t\tdframe.index.name = dframe.index.name + '.1'\n",
    "  #\t\tdframe.index.name = dframe.index.name + '.2'\n",
    "  d = dframe.where( np.triu( np.ones( dframe.shape ), k=diag).astype(np.bool))\n",
    "  d.index.rename(cols[0], inplace=True)\n",
    "  d.columns.rename(cols[1], inplace=True)\n",
    "  d = d.stack().reset_index()\n",
    "  d.columns=cols\n",
    "  return d"
   ]
  },
  {
   "cell_type": "code",
   "execution_count": 4,
   "id": "minus-bradford",
   "metadata": {},
   "outputs": [
    {
     "name": "stdout",
     "output_type": "stream",
     "text": [
      "<class 'pandas.core.frame.DataFrame'>\n",
      "Index: 18095 entries, A1BG to ZZZ3\n",
      "Columns: 808 entries, ACH-001172 to ACH-002510\n",
      "dtypes: float64(808)\n",
      "memory usage: 111.7+ MB\n"
     ]
    }
   ],
   "source": [
    "bf = pd.read_table('./Data/table_Avana2020Q4_CRISPRcleanR_corrected_all', index_col=0)\n",
    "qbf = qnorm_dataframe( bf )\n",
    "qbf.info()"
   ]
  },
  {
   "cell_type": "code",
   "execution_count": 6,
   "id": "stunning-stocks",
   "metadata": {},
   "outputs": [
    {
     "name": "stdout",
     "output_type": "stream",
     "text": [
      "<class 'pandas.core.frame.DataFrame'>\n",
      "Index: 18095 entries, A1BG to ZZZ3\n",
      "Columns: 18095 entries, A1BG to ZZZ3\n",
      "dtypes: float64(18095)\n",
      "memory usage: 2.4+ GB\n",
      "CPU times: user 16.7 s, sys: 2.58 s, total: 19.3 s\n",
      "Wall time: 2.45 s\n"
     ]
    }
   ],
   "source": [
    "%%time\n",
    "cc = pd.DataFrame( index=qbf.index.values, columns=qbf.index.values, data=np.corrcoef(qbf))\n",
    "cc.info()"
   ]
  },
  {
   "cell_type": "code",
   "execution_count": 5,
   "id": "editorial-governor",
   "metadata": {},
   "outputs": [],
   "source": [
    "#cc.to_csv('./Data/cc_all-matrix-qbf-18k.txt', sep=',', index=True, float_format='%4.3f')\n",
    "cc = pd.read_table('./Data/cc_all-matrix-qbf-18k.txt', sep=',', index_col=0)"
   ]
  },
  {
   "cell_type": "code",
   "execution_count": 11,
   "id": "shared-antique",
   "metadata": {},
   "outputs": [
    {
     "name": "stderr",
     "output_type": "stream",
     "text": [
      "<ipython-input-3-5a1515b0419d>:12: DeprecationWarning: `np.bool` is a deprecated alias for the builtin `bool`. To silence this warning, use `bool` by itself. Doing this will not modify any behavior and is safe. If you specifically wanted the numpy scalar type, use `np.bool_` here.\n",
      "Deprecated in NumPy 1.20; for more details and guidance: https://numpy.org/devdocs/release/1.20.0-notes.html#deprecations\n",
      "  d = dframe.where( np.triu( np.ones( dframe.shape ), k=diag).astype(np.bool))\n"
     ]
    }
   ],
   "source": [
    "cc_list = ut_as_list( cc, diag=1, cols=['Gene1','Gene2','PCC'])"
   ]
  },
  {
   "cell_type": "code",
   "execution_count": 12,
   "id": "cubic-installation",
   "metadata": {},
   "outputs": [],
   "source": [
    "cc_list.sort_values('PCC', ascending=False, inplace=True)"
   ]
  },
  {
   "cell_type": "code",
   "execution_count": 13,
   "id": "educated-configuration",
   "metadata": {},
   "outputs": [],
   "source": [
    "cc_list.to_csv('./Data/cc_all-list-qbf-18k.txt', sep='\\t', index=False, float_format='%4.3f')"
   ]
  },
  {
   "cell_type": "code",
   "execution_count": null,
   "id": "little-carbon",
   "metadata": {},
   "outputs": [],
   "source": []
  }
 ],
 "metadata": {
  "kernelspec": {
   "display_name": "Python 3",
   "language": "python",
   "name": "python3"
  },
  "language_info": {
   "codemirror_mode": {
    "name": "ipython",
    "version": 3
   },
   "file_extension": ".py",
   "mimetype": "text/x-python",
   "name": "python",
   "nbconvert_exporter": "python",
   "pygments_lexer": "ipython3",
   "version": "3.8.10"
  }
 },
 "nbformat": 4,
 "nbformat_minor": 5
}
