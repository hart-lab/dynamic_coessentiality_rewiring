{
 "cells": [
  {
   "cell_type": "code",
   "execution_count": 1,
   "id": "wrapped-snake",
   "metadata": {},
   "outputs": [
    {
     "name": "stdout",
     "output_type": "stream",
     "text": [
      "Populating the interactive namespace from numpy and matplotlib\n"
     ]
    }
   ],
   "source": [
    "%pylab inline\n",
    "import pandas as pd"
   ]
  },
  {
   "cell_type": "code",
   "execution_count": 2,
   "id": "attractive-object",
   "metadata": {},
   "outputs": [],
   "source": [
    "import scipy.stats as stats\n",
    "import seaborn as sns"
   ]
  },
  {
   "cell_type": "code",
   "execution_count": 3,
   "id": "forbidden-start",
   "metadata": {},
   "outputs": [],
   "source": [
    "rcParams['pdf.fonttype']=42\n",
    "rcParams['font.family']='sans-serif'\n",
    "rcParams['font.size']=10"
   ]
  },
  {
   "cell_type": "code",
   "execution_count": 4,
   "id": "conventional-answer",
   "metadata": {},
   "outputs": [
    {
     "name": "stdout",
     "output_type": "stream",
     "text": [
      "<class 'pandas.core.frame.DataFrame'>\n",
      "RangeIndex: 12488 entries, 0 to 12487\n",
      "Data columns (total 7 columns):\n",
      " #   Column     Non-Null Count  Dtype  \n",
      "---  ------     --------------  -----  \n",
      " 0   Condition  12488 non-null  object \n",
      " 1   Gene1      12488 non-null  object \n",
      " 2   Gene2      12488 non-null  object \n",
      " 3   PCC_all    12488 non-null  float64\n",
      " 4   PCC_L1out  12488 non-null  float64\n",
      " 5   dPCC       12488 non-null  float64\n",
      " 6   Pval       12488 non-null  float64\n",
      "dtypes: float64(4), object(3)\n",
      "memory usage: 683.1+ KB\n"
     ]
    }
   ],
   "source": [
    "hits = pd.read_table('highly-filtered-hits-12kEdges-133features-PCCge248-dPCCge100.txt', sep='\\t')\n",
    "hits.info()"
   ]
  },
  {
   "cell_type": "code",
   "execution_count": 5,
   "id": "neural-rainbow",
   "metadata": {},
   "outputs": [
    {
     "name": "stdout",
     "output_type": "stream",
     "text": [
      "<class 'pandas.core.frame.DataFrame'>\n",
      "Int64Index: 3261 entries, 0 to 12487\n",
      "Data columns (total 7 columns):\n",
      " #   Column     Non-Null Count  Dtype  \n",
      "---  ------     --------------  -----  \n",
      " 0   Condition  3261 non-null   object \n",
      " 1   Gene1      3261 non-null   object \n",
      " 2   Gene2      3261 non-null   object \n",
      " 3   PCC_all    3261 non-null   float64\n",
      " 4   PCC_L1out  3261 non-null   float64\n",
      " 5   dPCC       3261 non-null   float64\n",
      " 6   Pval       3261 non-null   float64\n",
      "dtypes: float64(4), object(3)\n",
      "memory usage: 203.8+ KB\n"
     ]
    }
   ],
   "source": [
    "hits_pos = hits[ hits.dPCC > 0]\n",
    "hits_pos.info()"
   ]
  },
  {
   "cell_type": "code",
   "execution_count": 6,
   "id": "important-novelty",
   "metadata": {},
   "outputs": [
    {
     "name": "stdout",
     "output_type": "stream",
     "text": [
      "<class 'pandas.core.frame.DataFrame'>\n",
      "Int64Index: 9227 entries, 31 to 12485\n",
      "Data columns (total 7 columns):\n",
      " #   Column     Non-Null Count  Dtype  \n",
      "---  ------     --------------  -----  \n",
      " 0   Condition  9227 non-null   object \n",
      " 1   Gene1      9227 non-null   object \n",
      " 2   Gene2      9227 non-null   object \n",
      " 3   PCC_all    9227 non-null   float64\n",
      " 4   PCC_L1out  9227 non-null   float64\n",
      " 5   dPCC       9227 non-null   float64\n",
      " 6   Pval       9227 non-null   float64\n",
      "dtypes: float64(4), object(3)\n",
      "memory usage: 576.7+ KB\n"
     ]
    }
   ],
   "source": [
    "hits_neg = hits[ hits.dPCC < 0]\n",
    "hits_neg.info()"
   ]
  },
  {
   "cell_type": "code",
   "execution_count": 7,
   "id": "handed-crowd",
   "metadata": {},
   "outputs": [
    {
     "data": {
      "text/html": [
       "<div>\n",
       "<style scoped>\n",
       "    .dataframe tbody tr th:only-of-type {\n",
       "        vertical-align: middle;\n",
       "    }\n",
       "\n",
       "    .dataframe tbody tr th {\n",
       "        vertical-align: top;\n",
       "    }\n",
       "\n",
       "    .dataframe thead th {\n",
       "        text-align: right;\n",
       "    }\n",
       "</style>\n",
       "<table border=\"1\" class=\"dataframe\">\n",
       "  <thead>\n",
       "    <tr style=\"text-align: right;\">\n",
       "      <th></th>\n",
       "      <th>Pval</th>\n",
       "    </tr>\n",
       "    <tr>\n",
       "      <th>Condition</th>\n",
       "      <th></th>\n",
       "    </tr>\n",
       "  </thead>\n",
       "  <tbody>\n",
       "    <tr>\n",
       "      <th>TP53_GOF</th>\n",
       "      <td>584</td>\n",
       "    </tr>\n",
       "    <tr>\n",
       "      <th>blood</th>\n",
       "      <td>425</td>\n",
       "    </tr>\n",
       "    <tr>\n",
       "      <th>Suspension</th>\n",
       "      <td>293</td>\n",
       "    </tr>\n",
       "    <tr>\n",
       "      <th>plasma_cell</th>\n",
       "      <td>201</td>\n",
       "    </tr>\n",
       "    <tr>\n",
       "      <th>SLC28A2_LOF</th>\n",
       "      <td>116</td>\n",
       "    </tr>\n",
       "    <tr>\n",
       "      <th>...</th>\n",
       "      <td>...</td>\n",
       "    </tr>\n",
       "    <tr>\n",
       "      <th>WDFY3_LOF</th>\n",
       "      <td>1</td>\n",
       "    </tr>\n",
       "    <tr>\n",
       "      <th>RBM10_LOF</th>\n",
       "      <td>1</td>\n",
       "    </tr>\n",
       "    <tr>\n",
       "      <th>PCSK5_LOF</th>\n",
       "      <td>1</td>\n",
       "    </tr>\n",
       "    <tr>\n",
       "      <th>ZBTB10_LOF</th>\n",
       "      <td>1</td>\n",
       "    </tr>\n",
       "    <tr>\n",
       "      <th>KMT2C_LOF</th>\n",
       "      <td>1</td>\n",
       "    </tr>\n",
       "  </tbody>\n",
       "</table>\n",
       "<p>133 rows × 1 columns</p>\n",
       "</div>"
      ],
      "text/plain": [
       "             Pval\n",
       "Condition        \n",
       "TP53_GOF      584\n",
       "blood         425\n",
       "Suspension    293\n",
       "plasma_cell   201\n",
       "SLC28A2_LOF   116\n",
       "...           ...\n",
       "WDFY3_LOF       1\n",
       "RBM10_LOF       1\n",
       "PCSK5_LOF       1\n",
       "ZBTB10_LOF      1\n",
       "KMT2C_LOF       1\n",
       "\n",
       "[133 rows x 1 columns]"
      ]
     },
     "execution_count": 7,
     "metadata": {},
     "output_type": "execute_result"
    }
   ],
   "source": [
    "edges_by_feature_pos = hits_pos.groupby('Condition')['Pval'].count().sort_values(ascending=False).to_frame()\n",
    "edges_by_feature_pos"
   ]
  },
  {
   "cell_type": "code",
   "execution_count": 8,
   "id": "beautiful-foundation",
   "metadata": {},
   "outputs": [],
   "source": [
    "is_gof_pos = [x for x in edges_by_feature_pos.index.values if '_GOF' in x]"
   ]
  },
  {
   "cell_type": "code",
   "execution_count": 9,
   "id": "former-isaac",
   "metadata": {
    "scrolled": true
   },
   "outputs": [],
   "source": [
    "is_lof_pos = [x for x in edges_by_feature_pos.index.values if '_LOF' in x]"
   ]
  },
  {
   "cell_type": "code",
   "execution_count": 10,
   "id": "designed-cookie",
   "metadata": {},
   "outputs": [
    {
     "name": "stdout",
     "output_type": "stream",
     "text": [
      "9 91 33\n"
     ]
    }
   ],
   "source": [
    "num_gof_pos = len(is_gof_pos)\n",
    "num_lof_pos = len(is_lof_pos)\n",
    "num_other   = edges_by_feature_pos.shape[0] - num_gof_pos - num_lof_pos\n",
    "print(num_gof_pos, num_lof_pos, num_other)"
   ]
  },
  {
   "cell_type": "code",
   "execution_count": 11,
   "id": "known-african",
   "metadata": {},
   "outputs": [
    {
     "name": "stdout",
     "output_type": "stream",
     "text": [
      "851 756 1654\n"
     ]
    }
   ],
   "source": [
    "hits_pos_gof = len( [x for x in hits_pos.Condition if '_GOF' in x])\n",
    "hits_pos_lof = len( [x for x in hits_pos.Condition if '_LOF' in x])\n",
    "hits_pos_other = hits_pos.shape[0] - hits_pos_gof - hits_pos_lof\n",
    "print( hits_pos_gof, hits_pos_lof, hits_pos_other)"
   ]
  },
  {
   "cell_type": "code",
   "execution_count": 12,
   "id": "cultural-lingerie",
   "metadata": {},
   "outputs": [
    {
     "name": "stdout",
     "output_type": "stream",
     "text": [
      "6 7 16\n"
     ]
    }
   ],
   "source": [
    "edges_by_feature_neg = hits_neg.groupby('Condition')['Pval'].count().sort_values(ascending=False).to_frame()\n",
    "is_gof_neg = [x for x in edges_by_feature_neg.index.values if '_GOF' in x]\n",
    "is_lof_neg = [x for x in edges_by_feature_neg.index.values if '_LOF' in x]\n",
    "num_gof_neg = len(is_gof_neg)\n",
    "num_lof_neg = len(is_lof_neg)\n",
    "num_other_neg   = edges_by_feature_neg.shape[0] - num_gof_neg - num_lof_neg\n",
    "print(num_gof_neg, num_lof_neg, num_other_neg)"
   ]
  },
  {
   "cell_type": "code",
   "execution_count": 13,
   "id": "compound-criticism",
   "metadata": {},
   "outputs": [
    {
     "name": "stdout",
     "output_type": "stream",
     "text": [
      "8993 109 125\n"
     ]
    }
   ],
   "source": [
    "hits_neg_gof = len( [x for x in hits_neg.Condition if '_GOF' in x])\n",
    "hits_neg_lof = len( [x for x in hits_neg.Condition if '_LOF' in x])\n",
    "hits_neg_other = hits_neg.shape[0] - hits_neg_gof - hits_neg_lof\n",
    "print( hits_neg_gof, hits_neg_lof, hits_neg_other)"
   ]
  },
  {
   "cell_type": "code",
   "execution_count": null,
   "id": "moving-procedure",
   "metadata": {},
   "outputs": [],
   "source": [
    "#\n",
    "# make figs 2c,d,e,f\n",
    "#"
   ]
  },
  {
   "cell_type": "code",
   "execution_count": 30,
   "id": "impressive-forty",
   "metadata": {},
   "outputs": [
    {
     "data": {
      "image/png": "[encoded data removed]",
      "text/plain": [
       "<Figure size 216x144 with 1 Axes>"
      ]
     },
     "metadata": {
      "needs_background": "light"
     },
     "output_type": "display_data"
    }
   ],
   "source": [
    "figure( figsize(3,2))\n",
    "bar( [0], [num_lof_neg], facecolor=sns.color_palette(\"tab10\")[0])\n",
    "bar( [1], [num_gof_neg], facecolor=sns.color_palette(\"tab10\")[1])\n",
    "bar( [2], [num_other_neg], facecolor=sns.color_palette(\"tab10\")[2])\n",
    "xticks( [0,1,2], ['LOF','GOF','Tissue/\\nTumor'], rotation=45)\n",
    "xlabel('Genomic features with Gain of Interaction')\n",
    "savefig('./Figures/Fig_2_C.pdf')\n",
    "savefig('./Figures/Fig_2_C.png')\n",
    "show()"
   ]
  },
  {
   "cell_type": "code",
   "execution_count": 31,
   "id": "immediate-azerbaijan",
   "metadata": {},
   "outputs": [
    {
     "data": {
      "image/png": "[encoded data removed]",
      "text/plain": [
       "<Figure size 216x144 with 1 Axes>"
      ]
     },
     "metadata": {
      "needs_background": "light"
     },
     "output_type": "display_data"
    }
   ],
   "source": [
    "figure( figsize(3,2))\n",
    "bar( [0], log10([hits_neg_lof]), facecolor=sns.color_palette(\"tab10\")[0])\n",
    "bar( [1], log10([hits_neg_gof]), facecolor=sns.color_palette(\"tab10\")[1])\n",
    "bar( [2], log10([hits_neg_other]), facecolor=sns.color_palette(\"tab10\")[2])\n",
    "xticks( [0,1,2], ['LOF','GOF','Tissue/\\nTumor'], rotation=45)\n",
    "xlabel('Gain of Interaction edges by feature')\n",
    "savefig('./Figures/Fig_2_D.pdf')\n",
    "savefig('./Figures/Fig_2_D.png')\n",
    "show()"
   ]
  },
  {
   "cell_type": "code",
   "execution_count": 32,
   "id": "square-receptor",
   "metadata": {},
   "outputs": [
    {
     "data": {
      "image/png": "[encoded data removed]",
      "text/plain": [
       "<Figure size 216x144 with 1 Axes>"
      ]
     },
     "metadata": {
      "needs_background": "light"
     },
     "output_type": "display_data"
    }
   ],
   "source": [
    "figure( figsize(3,2))\n",
    "bar( [0], [num_lof_pos], facecolor=sns.color_palette(\"tab10\")[0])\n",
    "bar( [1], [num_gof_pos], facecolor=sns.color_palette(\"tab10\")[1])\n",
    "bar( [2], [num_other], facecolor=sns.color_palette(\"tab10\")[2])\n",
    "xticks( [0,1,2], ['LOF','GOF','Tissue/\\nTumor'], rotation=45)\n",
    "xlabel('Genomic features with Loss of Interaction')\n",
    "savefig('./Figures/Fig_2_E.pdf')\n",
    "savefig('./Figures/Fig_2_E.png')\n",
    "show()"
   ]
  },
  {
   "cell_type": "code",
   "execution_count": 33,
   "id": "veterinary-dressing",
   "metadata": {},
   "outputs": [
    {
     "data": {
      "image/png": "[encoded data removed]",
      "text/plain": [
       "<Figure size 216x144 with 1 Axes>"
      ]
     },
     "metadata": {
      "needs_background": "light"
     },
     "output_type": "display_data"
    }
   ],
   "source": [
    "figure( figsize(3,2))\n",
    "bar( [0], [hits_pos_lof], facecolor=sns.color_palette(\"tab10\")[0])\n",
    "bar( [1], [hits_pos_gof], facecolor=sns.color_palette(\"tab10\")[1])\n",
    "bar( [2], [hits_pos_other], facecolor=sns.color_palette(\"tab10\")[2])\n",
    "xticks( [0,1,2], ['LOF','GOF','Tissue/\\nTumor'], rotation=45)\n",
    "xlabel('Loss of Interaction edges by feature')\n",
    "savefig('./Figures/Fig_2_F.pdf')\n",
    "savefig('./Figures/Fig_2_F.png')\n",
    "show()"
   ]
  },
  {
   "cell_type": "code",
   "execution_count": 17,
   "id": "manufactured-ontario",
   "metadata": {},
   "outputs": [
    {
     "data": {
      "text/html": [
       "<div>\n",
       "<style scoped>\n",
       "    .dataframe tbody tr th:only-of-type {\n",
       "        vertical-align: middle;\n",
       "    }\n",
       "\n",
       "    .dataframe tbody tr th {\n",
       "        vertical-align: top;\n",
       "    }\n",
       "\n",
       "    .dataframe thead th {\n",
       "        text-align: right;\n",
       "    }\n",
       "</style>\n",
       "<table border=\"1\" class=\"dataframe\">\n",
       "  <thead>\n",
       "    <tr style=\"text-align: right;\">\n",
       "      <th></th>\n",
       "      <th>Gene1</th>\n",
       "      <th>Gene2</th>\n",
       "      <th>PCC_all</th>\n",
       "      <th>PCC_L1out</th>\n",
       "      <th>dPCC</th>\n",
       "      <th>Pval</th>\n",
       "    </tr>\n",
       "    <tr>\n",
       "      <th>Condition</th>\n",
       "      <th></th>\n",
       "      <th></th>\n",
       "      <th></th>\n",
       "      <th></th>\n",
       "      <th></th>\n",
       "      <th></th>\n",
       "    </tr>\n",
       "  </thead>\n",
       "  <tbody>\n",
       "    <tr>\n",
       "      <th>AML</th>\n",
       "      <td>8</td>\n",
       "      <td>8</td>\n",
       "      <td>8</td>\n",
       "      <td>8</td>\n",
       "      <td>8</td>\n",
       "      <td>8</td>\n",
       "    </tr>\n",
       "    <tr>\n",
       "      <th>ARID1A_LOF</th>\n",
       "      <td>2</td>\n",
       "      <td>2</td>\n",
       "      <td>2</td>\n",
       "      <td>2</td>\n",
       "      <td>2</td>\n",
       "      <td>2</td>\n",
       "    </tr>\n",
       "    <tr>\n",
       "      <th>BRAF_GOF</th>\n",
       "      <td>5</td>\n",
       "      <td>5</td>\n",
       "      <td>5</td>\n",
       "      <td>5</td>\n",
       "      <td>5</td>\n",
       "      <td>5</td>\n",
       "    </tr>\n",
       "    <tr>\n",
       "      <th>CEP164_LOF</th>\n",
       "      <td>1</td>\n",
       "      <td>1</td>\n",
       "      <td>1</td>\n",
       "      <td>1</td>\n",
       "      <td>1</td>\n",
       "      <td>1</td>\n",
       "    </tr>\n",
       "    <tr>\n",
       "      <th>Ewing_sarcoma</th>\n",
       "      <td>5</td>\n",
       "      <td>5</td>\n",
       "      <td>5</td>\n",
       "      <td>5</td>\n",
       "      <td>5</td>\n",
       "      <td>5</td>\n",
       "    </tr>\n",
       "    <tr>\n",
       "      <th>KRAS_GOF</th>\n",
       "      <td>14</td>\n",
       "      <td>14</td>\n",
       "      <td>14</td>\n",
       "      <td>14</td>\n",
       "      <td>14</td>\n",
       "      <td>14</td>\n",
       "    </tr>\n",
       "    <tr>\n",
       "      <th>MS4A1_LOF</th>\n",
       "      <td>1</td>\n",
       "      <td>1</td>\n",
       "      <td>1</td>\n",
       "      <td>1</td>\n",
       "      <td>1</td>\n",
       "      <td>1</td>\n",
       "    </tr>\n",
       "    <tr>\n",
       "      <th>MYH14_LOF</th>\n",
       "      <td>5</td>\n",
       "      <td>5</td>\n",
       "      <td>5</td>\n",
       "      <td>5</td>\n",
       "      <td>5</td>\n",
       "      <td>5</td>\n",
       "    </tr>\n",
       "    <tr>\n",
       "      <th>NRAS_GOF</th>\n",
       "      <td>3</td>\n",
       "      <td>3</td>\n",
       "      <td>3</td>\n",
       "      <td>3</td>\n",
       "      <td>3</td>\n",
       "      <td>3</td>\n",
       "    </tr>\n",
       "    <tr>\n",
       "      <th>PIK3CA_GOF</th>\n",
       "      <td>9</td>\n",
       "      <td>9</td>\n",
       "      <td>9</td>\n",
       "      <td>9</td>\n",
       "      <td>9</td>\n",
       "      <td>9</td>\n",
       "    </tr>\n",
       "    <tr>\n",
       "      <th>RHOA_GOF</th>\n",
       "      <td>4</td>\n",
       "      <td>4</td>\n",
       "      <td>4</td>\n",
       "      <td>4</td>\n",
       "      <td>4</td>\n",
       "      <td>4</td>\n",
       "    </tr>\n",
       "    <tr>\n",
       "      <th>SPAG17_LOF</th>\n",
       "      <td>1</td>\n",
       "      <td>1</td>\n",
       "      <td>1</td>\n",
       "      <td>1</td>\n",
       "      <td>1</td>\n",
       "      <td>1</td>\n",
       "    </tr>\n",
       "    <tr>\n",
       "      <th>Suspension</th>\n",
       "      <td>6</td>\n",
       "      <td>6</td>\n",
       "      <td>6</td>\n",
       "      <td>6</td>\n",
       "      <td>6</td>\n",
       "      <td>6</td>\n",
       "    </tr>\n",
       "    <tr>\n",
       "      <th>TP53_GOF</th>\n",
       "      <td>8958</td>\n",
       "      <td>8958</td>\n",
       "      <td>8958</td>\n",
       "      <td>8958</td>\n",
       "      <td>8958</td>\n",
       "      <td>8958</td>\n",
       "    </tr>\n",
       "    <tr>\n",
       "      <th>TP53_LOF</th>\n",
       "      <td>97</td>\n",
       "      <td>97</td>\n",
       "      <td>97</td>\n",
       "      <td>97</td>\n",
       "      <td>97</td>\n",
       "      <td>97</td>\n",
       "    </tr>\n",
       "    <tr>\n",
       "      <th>TTN_LOF</th>\n",
       "      <td>2</td>\n",
       "      <td>2</td>\n",
       "      <td>2</td>\n",
       "      <td>2</td>\n",
       "      <td>2</td>\n",
       "      <td>2</td>\n",
       "    </tr>\n",
       "    <tr>\n",
       "      <th>blood</th>\n",
       "      <td>30</td>\n",
       "      <td>30</td>\n",
       "      <td>30</td>\n",
       "      <td>30</td>\n",
       "      <td>30</td>\n",
       "      <td>30</td>\n",
       "    </tr>\n",
       "    <tr>\n",
       "      <th>bone</th>\n",
       "      <td>4</td>\n",
       "      <td>4</td>\n",
       "      <td>4</td>\n",
       "      <td>4</td>\n",
       "      <td>4</td>\n",
       "      <td>4</td>\n",
       "    </tr>\n",
       "    <tr>\n",
       "      <th>breast</th>\n",
       "      <td>5</td>\n",
       "      <td>5</td>\n",
       "      <td>5</td>\n",
       "      <td>5</td>\n",
       "      <td>5</td>\n",
       "      <td>5</td>\n",
       "    </tr>\n",
       "    <tr>\n",
       "      <th>colorectal</th>\n",
       "      <td>11</td>\n",
       "      <td>11</td>\n",
       "      <td>11</td>\n",
       "      <td>11</td>\n",
       "      <td>11</td>\n",
       "      <td>11</td>\n",
       "    </tr>\n",
       "    <tr>\n",
       "      <th>liposarcoma</th>\n",
       "      <td>1</td>\n",
       "      <td>1</td>\n",
       "      <td>1</td>\n",
       "      <td>1</td>\n",
       "      <td>1</td>\n",
       "      <td>1</td>\n",
       "    </tr>\n",
       "    <tr>\n",
       "      <th>lung</th>\n",
       "      <td>2</td>\n",
       "      <td>2</td>\n",
       "      <td>2</td>\n",
       "      <td>2</td>\n",
       "      <td>2</td>\n",
       "      <td>2</td>\n",
       "    </tr>\n",
       "    <tr>\n",
       "      <th>lymphocyte</th>\n",
       "      <td>5</td>\n",
       "      <td>5</td>\n",
       "      <td>5</td>\n",
       "      <td>5</td>\n",
       "      <td>5</td>\n",
       "      <td>5</td>\n",
       "    </tr>\n",
       "    <tr>\n",
       "      <th>melanoma</th>\n",
       "      <td>3</td>\n",
       "      <td>3</td>\n",
       "      <td>3</td>\n",
       "      <td>3</td>\n",
       "      <td>3</td>\n",
       "      <td>3</td>\n",
       "    </tr>\n",
       "    <tr>\n",
       "      <th>non_hodgkin_lymphoma</th>\n",
       "      <td>5</td>\n",
       "      <td>5</td>\n",
       "      <td>5</td>\n",
       "      <td>5</td>\n",
       "      <td>5</td>\n",
       "      <td>5</td>\n",
       "    </tr>\n",
       "    <tr>\n",
       "      <th>peripheral_nervous_system</th>\n",
       "      <td>28</td>\n",
       "      <td>28</td>\n",
       "      <td>28</td>\n",
       "      <td>28</td>\n",
       "      <td>28</td>\n",
       "      <td>28</td>\n",
       "    </tr>\n",
       "    <tr>\n",
       "      <th>plasma_cell</th>\n",
       "      <td>6</td>\n",
       "      <td>6</td>\n",
       "      <td>6</td>\n",
       "      <td>6</td>\n",
       "      <td>6</td>\n",
       "      <td>6</td>\n",
       "    </tr>\n",
       "    <tr>\n",
       "      <th>rhabdomyosarcoma</th>\n",
       "      <td>2</td>\n",
       "      <td>2</td>\n",
       "      <td>2</td>\n",
       "      <td>2</td>\n",
       "      <td>2</td>\n",
       "      <td>2</td>\n",
       "    </tr>\n",
       "    <tr>\n",
       "      <th>soft_tissue</th>\n",
       "      <td>4</td>\n",
       "      <td>4</td>\n",
       "      <td>4</td>\n",
       "      <td>4</td>\n",
       "      <td>4</td>\n",
       "      <td>4</td>\n",
       "    </tr>\n",
       "  </tbody>\n",
       "</table>\n",
       "</div>"
      ],
      "text/plain": [
       "                           Gene1  Gene2  PCC_all  PCC_L1out  dPCC  Pval\n",
       "Condition                                                              \n",
       "AML                            8      8        8          8     8     8\n",
       "ARID1A_LOF                     2      2        2          2     2     2\n",
       "BRAF_GOF                       5      5        5          5     5     5\n",
       "CEP164_LOF                     1      1        1          1     1     1\n",
       "Ewing_sarcoma                  5      5        5          5     5     5\n",
       "KRAS_GOF                      14     14       14         14    14    14\n",
       "MS4A1_LOF                      1      1        1          1     1     1\n",
       "MYH14_LOF                      5      5        5          5     5     5\n",
       "NRAS_GOF                       3      3        3          3     3     3\n",
       "PIK3CA_GOF                     9      9        9          9     9     9\n",
       "RHOA_GOF                       4      4        4          4     4     4\n",
       "SPAG17_LOF                     1      1        1          1     1     1\n",
       "Suspension                     6      6        6          6     6     6\n",
       "TP53_GOF                    8958   8958     8958       8958  8958  8958\n",
       "TP53_LOF                      97     97       97         97    97    97\n",
       "TTN_LOF                        2      2        2          2     2     2\n",
       "blood                         30     30       30         30    30    30\n",
       "bone                           4      4        4          4     4     4\n",
       "breast                         5      5        5          5     5     5\n",
       "colorectal                    11     11       11         11    11    11\n",
       "liposarcoma                    1      1        1          1     1     1\n",
       "lung                           2      2        2          2     2     2\n",
       "lymphocyte                     5      5        5          5     5     5\n",
       "melanoma                       3      3        3          3     3     3\n",
       "non_hodgkin_lymphoma           5      5        5          5     5     5\n",
       "peripheral_nervous_system     28     28       28         28    28    28\n",
       "plasma_cell                    6      6        6          6     6     6\n",
       "rhabdomyosarcoma               2      2        2          2     2     2\n",
       "soft_tissue                    4      4        4          4     4     4"
      ]
     },
     "execution_count": 17,
     "metadata": {},
     "output_type": "execute_result"
    }
   ],
   "source": [
    "hits_neg.groupby('Condition').count()"
   ]
  },
  {
   "cell_type": "code",
   "execution_count": 18,
   "id": "imperial-novelty",
   "metadata": {},
   "outputs": [
    {
     "data": {
      "text/plain": [
       "0.9708464289584914"
      ]
     },
     "execution_count": 18,
     "metadata": {},
     "output_type": "execute_result"
    }
   ],
   "source": [
    "8958/9227"
   ]
  },
  {
   "cell_type": "code",
   "execution_count": 19,
   "id": "anonymous-orchestra",
   "metadata": {},
   "outputs": [
    {
     "data": {
      "text/plain": [
       "269"
      ]
     },
     "execution_count": 19,
     "metadata": {},
     "output_type": "execute_result"
    }
   ],
   "source": [
    "9227 - 8958"
   ]
  },
  {
   "cell_type": "code",
   "execution_count": null,
   "id": "applied-dispute",
   "metadata": {},
   "outputs": [],
   "source": []
  }
 ],
 "metadata": {
  "kernelspec": {
   "display_name": "Python 3",
   "language": "python",
   "name": "python3"
  },
  "language_info": {
   "codemirror_mode": {
    "name": "ipython",
    "version": 3
   },
   "file_extension": ".py",
   "mimetype": "text/x-python",
   "name": "python",
   "nbconvert_exporter": "python",
   "pygments_lexer": "ipython3",
   "version": "3.8.5"
  }
 },
 "nbformat": 4,
 "nbformat_minor": 5
}
