{
 "cells": [
  {
   "cell_type": "code",
   "execution_count": 1,
   "id": "wrapped-snake",
   "metadata": {},
   "outputs": [
    {
     "name": "stdout",
     "output_type": "stream",
     "text": [
      "Populating the interactive namespace from numpy and matplotlib\n"
     ]
    }
   ],
   "source": [
    "%pylab inline\n",
    "import pandas as pd"
   ]
  },
  {
   "cell_type": "code",
   "execution_count": 2,
   "id": "attractive-object",
   "metadata": {},
   "outputs": [],
   "source": [
    "import scipy.stats as stats\n",
    "import seaborn as sns"
   ]
  },
  {
   "cell_type": "code",
   "execution_count": 3,
   "id": "forbidden-start",
   "metadata": {},
   "outputs": [],
   "source": [
    "rcParams['pdf.fonttype']=42\n",
    "rcParams['font.family']='sans-serif'\n",
    "rcParams['font.size']=10"
   ]
  },
  {
   "cell_type": "code",
   "execution_count": 4,
   "id": "lesser-skiing",
   "metadata": {},
   "outputs": [],
   "source": [
    "def qnorm_dataframe( data ):\n",
    "\t\"\"\"\n",
    "\tquantile normalize a dataframe with numeric values only!\n",
    "\t\"\"\"\n",
    "\trank_mean = data.stack().groupby(data.rank(method='first').stack().astype(int)).mean()\n",
    "\tqnormed_data    = data.rank(method='min').stack().astype(int).map(rank_mean).unstack()\n",
    "\treturn qnormed_data"
   ]
  },
  {
   "cell_type": "code",
   "execution_count": 5,
   "id": "expanded-indiana",
   "metadata": {},
   "outputs": [
    {
     "name": "stdout",
     "output_type": "stream",
     "text": [
      "<class 'pandas.core.frame.DataFrame'>\n",
      "Index: 808 entries, ACH-001172 to ACH-002510\n",
      "Columns: 2918 entries, plasma_cell to CDH_VIM_lo\n",
      "dtypes: bool(2918)\n",
      "memory usage: 2.3+ MB\n"
     ]
    }
   ],
   "source": [
    "feats = pd.read_table('./Data/features-bool-deDuped-2918feats-808cells.txt', index_col=0)\n",
    "feats.info()"
   ]
  },
  {
   "cell_type": "code",
   "execution_count": 6,
   "id": "brazilian-spelling",
   "metadata": {},
   "outputs": [
    {
     "name": "stdout",
     "output_type": "stream",
     "text": [
      "<class 'pandas.core.frame.DataFrame'>\n",
      "Index: 808 entries, ACH-001172 to ACH-002510\n",
      "Columns: 18111 entries, A1BG to ZZZ3\n",
      "dtypes: float64(18111)\n",
      "memory usage: 111.7+ MB\n"
     ]
    }
   ],
   "source": [
    "bf = pd.read_table('./Data/table_Avana2020Q4_CRISPRcleanR_corrected_all', index_col=0)\n",
    "bf = bf.T\n",
    "bf.info()"
   ]
  },
  {
   "cell_type": "code",
   "execution_count": 7,
   "id": "european-portuguese",
   "metadata": {},
   "outputs": [],
   "source": [
    "qbf = qnorm_dataframe( bf.T ).T"
   ]
  },
  {
   "cell_type": "code",
   "execution_count": 8,
   "id": "every-blast",
   "metadata": {},
   "outputs": [
    {
     "name": "stdout",
     "output_type": "stream",
     "text": [
      "<class 'pandas.core.frame.DataFrame'>\n",
      "Index: 808 entries, ACH-001172 to ACH-002510\n",
      "Columns: 21013 entries, plasma_cell to ZZZ3\n",
      "dtypes: bool(2918), float64(18095)\n",
      "memory usage: 113.8+ MB\n"
     ]
    }
   ],
   "source": [
    "data = feats.join(qbf, how='inner')\n",
    "data.info()"
   ]
  },
  {
   "cell_type": "code",
   "execution_count": 9,
   "id": "thousand-premiere",
   "metadata": {},
   "outputs": [
    {
     "name": "stdout",
     "output_type": "stream",
     "text": [
      "<class 'pandas.core.frame.DataFrame'>\n",
      "RangeIndex: 12488 entries, 0 to 12487\n",
      "Data columns (total 7 columns):\n",
      " #   Column     Non-Null Count  Dtype  \n",
      "---  ------     --------------  -----  \n",
      " 0   Condition  12488 non-null  object \n",
      " 1   Gene1      12488 non-null  object \n",
      " 2   Gene2      12488 non-null  object \n",
      " 3   PCC_all    12488 non-null  float64\n",
      " 4   PCC_L1out  12488 non-null  float64\n",
      " 5   dPCC       12488 non-null  float64\n",
      " 6   Pval       12488 non-null  float64\n",
      "dtypes: float64(4), object(3)\n",
      "memory usage: 683.1+ KB\n"
     ]
    }
   ],
   "source": [
    "hits = pd.read_table('./highly-filtered-hits-12kEdges-133features-PCCge248-dPCCge100.txt', sep='\\t')\n",
    "hits.info()"
   ]
  },
  {
   "cell_type": "code",
   "execution_count": 10,
   "id": "dirty-conditioning",
   "metadata": {},
   "outputs": [
    {
     "name": "stdout",
     "output_type": "stream",
     "text": [
      "<class 'pandas.core.frame.DataFrame'>\n",
      "RangeIndex: 18093 entries, 0 to 18092\n",
      "Data columns (total 6 columns):\n",
      " #   Column     Non-Null Count  Dtype  \n",
      "---  ------     --------------  -----  \n",
      " 0   Gene1      18093 non-null  object \n",
      " 1   Gene2      18093 non-null  object \n",
      " 2   PCC_all    18093 non-null  float64\n",
      " 3   PCC_L1out  18093 non-null  float64\n",
      " 4   dPCC       18093 non-null  float64\n",
      " 5   Pval       18093 non-null  float64\n",
      "dtypes: float64(4), object(2)\n",
      "memory usage: 848.2+ KB\n"
     ]
    }
   ],
   "source": [
    "pik3hits = pd.read_table('/Data/HartLab/DiffCoess/ZdPCC-PIK3CA_only.txt', sep='\\t', \n",
    "                         names=['Gene1','Gene2','PCC_all','PCC_L1out','dPCC','Pval'])\n",
    "pik3hits.info()"
   ]
  },
  {
   "cell_type": "code",
   "execution_count": 11,
   "id": "bibliographic-delaware",
   "metadata": {},
   "outputs": [
    {
     "data": {
      "text/html": [
       "<div>\n",
       "<style scoped>\n",
       "    .dataframe tbody tr th:only-of-type {\n",
       "        vertical-align: middle;\n",
       "    }\n",
       "\n",
       "    .dataframe tbody tr th {\n",
       "        vertical-align: top;\n",
       "    }\n",
       "\n",
       "    .dataframe thead th {\n",
       "        text-align: right;\n",
       "    }\n",
       "</style>\n",
       "<table border=\"1\" class=\"dataframe\">\n",
       "  <thead>\n",
       "    <tr style=\"text-align: right;\">\n",
       "      <th></th>\n",
       "      <th>Gene1</th>\n",
       "      <th>Gene2</th>\n",
       "      <th>PCC_all</th>\n",
       "      <th>PCC_L1out</th>\n",
       "      <th>dPCC</th>\n",
       "      <th>Pval</th>\n",
       "    </tr>\n",
       "  </thead>\n",
       "  <tbody>\n",
       "    <tr>\n",
       "      <th>1</th>\n",
       "      <td>AKT1</td>\n",
       "      <td>PIK3CA</td>\n",
       "      <td>0.204</td>\n",
       "      <td>0.122</td>\n",
       "      <td>0.082</td>\n",
       "      <td>0.0</td>\n",
       "    </tr>\n",
       "    <tr>\n",
       "      <th>42</th>\n",
       "      <td>PIK3CA</td>\n",
       "      <td>RICTOR</td>\n",
       "      <td>0.215</td>\n",
       "      <td>0.150</td>\n",
       "      <td>0.065</td>\n",
       "      <td>0.0</td>\n",
       "    </tr>\n",
       "  </tbody>\n",
       "</table>\n",
       "</div>"
      ],
      "text/plain": [
       "     Gene1   Gene2  PCC_all  PCC_L1out   dPCC  Pval\n",
       "1     AKT1  PIK3CA    0.204      0.122  0.082   0.0\n",
       "42  PIK3CA  RICTOR    0.215      0.150  0.065   0.0"
      ]
     },
     "execution_count": 11,
     "metadata": {},
     "output_type": "execute_result"
    }
   ],
   "source": [
    "pik3hits[ (pik3hits.Pval==0) & (pik3hits.dPCC>0) & (pik3hits.PCC_all>=0.2)]"
   ]
  },
  {
   "cell_type": "code",
   "execution_count": 12,
   "id": "accepted-hawaii",
   "metadata": {},
   "outputs": [
    {
     "data": {
      "text/html": [
       "<div>\n",
       "<style scoped>\n",
       "    .dataframe tbody tr th:only-of-type {\n",
       "        vertical-align: middle;\n",
       "    }\n",
       "\n",
       "    .dataframe tbody tr th {\n",
       "        vertical-align: top;\n",
       "    }\n",
       "\n",
       "    .dataframe thead th {\n",
       "        text-align: right;\n",
       "    }\n",
       "</style>\n",
       "<table border=\"1\" class=\"dataframe\">\n",
       "  <thead>\n",
       "    <tr style=\"text-align: right;\">\n",
       "      <th></th>\n",
       "      <th>Gene1</th>\n",
       "      <th>Gene2</th>\n",
       "      <th>PCC_all</th>\n",
       "      <th>PCC_L1out</th>\n",
       "      <th>dPCC</th>\n",
       "      <th>Pval</th>\n",
       "    </tr>\n",
       "  </thead>\n",
       "  <tbody>\n",
       "    <tr>\n",
       "      <th>18091</th>\n",
       "      <td>IGF1R</td>\n",
       "      <td>PIK3CA</td>\n",
       "      <td>0.290</td>\n",
       "      <td>0.409</td>\n",
       "      <td>-0.119</td>\n",
       "      <td>1000.0</td>\n",
       "    </tr>\n",
       "    <tr>\n",
       "      <th>18090</th>\n",
       "      <td>KBTBD2</td>\n",
       "      <td>PIK3CA</td>\n",
       "      <td>0.293</td>\n",
       "      <td>0.400</td>\n",
       "      <td>-0.107</td>\n",
       "      <td>1000.0</td>\n",
       "    </tr>\n",
       "    <tr>\n",
       "      <th>18092</th>\n",
       "      <td>IRS2</td>\n",
       "      <td>PIK3CA</td>\n",
       "      <td>0.238</td>\n",
       "      <td>0.361</td>\n",
       "      <td>-0.123</td>\n",
       "      <td>1000.0</td>\n",
       "    </tr>\n",
       "    <tr>\n",
       "      <th>18089</th>\n",
       "      <td>FURIN</td>\n",
       "      <td>PIK3CA</td>\n",
       "      <td>0.198</td>\n",
       "      <td>0.299</td>\n",
       "      <td>-0.100</td>\n",
       "      <td>1000.0</td>\n",
       "    </tr>\n",
       "    <tr>\n",
       "      <th>18088</th>\n",
       "      <td>CNPY2</td>\n",
       "      <td>PIK3CA</td>\n",
       "      <td>0.179</td>\n",
       "      <td>0.279</td>\n",
       "      <td>-0.100</td>\n",
       "      <td>1000.0</td>\n",
       "    </tr>\n",
       "  </tbody>\n",
       "</table>\n",
       "</div>"
      ],
      "text/plain": [
       "        Gene1   Gene2  PCC_all  PCC_L1out   dPCC    Pval\n",
       "18091   IGF1R  PIK3CA    0.290      0.409 -0.119  1000.0\n",
       "18090  KBTBD2  PIK3CA    0.293      0.400 -0.107  1000.0\n",
       "18092    IRS2  PIK3CA    0.238      0.361 -0.123  1000.0\n",
       "18089   FURIN  PIK3CA    0.198      0.299 -0.100  1000.0\n",
       "18088   CNPY2  PIK3CA    0.179      0.279 -0.100  1000.0"
      ]
     },
     "execution_count": 12,
     "metadata": {},
     "output_type": "execute_result"
    }
   ],
   "source": [
    "pik3hits[ (pik3hits.Pval==1000) & \n",
    "         (pik3hits.dPCC<=-0.10) & \n",
    "         (pik3hits.PCC_L1out>=0.2)].sort_values('PCC_L1out', ascending=False)"
   ]
  },
  {
   "cell_type": "code",
   "execution_count": 14,
   "id": "dedicated-deficit",
   "metadata": {},
   "outputs": [
    {
     "data": {
      "image/png": "[encoded data removed]",
      "text/plain": [
       "<Figure size 144x144 with 1 Axes>"
      ]
     },
     "metadata": {
      "needs_background": "light"
     },
     "output_type": "display_data"
    }
   ],
   "source": [
    "figure( figsize(2,2))\n",
    "sns.scatterplot( x='PIK3CA', y='IGF1R', data=data[ data.PIK3CA_GOF==False], \n",
    "            color=sns.color_palette(\"tab10\")[7], s=20, alpha=.5)\n",
    "sns.scatterplot( x='PIK3CA', y='IGF1R', data=data[ data.PIK3CA_GOF==True], \n",
    "            color=sns.color_palette(\"tab10\")[3], s=20)\n",
    "sns.regplot( x='PIK3CA', y='IGF1R', data=data[ data.PIK3CA_GOF==True], \n",
    "            color=sns.color_palette(\"tab10\")[3], \n",
    "            scatter=False)\n",
    "            #scatter_kws={'s':4, 'alpha':0.5} )\n",
    "sns.regplot( x='PIK3CA', y='IGF1R', data=data[ data.PIK3CA_GOF==False], \n",
    "            color=sns.color_palette(\"tab10\")[7],\n",
    "           scatter=False)\n",
    "            #scatter_kws={'s':4})\n",
    "savefig('./Figures/Fig_4_B.pdf')\n",
    "savefig('./Figures/Fig_4_B.png')\n",
    "show()"
   ]
  },
  {
   "cell_type": "code",
   "execution_count": 15,
   "id": "latin-brook",
   "metadata": {},
   "outputs": [
    {
     "data": {
      "image/png": "[encoded data removed]",
      "text/plain": [
       "<Figure size 144x144 with 1 Axes>"
      ]
     },
     "metadata": {
      "needs_background": "light"
     },
     "output_type": "display_data"
    }
   ],
   "source": [
    "figure( figsize(2,2))\n",
    "sns.scatterplot( x='PIK3CA', y='FURIN', data=data[ data.PIK3CA_GOF==False], \n",
    "            color=sns.color_palette(\"tab10\")[7], s=20, alpha=.5)\n",
    "sns.scatterplot( x='PIK3CA', y='FURIN', data=data[ data.PIK3CA_GOF==True], \n",
    "            color=sns.color_palette(\"tab10\")[3], s=20)\n",
    "sns.regplot( x='PIK3CA', y='FURIN', data=data[ data.PIK3CA_GOF==True], \n",
    "            color=sns.color_palette(\"tab10\")[3], \n",
    "            scatter=False)\n",
    "            #scatter_kws={'s':4, 'alpha':0.5} )\n",
    "sns.regplot( x='PIK3CA', y='FURIN', data=data[ data.PIK3CA_GOF==False], \n",
    "            color=sns.color_palette(\"tab10\")[7],\n",
    "           scatter=False)\n",
    "            #scatter_kws={'s':4})\n",
    "savefig('./Figures/Fig_4_C.pdf')\n",
    "savefig('./Figures/Fig_4_C.png')\n",
    "show()"
   ]
  },
  {
   "cell_type": "code",
   "execution_count": 16,
   "id": "quantitative-polyester",
   "metadata": {},
   "outputs": [
    {
     "data": {
      "image/png": "[encoded data removed]",
      "text/plain": [
       "<Figure size 144x144 with 1 Axes>"
      ]
     },
     "metadata": {
      "needs_background": "light"
     },
     "output_type": "display_data"
    }
   ],
   "source": [
    "figure( figsize(2,2))\n",
    "sns.scatterplot( x='PIK3CA', y='IRS2', data=data[ data.PIK3CA_GOF==False], \n",
    "            color=sns.color_palette(\"tab10\")[7], s=20, alpha=.5)\n",
    "sns.scatterplot( x='PIK3CA', y='IRS2', data=data[ data.PIK3CA_GOF==True], \n",
    "            color=sns.color_palette(\"tab10\")[3], s=20)\n",
    "sns.regplot( x='PIK3CA', y='IRS2', data=data[ data.PIK3CA_GOF==True], \n",
    "            color=sns.color_palette(\"tab10\")[3], \n",
    "            scatter=False)\n",
    "            #scatter_kws={'s':4, 'alpha':0.5} )\n",
    "sns.regplot( x='PIK3CA', y='IRS2', data=data[ data.PIK3CA_GOF==False], \n",
    "            color=sns.color_palette(\"tab10\")[7],\n",
    "           scatter=False)\n",
    "            #scatter_kws={'s':4})\n",
    "savefig('./Figures/Fig_4_D.pdf')\n",
    "savefig('./Figures/Fig_4_D.png')\n",
    "show()"
   ]
  },
  {
   "cell_type": "code",
   "execution_count": 17,
   "id": "correct-writer",
   "metadata": {},
   "outputs": [
    {
     "data": {
      "image/png": "[encoded data removed]",
      "text/plain": [
       "<Figure size 144x144 with 1 Axes>"
      ]
     },
     "metadata": {
      "needs_background": "light"
     },
     "output_type": "display_data"
    }
   ],
   "source": [
    "figure( figsize(2,2))\n",
    "sns.scatterplot( x='PIK3CA', y='KBTBD2', data=data[ data.PIK3CA_GOF==False], \n",
    "            color=sns.color_palette(\"tab10\")[7], s=20, alpha=.5)\n",
    "sns.scatterplot( x='PIK3CA', y='KBTBD2', data=data[ data.PIK3CA_GOF==True], \n",
    "            color=sns.color_palette(\"tab10\")[3], s=20)\n",
    "sns.regplot( x='PIK3CA', y='KBTBD2', data=data[ data.PIK3CA_GOF==True], \n",
    "            color=sns.color_palette(\"tab10\")[3], \n",
    "            scatter=False)\n",
    "            #scatter_kws={'s':4, 'alpha':0.5} )\n",
    "sns.regplot( x='PIK3CA', y='KBTBD2', data=data[ data.PIK3CA_GOF==False], \n",
    "            color=sns.color_palette(\"tab10\")[7],\n",
    "           scatter=False)\n",
    "            #scatter_kws={'s':4})\n",
    "savefig('./Figures/Fig_4_E.pdf')\n",
    "savefig('./Figures/Fig_4_E.png')\n",
    "show()"
   ]
  },
  {
   "cell_type": "code",
   "execution_count": 41,
   "id": "precious-engineering",
   "metadata": {},
   "outputs": [
    {
     "data": {
      "image/png": "[encoded data removed]",
      "text/plain": [
       "<Figure size 216x144 with 1 Axes>"
      ]
     },
     "metadata": {
      "needs_background": "light"
     },
     "output_type": "display_data"
    }
   ],
   "source": [
    "figure( figsize(3,2))\n",
    "bar( [0], [1], facecolor=sns.color_palette(\"tab10\")[3])\n",
    "bar( [1], [1], facecolor=sns.color_palette(\"tab10\")[4])\n",
    "bar( [2], [1], facecolor=sns.color_palette(\"tab10\")[8])\n",
    "#xticks( [0,1,2], ['LOF','GOF','Tissue/\\nTumor'], rotation=45)\n",
    "savefig('./Figures/Fig_3_palette.pdf')\n",
    "savefig('./Figures/Fig_3_palette.png')\n",
    "show()"
   ]
  },
  {
   "cell_type": "code",
   "execution_count": 17,
   "id": "rocky-integer",
   "metadata": {},
   "outputs": [
    {
     "data": {
      "text/html": [
       "<svg  width=\"550\" height=\"55\"><rect x=\"0\" y=\"0\" width=\"55\" height=\"55\" style=\"fill:#1f77b4;stroke-width:2;stroke:rgb(255,255,255)\"/><rect x=\"55\" y=\"0\" width=\"55\" height=\"55\" style=\"fill:#ff7f0e;stroke-width:2;stroke:rgb(255,255,255)\"/><rect x=\"110\" y=\"0\" width=\"55\" height=\"55\" style=\"fill:#2ca02c;stroke-width:2;stroke:rgb(255,255,255)\"/><rect x=\"165\" y=\"0\" width=\"55\" height=\"55\" style=\"fill:#d62728;stroke-width:2;stroke:rgb(255,255,255)\"/><rect x=\"220\" y=\"0\" width=\"55\" height=\"55\" style=\"fill:#9467bd;stroke-width:2;stroke:rgb(255,255,255)\"/><rect x=\"275\" y=\"0\" width=\"55\" height=\"55\" style=\"fill:#8c564b;stroke-width:2;stroke:rgb(255,255,255)\"/><rect x=\"330\" y=\"0\" width=\"55\" height=\"55\" style=\"fill:#e377c2;stroke-width:2;stroke:rgb(255,255,255)\"/><rect x=\"385\" y=\"0\" width=\"55\" height=\"55\" style=\"fill:#7f7f7f;stroke-width:2;stroke:rgb(255,255,255)\"/><rect x=\"440\" y=\"0\" width=\"55\" height=\"55\" style=\"fill:#bcbd22;stroke-width:2;stroke:rgb(255,255,255)\"/><rect x=\"495\" y=\"0\" width=\"55\" height=\"55\" style=\"fill:#17becf;stroke-width:2;stroke:rgb(255,255,255)\"/></svg>"
      ],
      "text/plain": [
       "[(0.12156862745098039, 0.4666666666666667, 0.7058823529411765),\n",
       " (1.0, 0.4980392156862745, 0.054901960784313725),\n",
       " (0.17254901960784313, 0.6274509803921569, 0.17254901960784313),\n",
       " (0.8392156862745098, 0.15294117647058825, 0.1568627450980392),\n",
       " (0.5803921568627451, 0.403921568627451, 0.7411764705882353),\n",
       " (0.5490196078431373, 0.33725490196078434, 0.29411764705882354),\n",
       " (0.8901960784313725, 0.4666666666666667, 0.7607843137254902),\n",
       " (0.4980392156862745, 0.4980392156862745, 0.4980392156862745),\n",
       " (0.7372549019607844, 0.7411764705882353, 0.13333333333333333),\n",
       " (0.09019607843137255, 0.7450980392156863, 0.8117647058823529)]"
      ]
     },
     "execution_count": 17,
     "metadata": {},
     "output_type": "execute_result"
    }
   ],
   "source": [
    "sns.color_palette(\"tab10\")"
   ]
  },
  {
   "cell_type": "raw",
   "id": "broadband-warning",
   "metadata": {},
   "source": [
    "from dPCC-PIK3CA_GOF.txt.gz\n",
    "\n",
    "\n",
    "Gene1\tGene2\tPCC_all\tPCC_L1out\tdPCC\tnRandom_dPCC_GT_Obs\n",
    "PIK3CA\tRICTOR\t0.215\t0.150\t0.065\t0.000\n",
    "AKT1\tPIK3CA\t0.204\t0.122\t0.082\t0.000\n",
    "PDPK1\tPIK3CA\t0.074\t0.040\t0.033\t3.000"
   ]
  },
  {
   "cell_type": "code",
   "execution_count": null,
   "id": "light-compiler",
   "metadata": {},
   "outputs": [],
   "source": []
  }
 ],
 "metadata": {
  "kernelspec": {
   "display_name": "Python 3",
   "language": "python",
   "name": "python3"
  },
  "language_info": {
   "codemirror_mode": {
    "name": "ipython",
    "version": 3
   },
   "file_extension": ".py",
   "mimetype": "text/x-python",
   "name": "python",
   "nbconvert_exporter": "python",
   "pygments_lexer": "ipython3",
   "version": "3.8.5"
  }
 },
 "nbformat": 4,
 "nbformat_minor": 5
}
