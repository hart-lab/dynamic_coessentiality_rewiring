{
 "cells": [
  {
   "cell_type": "code",
   "execution_count": 1,
   "id": "similar-refrigerator",
   "metadata": {},
   "outputs": [
    {
     "name": "stdout",
     "output_type": "stream",
     "text": [
      "Populating the interactive namespace from numpy and matplotlib\n"
     ]
    }
   ],
   "source": [
    "%pylab inline\n",
    "import pandas as pd\n",
    "import scipy.stats as stats\n",
    "import seaborn as sns"
   ]
  },
  {
   "cell_type": "code",
   "execution_count": 2,
   "id": "expected-somewhere",
   "metadata": {},
   "outputs": [],
   "source": [
    "rcParams['pdf.fonttype']=42\n",
    "rcParams['font.family']='sans-serif'\n",
    "rcParams['font.size']=10"
   ]
  },
  {
   "cell_type": "code",
   "execution_count": 3,
   "id": "framed-stake",
   "metadata": {},
   "outputs": [],
   "source": [
    "def qnorm_dataframe( data ):\n",
    "    \"\"\"\n",
    "    quantile normalize a dataframe with numeric values only!\n",
    "    \"\"\"\n",
    "    rank_mean = data.stack().groupby(data.rank(method='first').stack().astype(int)).mean()\n",
    "    qnormed_data    = data.rank(method='min').stack().astype(int).map(rank_mean).unstack()\n",
    "    return qnormed_data"
   ]
  },
  {
   "cell_type": "code",
   "execution_count": 4,
   "id": "prime-jaguar",
   "metadata": {},
   "outputs": [
    {
     "name": "stdout",
     "output_type": "stream",
     "text": [
      "<class 'pandas.core.frame.DataFrame'>\n",
      "Index: 578 entries, ACH-000001 to ACH-001321\n",
      "Columns: 4686 entries, BRD-A00077618-236-07-6::2.5::HTS to BRD-M63173034-001-03-6::2.64076472::MTS004\n",
      "dtypes: float64(4686)\n",
      "memory usage: 20.7+ MB\n"
     ]
    }
   ],
   "source": [
    "drugsens = pd.read_csv('/Data/HartLab/Drug_sensitivity/primary_replicate_collapsed_logfold_change.csv',\n",
    "                        index_col=0)\n",
    "drugsens.info()"
   ]
  },
  {
   "cell_type": "code",
   "execution_count": 5,
   "id": "ideal-sheffield",
   "metadata": {},
   "outputs": [
    {
     "name": "stdout",
     "output_type": "stream",
     "text": [
      "<class 'pandas.core.frame.DataFrame'>\n",
      "Index: 4686 entries, BRD-A00055058-001-01-0::2.325889319::MTS004 to BRD-U51753822-000-01-1::2.5::HTS\n",
      "Data columns (total 10 columns):\n",
      " #   Column        Non-Null Count  Dtype  \n",
      "---  ------        --------------  -----  \n",
      " 0   broad_id      4686 non-null   object \n",
      " 1   name          4686 non-null   object \n",
      " 2   dose          4686 non-null   float64\n",
      " 3   screen_id     4686 non-null   object \n",
      " 4   moa           4686 non-null   object \n",
      " 5   target        4686 non-null   object \n",
      " 6   disease.area  4686 non-null   object \n",
      " 7   indication    4686 non-null   object \n",
      " 8   smiles        4686 non-null   object \n",
      " 9   phase         4686 non-null   object \n",
      "dtypes: float64(1), object(9)\n",
      "memory usage: 402.7+ KB\n"
     ]
    }
   ],
   "source": [
    "druginfo = pd.read_csv('/Data/HartLab/Drug_sensitivity/primary_replicate_collapsed_treatment_info.csv',\n",
    "                      index_col=0)\n",
    "druginfo.fillna('-', inplace=True)\n",
    "druginfo.info()"
   ]
  },
  {
   "cell_type": "code",
   "execution_count": 6,
   "id": "primary-playback",
   "metadata": {},
   "outputs": [
    {
     "data": {
      "text/html": [
       "<div>\n",
       "<style scoped>\n",
       "    .dataframe tbody tr th:only-of-type {\n",
       "        vertical-align: middle;\n",
       "    }\n",
       "\n",
       "    .dataframe tbody tr th {\n",
       "        vertical-align: top;\n",
       "    }\n",
       "\n",
       "    .dataframe thead th {\n",
       "        text-align: right;\n",
       "    }\n",
       "</style>\n",
       "<table border=\"1\" class=\"dataframe\">\n",
       "  <thead>\n",
       "    <tr style=\"text-align: right;\">\n",
       "      <th></th>\n",
       "      <th>BRD-A00077618-236-07-6::2.5::HTS</th>\n",
       "      <th>BRD-A00100033-001-08-9::2.5::HTS</th>\n",
       "      <th>BRD-A00147595-001-01-5::2.5::HTS</th>\n",
       "      <th>BRD-A00218260-001-03-4::2.5::HTS</th>\n",
       "      <th>BRD-A00376169-001-01-6::2.5::HTS</th>\n",
       "      <th>BRD-A00520476-001-07-4::2.5::HTS</th>\n",
       "      <th>BRD-A00546892-001-02-6::2.5::HTS</th>\n",
       "      <th>BRD-A00578795-001-04-3::2.5::HTS</th>\n",
       "      <th>BRD-A00758722-001-04-9::2.5::HTS</th>\n",
       "      <th>BRD-A00827783-001-24-6::2.5::HTS</th>\n",
       "      <th>...</th>\n",
       "      <th>BRD-K98557884-001-01-6::2.5::MTS004</th>\n",
       "      <th>BRD-K99077012-001-01-9::2.332734192::MTS004</th>\n",
       "      <th>BRD-K99199077-001-16-1::2.603211317::MTS004</th>\n",
       "      <th>BRD-K99431849-001-01-7::2.500018158::MTS004</th>\n",
       "      <th>BRD-K99447003-335-04-1::2.37737659::MTS004</th>\n",
       "      <th>BRD-K99506538-001-03-8::2.5::MTS004</th>\n",
       "      <th>BRD-K99616396-001-05-1::2.499991421::MTS004</th>\n",
       "      <th>BRD-K99879819-001-02-1::2.5187366::MTS004</th>\n",
       "      <th>BRD-K99919177-001-01-3::2.5::MTS004</th>\n",
       "      <th>BRD-M63173034-001-03-6::2.64076472::MTS004</th>\n",
       "    </tr>\n",
       "  </thead>\n",
       "  <tbody>\n",
       "    <tr>\n",
       "      <th>ACH-000001</th>\n",
       "      <td>-0.015577</td>\n",
       "      <td>-0.449332</td>\n",
       "      <td>0.489379</td>\n",
       "      <td>0.206675</td>\n",
       "      <td>0.272730</td>\n",
       "      <td>0.021036</td>\n",
       "      <td>-0.025460</td>\n",
       "      <td>0.467158</td>\n",
       "      <td>-0.736306</td>\n",
       "      <td>0.644137</td>\n",
       "      <td>...</td>\n",
       "      <td>0.429238</td>\n",
       "      <td>0.204841</td>\n",
       "      <td>0.150055</td>\n",
       "      <td>-0.575404</td>\n",
       "      <td>-0.101247</td>\n",
       "      <td>0.399233</td>\n",
       "      <td>-0.127658</td>\n",
       "      <td>-0.141651</td>\n",
       "      <td>-1.153652</td>\n",
       "      <td>0.510464</td>\n",
       "    </tr>\n",
       "    <tr>\n",
       "      <th>ACH-000007</th>\n",
       "      <td>-0.095730</td>\n",
       "      <td>0.257943</td>\n",
       "      <td>0.772349</td>\n",
       "      <td>-0.438502</td>\n",
       "      <td>-0.732832</td>\n",
       "      <td>0.779201</td>\n",
       "      <td>0.426523</td>\n",
       "      <td>-1.288508</td>\n",
       "      <td>-0.476133</td>\n",
       "      <td>-0.277105</td>\n",
       "      <td>...</td>\n",
       "      <td>-0.471486</td>\n",
       "      <td>0.212998</td>\n",
       "      <td>-0.123230</td>\n",
       "      <td>0.625527</td>\n",
       "      <td>0.383198</td>\n",
       "      <td>0.212031</td>\n",
       "      <td>0.349225</td>\n",
       "      <td>-0.387439</td>\n",
       "      <td>-0.831461</td>\n",
       "      <td>0.323558</td>\n",
       "    </tr>\n",
       "    <tr>\n",
       "      <th>ACH-000008</th>\n",
       "      <td>0.379480</td>\n",
       "      <td>-0.596132</td>\n",
       "      <td>0.548056</td>\n",
       "      <td>0.422269</td>\n",
       "      <td>-0.216986</td>\n",
       "      <td>0.081866</td>\n",
       "      <td>0.145335</td>\n",
       "      <td>-0.570841</td>\n",
       "      <td>-0.512119</td>\n",
       "      <td>0.452698</td>\n",
       "      <td>...</td>\n",
       "      <td>-0.111951</td>\n",
       "      <td>0.534787</td>\n",
       "      <td>0.206642</td>\n",
       "      <td>-0.410153</td>\n",
       "      <td>-0.560722</td>\n",
       "      <td>-0.036088</td>\n",
       "      <td>0.158071</td>\n",
       "      <td>0.171043</td>\n",
       "      <td>-3.947090</td>\n",
       "      <td>0.099310</td>\n",
       "    </tr>\n",
       "    <tr>\n",
       "      <th>ACH-000010</th>\n",
       "      <td>0.118890</td>\n",
       "      <td>-0.231615</td>\n",
       "      <td>0.621937</td>\n",
       "      <td>-0.202707</td>\n",
       "      <td>-1.005139</td>\n",
       "      <td>-0.213739</td>\n",
       "      <td>0.020246</td>\n",
       "      <td>-0.795278</td>\n",
       "      <td>NaN</td>\n",
       "      <td>0.679571</td>\n",
       "      <td>...</td>\n",
       "      <td>0.200605</td>\n",
       "      <td>-0.075356</td>\n",
       "      <td>0.610310</td>\n",
       "      <td>-0.019413</td>\n",
       "      <td>-0.202971</td>\n",
       "      <td>0.218158</td>\n",
       "      <td>-0.411009</td>\n",
       "      <td>-0.181540</td>\n",
       "      <td>-3.010225</td>\n",
       "      <td>0.090652</td>\n",
       "    </tr>\n",
       "    <tr>\n",
       "      <th>ACH-000011</th>\n",
       "      <td>0.145346</td>\n",
       "      <td>-0.499274</td>\n",
       "      <td>0.267470</td>\n",
       "      <td>0.157804</td>\n",
       "      <td>-0.272286</td>\n",
       "      <td>0.207768</td>\n",
       "      <td>0.004464</td>\n",
       "      <td>-0.191680</td>\n",
       "      <td>-0.310375</td>\n",
       "      <td>0.112537</td>\n",
       "      <td>...</td>\n",
       "      <td>-0.076863</td>\n",
       "      <td>0.026002</td>\n",
       "      <td>0.139921</td>\n",
       "      <td>-0.261704</td>\n",
       "      <td>0.085339</td>\n",
       "      <td>0.447482</td>\n",
       "      <td>0.164620</td>\n",
       "      <td>-0.565251</td>\n",
       "      <td>-4.110627</td>\n",
       "      <td>0.222394</td>\n",
       "    </tr>\n",
       "  </tbody>\n",
       "</table>\n",
       "<p>5 rows × 4686 columns</p>\n",
       "</div>"
      ],
      "text/plain": [
       "            BRD-A00077618-236-07-6::2.5::HTS  \\\n",
       "ACH-000001                         -0.015577   \n",
       "ACH-000007                         -0.095730   \n",
       "ACH-000008                          0.379480   \n",
       "ACH-000010                          0.118890   \n",
       "ACH-000011                          0.145346   \n",
       "\n",
       "            BRD-A00100033-001-08-9::2.5::HTS  \\\n",
       "ACH-000001                         -0.449332   \n",
       "ACH-000007                          0.257943   \n",
       "ACH-000008                         -0.596132   \n",
       "ACH-000010                         -0.231615   \n",
       "ACH-000011                         -0.499274   \n",
       "\n",
       "            BRD-A00147595-001-01-5::2.5::HTS  \\\n",
       "ACH-000001                          0.489379   \n",
       "ACH-000007                          0.772349   \n",
       "ACH-000008                          0.548056   \n",
       "ACH-000010                          0.621937   \n",
       "ACH-000011                          0.267470   \n",
       "\n",
       "            BRD-A00218260-001-03-4::2.5::HTS  \\\n",
       "ACH-000001                          0.206675   \n",
       "ACH-000007                         -0.438502   \n",
       "ACH-000008                          0.422269   \n",
       "ACH-000010                         -0.202707   \n",
       "ACH-000011                          0.157804   \n",
       "\n",
       "            BRD-A00376169-001-01-6::2.5::HTS  \\\n",
       "ACH-000001                          0.272730   \n",
       "ACH-000007                         -0.732832   \n",
       "ACH-000008                         -0.216986   \n",
       "ACH-000010                         -1.005139   \n",
       "ACH-000011                         -0.272286   \n",
       "\n",
       "            BRD-A00520476-001-07-4::2.5::HTS  \\\n",
       "ACH-000001                          0.021036   \n",
       "ACH-000007                          0.779201   \n",
       "ACH-000008                          0.081866   \n",
       "ACH-000010                         -0.213739   \n",
       "ACH-000011                          0.207768   \n",
       "\n",
       "            BRD-A00546892-001-02-6::2.5::HTS  \\\n",
       "ACH-000001                         -0.025460   \n",
       "ACH-000007                          0.426523   \n",
       "ACH-000008                          0.145335   \n",
       "ACH-000010                          0.020246   \n",
       "ACH-000011                          0.004464   \n",
       "\n",
       "            BRD-A00578795-001-04-3::2.5::HTS  \\\n",
       "ACH-000001                          0.467158   \n",
       "ACH-000007                         -1.288508   \n",
       "ACH-000008                         -0.570841   \n",
       "ACH-000010                         -0.795278   \n",
       "ACH-000011                         -0.191680   \n",
       "\n",
       "            BRD-A00758722-001-04-9::2.5::HTS  \\\n",
       "ACH-000001                         -0.736306   \n",
       "ACH-000007                         -0.476133   \n",
       "ACH-000008                         -0.512119   \n",
       "ACH-000010                               NaN   \n",
       "ACH-000011                         -0.310375   \n",
       "\n",
       "            BRD-A00827783-001-24-6::2.5::HTS  ...  \\\n",
       "ACH-000001                          0.644137  ...   \n",
       "ACH-000007                         -0.277105  ...   \n",
       "ACH-000008                          0.452698  ...   \n",
       "ACH-000010                          0.679571  ...   \n",
       "ACH-000011                          0.112537  ...   \n",
       "\n",
       "            BRD-K98557884-001-01-6::2.5::MTS004  \\\n",
       "ACH-000001                             0.429238   \n",
       "ACH-000007                            -0.471486   \n",
       "ACH-000008                            -0.111951   \n",
       "ACH-000010                             0.200605   \n",
       "ACH-000011                            -0.076863   \n",
       "\n",
       "            BRD-K99077012-001-01-9::2.332734192::MTS004  \\\n",
       "ACH-000001                                     0.204841   \n",
       "ACH-000007                                     0.212998   \n",
       "ACH-000008                                     0.534787   \n",
       "ACH-000010                                    -0.075356   \n",
       "ACH-000011                                     0.026002   \n",
       "\n",
       "            BRD-K99199077-001-16-1::2.603211317::MTS004  \\\n",
       "ACH-000001                                     0.150055   \n",
       "ACH-000007                                    -0.123230   \n",
       "ACH-000008                                     0.206642   \n",
       "ACH-000010                                     0.610310   \n",
       "ACH-000011                                     0.139921   \n",
       "\n",
       "            BRD-K99431849-001-01-7::2.500018158::MTS004  \\\n",
       "ACH-000001                                    -0.575404   \n",
       "ACH-000007                                     0.625527   \n",
       "ACH-000008                                    -0.410153   \n",
       "ACH-000010                                    -0.019413   \n",
       "ACH-000011                                    -0.261704   \n",
       "\n",
       "            BRD-K99447003-335-04-1::2.37737659::MTS004  \\\n",
       "ACH-000001                                   -0.101247   \n",
       "ACH-000007                                    0.383198   \n",
       "ACH-000008                                   -0.560722   \n",
       "ACH-000010                                   -0.202971   \n",
       "ACH-000011                                    0.085339   \n",
       "\n",
       "            BRD-K99506538-001-03-8::2.5::MTS004  \\\n",
       "ACH-000001                             0.399233   \n",
       "ACH-000007                             0.212031   \n",
       "ACH-000008                            -0.036088   \n",
       "ACH-000010                             0.218158   \n",
       "ACH-000011                             0.447482   \n",
       "\n",
       "            BRD-K99616396-001-05-1::2.499991421::MTS004  \\\n",
       "ACH-000001                                    -0.127658   \n",
       "ACH-000007                                     0.349225   \n",
       "ACH-000008                                     0.158071   \n",
       "ACH-000010                                    -0.411009   \n",
       "ACH-000011                                     0.164620   \n",
       "\n",
       "            BRD-K99879819-001-02-1::2.5187366::MTS004  \\\n",
       "ACH-000001                                  -0.141651   \n",
       "ACH-000007                                  -0.387439   \n",
       "ACH-000008                                   0.171043   \n",
       "ACH-000010                                  -0.181540   \n",
       "ACH-000011                                  -0.565251   \n",
       "\n",
       "            BRD-K99919177-001-01-3::2.5::MTS004  \\\n",
       "ACH-000001                            -1.153652   \n",
       "ACH-000007                            -0.831461   \n",
       "ACH-000008                            -3.947090   \n",
       "ACH-000010                            -3.010225   \n",
       "ACH-000011                            -4.110627   \n",
       "\n",
       "            BRD-M63173034-001-03-6::2.64076472::MTS004  \n",
       "ACH-000001                                    0.510464  \n",
       "ACH-000007                                    0.323558  \n",
       "ACH-000008                                    0.099310  \n",
       "ACH-000010                                    0.090652  \n",
       "ACH-000011                                    0.222394  \n",
       "\n",
       "[5 rows x 4686 columns]"
      ]
     },
     "execution_count": 6,
     "metadata": {},
     "output_type": "execute_result"
    }
   ],
   "source": [
    "drugsens.head()"
   ]
  },
  {
   "cell_type": "code",
   "execution_count": 7,
   "id": "incorporate-accordance",
   "metadata": {},
   "outputs": [
    {
     "name": "stdout",
     "output_type": "stream",
     "text": [
      "<class 'pandas.core.frame.DataFrame'>\n",
      "Index: 808 entries, ACH-001172 to ACH-002510\n",
      "Columns: 18095 entries, A1BG to ZZZ3\n",
      "dtypes: float64(18095)\n",
      "memory usage: 111.6+ MB\n"
     ]
    }
   ],
   "source": [
    "bf = pd.read_table('./Data/table_Avana2020Q4_CRISPRcleanR_corrected_all', index_col=0)\n",
    "qbf = qnorm_dataframe( bf ).T\n",
    "qbf.info()"
   ]
  },
  {
   "cell_type": "code",
   "execution_count": 8,
   "id": "blond-activation",
   "metadata": {},
   "outputs": [
    {
     "name": "stdout",
     "output_type": "stream",
     "text": [
      "<class 'pandas.core.frame.DataFrame'>\n",
      "Index: 808 entries, ACH-001172 to ACH-002510\n",
      "Columns: 2918 entries, plasma_cell to CDH_VIM_lo\n",
      "dtypes: bool(2918)\n",
      "memory usage: 2.3+ MB\n"
     ]
    }
   ],
   "source": [
    "feats = pd.read_table('./Data/features-bool-deDuped-2918feats-808cells.txt', index_col=0)\n",
    "feats.info()"
   ]
  },
  {
   "cell_type": "code",
   "execution_count": 9,
   "id": "acquired-family",
   "metadata": {},
   "outputs": [
    {
     "data": {
      "text/plain": [
       "408"
      ]
     },
     "execution_count": 9,
     "metadata": {},
     "output_type": "execute_result"
    }
   ],
   "source": [
    "cell_lines_in_gdsc_and_avana = [x for x in qbf.index.values if x in drugsens.index.values]\n",
    "len(cell_lines_in_gdsc_and_avana)"
   ]
  },
  {
   "cell_type": "code",
   "execution_count": 10,
   "id": "specified-drawing",
   "metadata": {},
   "outputs": [],
   "source": [
    "drugsens = drugsens.loc[cell_lines_in_gdsc_and_avana]\n",
    "qbf = qbf.loc[cell_lines_in_gdsc_and_avana]\n",
    "feats = feats.loc[cell_lines_in_gdsc_and_avana]"
   ]
  },
  {
   "cell_type": "code",
   "execution_count": 11,
   "id": "marked-regulation",
   "metadata": {},
   "outputs": [
    {
     "name": "stdout",
     "output_type": "stream",
     "text": [
      "<class 'pandas.core.frame.DataFrame'>\n",
      "Index: 408 entries, ACH-001145 to ACH-000845\n",
      "Columns: 25699 entries, A1BG to CDH_VIM_lo\n",
      "dtypes: bool(2918), float64(22781)\n",
      "memory usage: 72.1+ MB\n"
     ]
    }
   ],
   "source": [
    "data = qbf.join(drugsens.join(feats, how='inner'), how='inner')\n",
    "data.info()"
   ]
  },
  {
   "cell_type": "code",
   "execution_count": 18,
   "id": "circular-feature",
   "metadata": {},
   "outputs": [
    {
     "data": {
      "image/png": "[encoded data removed]",
      "text/plain": [
       "<Figure size 108x144 with 1 Axes>"
      ]
     },
     "metadata": {
      "needs_background": "light"
     },
     "output_type": "display_data"
    },
    {
     "data": {
      "text/plain": [
       "broad_id                                   BRD-K25412176-001-01-9\n",
       "name                                                   GSK2110183\n",
       "dose                                                          2.5\n",
       "screen_id                                                     HTS\n",
       "moa                                                 AKT inhibitor\n",
       "target                                           AKT1, AKT2, AKT3\n",
       "disease.area                                                    -\n",
       "indication                                                      -\n",
       "smiles          Cn1ncc(Cl)c1-c1cc(sc1Cl)C(=O)N[C@H](CN)Cc1cccc...\n",
       "phase                                                     Phase 2\n",
       "Name: BRD-K25412176-001-01-9::2.5::HTS, dtype: object"
      ]
     },
     "execution_count": 18,
     "metadata": {},
     "output_type": "execute_result"
    }
   ],
   "source": [
    "gene = 'PIK3CA'\n",
    "drug = 'BRD-K25412176-001-01-9::2.5::HTS' # akti\n",
    "condition = 'PIK3CA_GOF'\n",
    "\n",
    "my_order = [False,True]\n",
    "\n",
    "my_palette = {True: sns.color_palette(\"tab10\")[1], False: sns.color_palette(\"tab10\")[7]}\n",
    "\n",
    "figure( figsize(1.5,2))\n",
    "ax = sns.violinplot( x=condition, y=drug, data=data, order=my_order, palette=my_palette)\n",
    "for violin in ax.collections[::2]:\n",
    "    violin.set_alpha(0.2)\n",
    "\n",
    "sns.stripplot( x=condition, y=drug, data=data, s=3, order=my_order, palette=my_palette)\n",
    "\n",
    "savefig('./Figures/Fig_4_I.pdf')\n",
    "savefig('./Figures/Fig_4_I.png')\n",
    "show()\n",
    "druginfo.loc[drug]"
   ]
  },
  {
   "cell_type": "code",
   "execution_count": 19,
   "id": "light-danger",
   "metadata": {},
   "outputs": [
    {
     "data": {
      "image/png": "[encoded data removed]",
      "text/plain": [
       "<Figure size 108x144 with 1 Axes>"
      ]
     },
     "metadata": {
      "needs_background": "light"
     },
     "output_type": "display_data"
    },
    {
     "data": {
      "text/plain": [
       "broad_id                                   BRD-K86118762-001-01-8\n",
       "name                                                   linsitinib\n",
       "dose                                                          2.5\n",
       "screen_id                                                     HTS\n",
       "moa                                               IGF-1 inhibitor\n",
       "target                                         IGF1R, INSR, INSRR\n",
       "disease.area                                                    -\n",
       "indication                                                      -\n",
       "smiles          C[C@@]1(O)C[C@@H](C1)c1nc(-c2ccc3ccc(nc3c2)-c2...\n",
       "phase                                                     Phase 3\n",
       "Name: BRD-K86118762-001-01-8::2.5::HTS, dtype: object"
      ]
     },
     "execution_count": 19,
     "metadata": {},
     "output_type": "execute_result"
    }
   ],
   "source": [
    "gene = 'IGF1R'\n",
    "drug = 'BRD-K86118762-001-01-8::2.5::HTS' #igf1r-i\n",
    "condition = 'PIK3CA_GOF'\n",
    "\n",
    "my_order = [False,True]\n",
    "\n",
    "my_palette = {True: sns.color_palette(\"tab10\")[1], False: sns.color_palette(\"tab10\")[7]}\n",
    "\n",
    "figure( figsize(1.5,2))\n",
    "ax = sns.violinplot( x=condition, y=drug, data=data, order=my_order, palette=my_palette)\n",
    "for violin in ax.collections[::2]:\n",
    "    violin.set_alpha(0.2)\n",
    "sns.stripplot( x=condition, y=drug, data=data, s=3, order=my_order, palette=my_palette)\n",
    "\n",
    "savefig('./Figures/Fig_4_J.pdf')\n",
    "savefig('./Figures/Fig_4_J.png')\n",
    "show()\n",
    "druginfo.loc[drug]"
   ]
  },
  {
   "cell_type": "code",
   "execution_count": 20,
   "id": "informal-blond",
   "metadata": {},
   "outputs": [
    {
     "data": {
      "image/png": "[encoded data removed]",
      "text/plain": [
       "<Figure size 360x360 with 1 Axes>"
      ]
     },
     "metadata": {
      "needs_background": "light"
     },
     "output_type": "display_data"
    }
   ],
   "source": [
    "#\n",
    "# IGF1R drug: BRD-K68065987-300-09-1::2.5::HTS\n",
    "#\n",
    "\n",
    "gene = 'IGF1R'\n",
    "drug = 'BRD-K86118762-001-01-8::2.5::HTS' # IGF1R-i\n",
    "condition = 'PIK3CA_GOF'\n",
    "\n",
    "figure( figsize(5,5))\n",
    "sns.scatterplot( x=gene, y=drug, data=data[ data[condition]==False], \n",
    "            color=sns.color_palette(\"tab10\")[7], s=20, alpha=.5)\n",
    "sns.scatterplot( x=gene, y=drug, data=data[ data[condition]==True], \n",
    "            color=sns.color_palette(\"tab10\")[1], s=20)\n",
    "sns.regplot( x=gene, y=drug, data=data[ data[condition]==False], \n",
    "            color=sns.color_palette(\"tab10\")[7],\n",
    "           scatter=False)\n",
    "sns.regplot( x=gene, y=drug, data=data[ data[condition]==True], \n",
    "            color=sns.color_palette(\"tab10\")[1], \n",
    "            scatter=False)\n",
    "#savefig('./Figures/Fig_4_K.pdf')\n",
    "#savefig('./Figures/Fig_4_K.png')\n",
    "show()"
   ]
  },
  {
   "cell_type": "code",
   "execution_count": null,
   "id": "mediterranean-stupid",
   "metadata": {},
   "outputs": [],
   "source": []
  },
  {
   "cell_type": "code",
   "execution_count": 21,
   "id": "unique-report",
   "metadata": {},
   "outputs": [
    {
     "data": {
      "image/png": "[encoded data removed]",
      "text/plain": [
       "<Figure size 108x144 with 1 Axes>"
      ]
     },
     "metadata": {
      "needs_background": "light"
     },
     "output_type": "display_data"
    },
    {
     "data": {
      "image/png": "[encoded data removed]",
      "text/plain": [
       "<Figure size 360x360 with 1 Axes>"
      ]
     },
     "metadata": {
      "needs_background": "light"
     },
     "output_type": "display_data"
    },
    {
     "data": {
      "text/plain": [
       "broad_id                                   BRD-K68065987-300-09-1\n",
       "name                                                      MK-2206\n",
       "dose                                                          2.5\n",
       "screen_id                                                     HTS\n",
       "moa                                                 AKT inhibitor\n",
       "target                                           AKT1, AKT2, AKT3\n",
       "disease.area                                                    -\n",
       "indication                                                      -\n",
       "smiles          NC1(CCC1)c1ccc(cc1)-c1nc2ccn3c(n[nH]c3=O)c2cc1...\n",
       "phase                                                     Phase 2\n",
       "Name: BRD-K68065987-300-09-1::2.5::HTS, dtype: object"
      ]
     },
     "execution_count": 21,
     "metadata": {},
     "output_type": "execute_result"
    }
   ],
   "source": [
    "#\n",
    "# AKTi drug: BRD-K68065987-300-09-1::2.5::HTS\n",
    "#\n",
    "# nice supplementary/extra figur: AKT1 essentiality is very rare, most likely\n",
    "# due to paralog buffering between AKT1/AKT2, and therefore poorly predictive\n",
    "# of drug response\n",
    "#\n",
    "\n",
    "gene = 'AKT1'\n",
    "drug = 'BRD-K68065987-300-09-1::2.5::HTS' # AKTi\n",
    "condition = 'PIK3CA_GOF'\n",
    "\n",
    "my_order = [False,True]\n",
    "\n",
    "my_palette = {True: sns.color_palette(\"tab10\")[1], False: sns.color_palette(\"tab10\")[7]}\n",
    "\n",
    "figure( figsize(1.5,2))\n",
    "ax = sns.violinplot( x=condition, y=drug, data=data, order=my_order, palette=my_palette)\n",
    "for violin in ax.collections[::2]:\n",
    "    violin.set_alpha(0.2)\n",
    "sns.stripplot( x=condition, y=drug, data=data, s=3, order=my_order, palette=my_palette)\n",
    "\n",
    "savefig('./Figures/Fig_4_K.pdf')\n",
    "savefig('./Figures/Fig_4_K.png')\n",
    "show()\n",
    "\n",
    "\n",
    "figure( figsize(5,5))\n",
    "sns.scatterplot( x=gene, y=drug, data=data, \n",
    "            color=sns.color_palette(\"tab10\")[7], s=20, alpha=.5)\n",
    "sns.scatterplot( x=gene, y=drug, data=data[ data[condition]==True], \n",
    "            color=sns.color_palette(\"tab10\")[1], s=20)\n",
    "sns.regplot( x=gene, y=drug, data=data, \n",
    "            color=sns.color_palette(\"tab10\")[7],\n",
    "           scatter=False)\n",
    "sns.regplot( x=gene, y=drug, data=data[ data[condition]==True], \n",
    "            color=sns.color_palette(\"tab10\")[1], \n",
    "            scatter=False)\n",
    "#savefig('./Figures/Fig_4_M.pdf')\n",
    "#savefig('./Figures/Fig_4_M.png')\n",
    "show()\n",
    "druginfo.loc[drug]"
   ]
  },
  {
   "cell_type": "code",
   "execution_count": null,
   "id": "champion-telephone",
   "metadata": {},
   "outputs": [],
   "source": []
  }
 ],
 "metadata": {
  "kernelspec": {
   "display_name": "Python 3",
   "language": "python",
   "name": "python3"
  },
  "language_info": {
   "codemirror_mode": {
    "name": "ipython",
    "version": 3
   },
   "file_extension": ".py",
   "mimetype": "text/x-python",
   "name": "python",
   "nbconvert_exporter": "python",
   "pygments_lexer": "ipython3",
   "version": "3.8.5"
  }
 },
 "nbformat": 4,
 "nbformat_minor": 5
}
