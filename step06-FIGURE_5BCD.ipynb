{
 "cells": [
  {
   "cell_type": "code",
   "execution_count": 1,
   "id": "wrapped-snake",
   "metadata": {},
   "outputs": [
    {
     "name": "stdout",
     "output_type": "stream",
     "text": [
      "Populating the interactive namespace from numpy and matplotlib\n"
     ]
    }
   ],
   "source": [
    "%pylab inline\n",
    "import pandas as pd"
   ]
  },
  {
   "cell_type": "code",
   "execution_count": 2,
   "id": "attractive-object",
   "metadata": {},
   "outputs": [],
   "source": [
    "import scipy.stats as stats\n",
    "import seaborn as sns"
   ]
  },
  {
   "cell_type": "code",
   "execution_count": 14,
   "id": "forbidden-start",
   "metadata": {},
   "outputs": [],
   "source": [
    "rcParams['pdf.fonttype']=42\n",
    "rcParams['font.family']='sans-serif'\n",
    "rcParams['font.size']=7"
   ]
  },
  {
   "cell_type": "code",
   "execution_count": 4,
   "id": "another-terminology",
   "metadata": {},
   "outputs": [],
   "source": [
    "def qnorm_dataframe( data ):\n",
    "\t\"\"\"\n",
    "\tquantile normalize a dataframe with numeric values only!\n",
    "\t\"\"\"\n",
    "\trank_mean = data.stack().groupby(data.rank(method='first').stack().astype(int)).mean()\n",
    "\tqnormed_data    = data.rank(method='min').stack().astype(int).map(rank_mean).unstack()\n",
    "\treturn qnormed_data"
   ]
  },
  {
   "cell_type": "code",
   "execution_count": 5,
   "id": "expanded-indiana",
   "metadata": {},
   "outputs": [
    {
     "name": "stdout",
     "output_type": "stream",
     "text": [
      "<class 'pandas.core.frame.DataFrame'>\n",
      "Index: 808 entries, ACH-001172 to ACH-002510\n",
      "Columns: 2918 entries, plasma_cell to CDH_VIM_lo\n",
      "dtypes: bool(2918)\n",
      "memory usage: 2.3+ MB\n"
     ]
    }
   ],
   "source": [
    "feats = pd.read_table('./Data/features-bool-deDuped-2918feats-808cells.txt', index_col=0)\n",
    "feats.info()"
   ]
  },
  {
   "cell_type": "code",
   "execution_count": 6,
   "id": "brazilian-spelling",
   "metadata": {},
   "outputs": [
    {
     "name": "stdout",
     "output_type": "stream",
     "text": [
      "<class 'pandas.core.frame.DataFrame'>\n",
      "Index: 808 entries, ACH-001172 to ACH-002510\n",
      "Columns: 18111 entries, A1BG to ZZZ3\n",
      "dtypes: float64(18111)\n",
      "memory usage: 111.7+ MB\n"
     ]
    }
   ],
   "source": [
    "bf = pd.read_table('./Data/table_Avana2020Q4_CRISPRcleanR_corrected_all', index_col=0)\n",
    "bf = bf.T\n",
    "bf.info()"
   ]
  },
  {
   "cell_type": "code",
   "execution_count": 7,
   "id": "abstract-bolivia",
   "metadata": {},
   "outputs": [],
   "source": [
    "qbf = qnorm_dataframe( bf.T ).T\n"
   ]
  },
  {
   "cell_type": "code",
   "execution_count": 8,
   "id": "every-blast",
   "metadata": {},
   "outputs": [
    {
     "name": "stdout",
     "output_type": "stream",
     "text": [
      "<class 'pandas.core.frame.DataFrame'>\n",
      "Index: 808 entries, ACH-001172 to ACH-002510\n",
      "Columns: 21013 entries, plasma_cell to ZZZ3\n",
      "dtypes: bool(2918), float64(18095)\n",
      "memory usage: 113.8+ MB\n"
     ]
    }
   ],
   "source": [
    "data = feats.join(qbf, how='inner')\n",
    "data.info()"
   ]
  },
  {
   "cell_type": "code",
   "execution_count": 9,
   "id": "thousand-premiere",
   "metadata": {},
   "outputs": [
    {
     "name": "stdout",
     "output_type": "stream",
     "text": [
      "<class 'pandas.core.frame.DataFrame'>\n",
      "RangeIndex: 12488 entries, 0 to 12487\n",
      "Data columns (total 7 columns):\n",
      " #   Column     Non-Null Count  Dtype  \n",
      "---  ------     --------------  -----  \n",
      " 0   Condition  12488 non-null  object \n",
      " 1   Gene1      12488 non-null  object \n",
      " 2   Gene2      12488 non-null  object \n",
      " 3   PCC_all    12488 non-null  float64\n",
      " 4   PCC_L1out  12488 non-null  float64\n",
      " 5   dPCC       12488 non-null  float64\n",
      " 6   Pval       12488 non-null  float64\n",
      "dtypes: float64(4), object(3)\n",
      "memory usage: 683.1+ KB\n"
     ]
    }
   ],
   "source": [
    "hits = pd.read_table('./highly-filtered-hits-12kEdges-133features-PCCge248-dPCCge100.txt', sep='\\t')\n",
    "hits.info()"
   ]
  },
  {
   "cell_type": "code",
   "execution_count": 15,
   "id": "dedicated-deficit",
   "metadata": {},
   "outputs": [
    {
     "data": {
      "image/png": "[encoded data removed]",
      "text/plain": [
       "<Figure size 144x144 with 1 Axes>"
      ]
     },
     "metadata": {
      "needs_background": "light"
     },
     "output_type": "display_data"
    }
   ],
   "source": [
    "figure( figsize(2,2))\n",
    "sns.scatterplot( x='CPD', y='IGF1R', data=data[ data.glioma==False], \n",
    "            color=sns.color_palette(\"tab10\")[7], s=15, alpha=.5)\n",
    "sns.scatterplot( x='CPD', y='IGF1R', data=data[ data.glioma==True], \n",
    "            color=sns.color_palette(\"tab10\")[2], s=15)\n",
    "sns.regplot( x='CPD', y='IGF1R', data=data[ data.glioma==True], \n",
    "            color=sns.color_palette(\"tab10\")[2], \n",
    "            scatter=False)\n",
    "            #scatter_kws={'s':4, 'alpha':0.5} )\n",
    "sns.regplot( x='CPD', y='IGF1R', data=data[ data.glioma==False], \n",
    "            color=sns.color_palette(\"tab10\")[7],\n",
    "           scatter=False)\n",
    "            #scatter_kws={'s':4})\n",
    "savefig('./Figures/Fig_5_B.pdf')\n",
    "savefig('./Figures/Fig_5_B.png')\n",
    "show()"
   ]
  },
  {
   "cell_type": "code",
   "execution_count": 16,
   "id": "recreational-might",
   "metadata": {},
   "outputs": [
    {
     "data": {
      "image/png": "[encoded data removed]",
      "text/plain": [
       "<Figure size 144x144 with 1 Axes>"
      ]
     },
     "metadata": {
      "needs_background": "light"
     },
     "output_type": "display_data"
    }
   ],
   "source": [
    "figure( figsize(2,2))\n",
    "sns.scatterplot( x='CPD', y='FURIN', data=data[ data.glioma==False], \n",
    "            color=sns.color_palette(\"tab10\")[7], s=15, alpha=.5)\n",
    "sns.scatterplot( x='CPD', y='FURIN', data=data[ data.glioma==True], \n",
    "            color=sns.color_palette(\"tab10\")[2], s=15)\n",
    "sns.regplot( x='CPD', y='FURIN', data=data[ data.glioma==True], \n",
    "            color=sns.color_palette(\"tab10\")[2], \n",
    "            scatter=False)\n",
    "            #scatter_kws={'s':4, 'alpha':0.5} )\n",
    "sns.regplot( x='CPD', y='FURIN', data=data[ data.glioma==False], \n",
    "            color=sns.color_palette(\"tab10\")[7],\n",
    "           scatter=False)\n",
    "            #scatter_kws={'s':4})\n",
    "savefig('./Figures/Fig_5_C.pdf')\n",
    "savefig('./Figures/Fig_5_C.png')\n",
    "show()"
   ]
  },
  {
   "cell_type": "code",
   "execution_count": 17,
   "id": "artificial-journey",
   "metadata": {},
   "outputs": [
    {
     "data": {
      "image/png": "[encoded data removed]",
      "text/plain": [
       "<Figure size 144x144 with 1 Axes>"
      ]
     },
     "metadata": {
      "needs_background": "light"
     },
     "output_type": "display_data"
    }
   ],
   "source": [
    "figure( figsize(2,2))\n",
    "sns.scatterplot( x='CPD', y='MET', data=data[ data.glioma==False], \n",
    "            color=sns.color_palette(\"tab10\")[7], s=15, alpha=.5)\n",
    "sns.scatterplot( x='CPD', y='MET', data=data[ data.glioma==True], \n",
    "            color=sns.color_palette(\"tab10\")[2], s=15)\n",
    "sns.regplot( x='CPD', y='MET', data=data[ data.glioma==True], \n",
    "            color=sns.color_palette(\"tab10\")[2], \n",
    "            scatter=False)\n",
    "            #scatter_kws={'s':4, 'alpha':0.5} )\n",
    "sns.regplot( x='CPD', y='MET', data=data[ data.glioma==False], \n",
    "            color=sns.color_palette(\"tab10\")[7],\n",
    "           scatter=False)\n",
    "            #scatter_kws={'s':4})\n",
    "savefig('./Figures/Fig_5_D.pdf')\n",
    "savefig('./Figures/Fig_5_D.png')\n",
    "show()"
   ]
  },
  {
   "cell_type": "code",
   "execution_count": 11,
   "id": "precious-engineering",
   "metadata": {},
   "outputs": [
    {
     "data": {
      "image/png": "[encoded data removed]",
      "text/plain": [
       "<Figure size 216x144 with 1 Axes>"
      ]
     },
     "metadata": {
      "needs_background": "light"
     },
     "output_type": "display_data"
    }
   ],
   "source": [
    "figure( figsize(3,2))\n",
    "bar( [0], [1], facecolor=sns.color_palette(\"tab10\")[0])\n",
    "bar( [1], [1], facecolor=sns.color_palette(\"tab10\")[1])\n",
    "bar( [2], [1], facecolor=sns.color_palette(\"tab10\")[2])\n",
    "#xticks( [0,1,2], ['LOF','GOF','Tissue/\\nTumor'], rotation=45)\n",
    "#savefig('./Figures/Fig_3_palette.pdf')\n",
    "#savefig('./Figures/Fig_3_palette.png')\n",
    "show()"
   ]
  },
  {
   "cell_type": "code",
   "execution_count": 17,
   "id": "rocky-integer",
   "metadata": {},
   "outputs": [
    {
     "data": {
      "text/html": [
       "<svg  width=\"550\" height=\"55\"><rect x=\"0\" y=\"0\" width=\"55\" height=\"55\" style=\"fill:#1f77b4;stroke-width:2;stroke:rgb(255,255,255)\"/><rect x=\"55\" y=\"0\" width=\"55\" height=\"55\" style=\"fill:#ff7f0e;stroke-width:2;stroke:rgb(255,255,255)\"/><rect x=\"110\" y=\"0\" width=\"55\" height=\"55\" style=\"fill:#2ca02c;stroke-width:2;stroke:rgb(255,255,255)\"/><rect x=\"165\" y=\"0\" width=\"55\" height=\"55\" style=\"fill:#d62728;stroke-width:2;stroke:rgb(255,255,255)\"/><rect x=\"220\" y=\"0\" width=\"55\" height=\"55\" style=\"fill:#9467bd;stroke-width:2;stroke:rgb(255,255,255)\"/><rect x=\"275\" y=\"0\" width=\"55\" height=\"55\" style=\"fill:#8c564b;stroke-width:2;stroke:rgb(255,255,255)\"/><rect x=\"330\" y=\"0\" width=\"55\" height=\"55\" style=\"fill:#e377c2;stroke-width:2;stroke:rgb(255,255,255)\"/><rect x=\"385\" y=\"0\" width=\"55\" height=\"55\" style=\"fill:#7f7f7f;stroke-width:2;stroke:rgb(255,255,255)\"/><rect x=\"440\" y=\"0\" width=\"55\" height=\"55\" style=\"fill:#bcbd22;stroke-width:2;stroke:rgb(255,255,255)\"/><rect x=\"495\" y=\"0\" width=\"55\" height=\"55\" style=\"fill:#17becf;stroke-width:2;stroke:rgb(255,255,255)\"/></svg>"
      ],
      "text/plain": [
       "[(0.12156862745098039, 0.4666666666666667, 0.7058823529411765),\n",
       " (1.0, 0.4980392156862745, 0.054901960784313725),\n",
       " (0.17254901960784313, 0.6274509803921569, 0.17254901960784313),\n",
       " (0.8392156862745098, 0.15294117647058825, 0.1568627450980392),\n",
       " (0.5803921568627451, 0.403921568627451, 0.7411764705882353),\n",
       " (0.5490196078431373, 0.33725490196078434, 0.29411764705882354),\n",
       " (0.8901960784313725, 0.4666666666666667, 0.7607843137254902),\n",
       " (0.4980392156862745, 0.4980392156862745, 0.4980392156862745),\n",
       " (0.7372549019607844, 0.7411764705882353, 0.13333333333333333),\n",
       " (0.09019607843137255, 0.7450980392156863, 0.8117647058823529)]"
      ]
     },
     "execution_count": 17,
     "metadata": {},
     "output_type": "execute_result"
    }
   ],
   "source": [
    "sns.color_palette(\"tab10\")"
   ]
  },
  {
   "cell_type": "raw",
   "id": "identified-vitamin",
   "metadata": {},
   "source": [
    "from dPCC-PIK3CA_GOF.txt.gz\n",
    "\n",
    "\n",
    "Gene1\tGene2\tPCC_all\tPCC_L1out\tdPCC\tnRandom_dPCC_GT_Obs\n",
    "PIK3CA\tRICTOR\t0.215\t0.150\t0.065\t0.000\n",
    "AKT1\tPIK3CA\t0.204\t0.122\t0.082\t0.000\n",
    "PDPK1\tPIK3CA\t0.074\t0.040\t0.033\t3.000"
   ]
  },
  {
   "cell_type": "code",
   "execution_count": null,
   "id": "furnished-attention",
   "metadata": {},
   "outputs": [],
   "source": []
  }
 ],
 "metadata": {
  "kernelspec": {
   "display_name": "Python 3",
   "language": "python",
   "name": "python3"
  },
  "language_info": {
   "codemirror_mode": {
    "name": "ipython",
    "version": 3
   },
   "file_extension": ".py",
   "mimetype": "text/x-python",
   "name": "python",
   "nbconvert_exporter": "python",
   "pygments_lexer": "ipython3",
   "version": "3.8.5"
  }
 },
 "nbformat": 4,
 "nbformat_minor": 5
}
